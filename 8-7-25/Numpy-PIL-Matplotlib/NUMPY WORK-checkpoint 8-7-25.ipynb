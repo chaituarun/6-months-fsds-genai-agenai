{
 "cells": [
  {
   "cell_type": "markdown",
   "id": "434b1bb0-3ed4-4c59-add9-4028ae33b29a",
   "metadata": {},
   "source": [
    "1.Numpy Code"
   ]
  },
  {
   "cell_type": "code",
   "execution_count": 1,
   "id": "78b3a072-9a53-404c-b0d6-712863cfa998",
   "metadata": {},
   "outputs": [],
   "source": [
    "import numpy as np"
   ]
  },
  {
   "cell_type": "code",
   "execution_count": 3,
   "id": "ebeca2ef-f2b5-408c-b5b3-3765ceb9caea",
   "metadata": {},
   "outputs": [
    {
     "data": {
      "text/plain": [
       "array([ 1,  2,  3,  4,  5,  6,  7,  8,  9, 10, 11, 12])"
      ]
     },
     "execution_count": 3,
     "metadata": {},
     "output_type": "execute_result"
    }
   ],
   "source": [
    "import numpy as np\n",
    "\n",
    "arr = np.array([1, 2, 3, 4, 5, 6, 7, 8, 9, 10, 11, 12])\n",
    "arr"
   ]
  },
  {
   "cell_type": "code",
   "execution_count": 5,
   "id": "ac424228-cdd3-4ed3-b727-586b5e0cece9",
   "metadata": {},
   "outputs": [
    {
     "name": "stdout",
     "output_type": "stream",
     "text": [
      "[[[ 1  2]\n",
      "  [ 3  4]\n",
      "  [ 5  6]]\n",
      "\n",
      " [[ 7  8]\n",
      "  [ 9 10]\n",
      "  [11 12]]]\n",
      "[[ 1  2  3]\n",
      " [ 4  5  6]\n",
      " [ 7  8  9]\n",
      " [10 11 12]]\n"
     ]
    }
   ],
   "source": [
    "newarr1 = arr.reshape(2, 3, 2) \n",
    "newarr2 = arr.reshape(4,3)\n",
    "print(newarr1)\n",
    "print(newarr2)"
   ]
  },
  {
   "cell_type": "code",
   "execution_count": 7,
   "id": "55c96394-a9f5-4ea3-ae45-008546c28c90",
   "metadata": {},
   "outputs": [
    {
     "data": {
      "text/plain": [
       "array([[[ 1,  2],\n",
       "        [ 3,  4],\n",
       "        [ 5,  6]],\n",
       "\n",
       "       [[ 7,  8],\n",
       "        [ 9, 10],\n",
       "        [11, 12]]])"
      ]
     },
     "execution_count": 7,
     "metadata": {},
     "output_type": "execute_result"
    }
   ],
   "source": [
    "newarr1"
   ]
  },
  {
   "cell_type": "code",
   "execution_count": 11,
   "id": "1b241cda-b523-4243-93cb-a10a547ae4fd",
   "metadata": {},
   "outputs": [
    {
     "name": "stdout",
     "output_type": "stream",
     "text": [
      "[Ellipsis, 2]\n"
     ]
    }
   ],
   "source": [
    "newarr1 = [...,2]\n",
    "print(newarr1)"
   ]
  },
  {
   "cell_type": "raw",
   "id": "e8f9ea0a-0517-441d-86a3-e3e215c01996",
   "metadata": {},
   "source": [
    "2.[]"
   ]
  },
  {
   "cell_type": "code",
   "execution_count": 13,
   "id": "6312e820-b81e-49d4-9178-412b3baa8671",
   "metadata": {},
   "outputs": [],
   "source": [
    "import numpy as np"
   ]
  },
  {
   "cell_type": "code",
   "execution_count": 15,
   "id": "452ec089-5188-4bf7-a1b4-c97342fe4531",
   "metadata": {},
   "outputs": [
    {
     "name": "stdout",
     "output_type": "stream",
     "text": [
      "[ 0  1  2  3  4  5  6  7  8  9 10 11 12 13 14 15 16 17 18 19]\n"
     ]
    }
   ],
   "source": [
    "b = np.arange(0,20)\n",
    "print(b)"
   ]
  },
  {
   "cell_type": "code",
   "execution_count": 17,
   "id": "f33d9ec7-9e65-4e46-9753-2ce562775db8",
   "metadata": {},
   "outputs": [
    {
     "name": "stdout",
     "output_type": "stream",
     "text": [
      "[[ 0  1  2  3]\n",
      " [ 4  5  6  7]\n",
      " [ 8  9 10 11]\n",
      " [12 13 14 15]\n",
      " [16 17 18 19]]\n"
     ]
    }
   ],
   "source": [
    "b1 = np.reshape(b,(5,4))\n",
    "print(b1)"
   ]
  },
  {
   "cell_type": "code",
   "execution_count": 19,
   "id": "6a882546-b736-46f0-9ec6-033ce557ffb2",
   "metadata": {},
   "outputs": [
    {
     "data": {
      "text/plain": [
       "0"
      ]
     },
     "execution_count": 19,
     "metadata": {},
     "output_type": "execute_result"
    }
   ],
   "source": [
    "b1[0,0]"
   ]
  },
  {
   "cell_type": "code",
   "execution_count": 21,
   "id": "b01a2c75-6b58-4f60-88df-34dd364555ff",
   "metadata": {},
   "outputs": [
    {
     "data": {
      "text/plain": [
       "array([16, 17, 18, 19])"
      ]
     },
     "execution_count": 21,
     "metadata": {},
     "output_type": "execute_result"
    }
   ],
   "source": [
    "b1[-1]"
   ]
  },
  {
   "cell_type": "code",
   "execution_count": 23,
   "id": "9d9bc3ff-dcf8-4315-966a-4b8e344f566a",
   "metadata": {},
   "outputs": [
    {
     "data": {
      "text/plain": [
       "array([[ 5,  6,  7],\n",
       "       [ 9, 10, 11]])"
      ]
     },
     "execution_count": 23,
     "metadata": {},
     "output_type": "execute_result"
    }
   ],
   "source": [
    "b1[1:3, 1:4]"
   ]
  },
  {
   "cell_type": "code",
   "execution_count": 25,
   "id": "88da4d3a-18fc-4bff-b74f-ea6b828c51d9",
   "metadata": {},
   "outputs": [
    {
     "data": {
      "text/plain": [
       "array([[ 0,  1,  2,  3],\n",
       "       [ 4,  5,  6,  7],\n",
       "       [ 8,  9, 10, 11],\n",
       "       [12, 13, 14, 15],\n",
       "       [16, 17, 18, 19]])"
      ]
     },
     "execution_count": 25,
     "metadata": {},
     "output_type": "execute_result"
    }
   ],
   "source": [
    "b1"
   ]
  },
  {
   "cell_type": "code",
   "execution_count": 27,
   "id": "7057e84d-694a-4dcf-8c3b-25f67e451390",
   "metadata": {},
   "outputs": [
    {
     "data": {
      "text/plain": [
       "array([[False, False, False, False],\n",
       "       [False, False, False, False],\n",
       "       [False, False, False, False],\n",
       "       [False, False, False, False],\n",
       "       [ True,  True,  True,  True]])"
      ]
     },
     "execution_count": 27,
     "metadata": {},
     "output_type": "execute_result"
    }
   ],
   "source": [
    "b1>15"
   ]
  },
  {
   "cell_type": "code",
   "execution_count": 29,
   "id": "4a5bc97b-316b-4440-b84a-e75c7418cb9e",
   "metadata": {},
   "outputs": [
    {
     "data": {
      "text/plain": [
       "array([[ True,  True,  True,  True],\n",
       "       [ True,  True,  True,  True],\n",
       "       [ True,  True,  True,  True],\n",
       "       [ True,  True,  True, False],\n",
       "       [False, False, False, False]])"
      ]
     },
     "execution_count": 29,
     "metadata": {},
     "output_type": "execute_result"
    }
   ],
   "source": [
    "b1<15"
   ]
  },
  {
   "cell_type": "code",
   "execution_count": 31,
   "id": "f03b11a8-85c2-44c8-a41f-677d2cafcb90",
   "metadata": {},
   "outputs": [
    {
     "name": "stdout",
     "output_type": "stream",
     "text": [
      "[[ 0  1  2  3  4]\n",
      " [10 11 12 13 14]\n",
      " [20 21 22 23 24]\n",
      " [30 31 32 33 34]]\n"
     ]
    }
   ],
   "source": [
    "a = np.array([ [ 0, 1, 2, 3, 4],[10,11,12,13,14],[20,21,22,23,24],[30,31,32,33,34] ])\n",
    "c = np.array( [True,False,True,False] ) \n",
    "print(a)"
   ]
  },
  {
   "cell_type": "code",
   "execution_count": 33,
   "id": "a43146b6-f37a-418e-a1d5-a749ad5e55cf",
   "metadata": {},
   "outputs": [
    {
     "data": {
      "text/plain": [
       "array([ True, False,  True, False])"
      ]
     },
     "execution_count": 33,
     "metadata": {},
     "output_type": "execute_result"
    }
   ],
   "source": [
    "c"
   ]
  },
  {
   "cell_type": "code",
   "execution_count": 35,
   "id": "0e128802-5b07-4839-86c1-045e3a9a26eb",
   "metadata": {},
   "outputs": [
    {
     "data": {
      "text/plain": [
       "array([[ 0,  1,  2,  3,  4],\n",
       "       [20, 21, 22, 23, 24]])"
      ]
     },
     "execution_count": 35,
     "metadata": {},
     "output_type": "execute_result"
    }
   ],
   "source": [
    "a[c,:]"
   ]
  },
  {
   "cell_type": "code",
   "execution_count": 37,
   "id": "e9e1e4f0-61d2-4684-be66-65ca5e0c60c7",
   "metadata": {},
   "outputs": [
    {
     "data": {
      "text/plain": [
       "array([[ 1,  2,  4],\n",
       "       [11, 12, 14],\n",
       "       [21, 22, 24],\n",
       "       [31, 32, 34]])"
      ]
     },
     "execution_count": 37,
     "metadata": {},
     "output_type": "execute_result"
    }
   ],
   "source": [
    "d =  np.array([False,True,True,False,True])  # boolean column selector\n",
    "a[:,d]"
   ]
  },
  {
   "cell_type": "code",
   "execution_count": 39,
   "id": "eb23b893-9fa9-4681-b62a-c3b44c4fec85",
   "metadata": {},
   "outputs": [
    {
     "data": {
      "text/plain": [
       "array([[ 0,  1,  2,  3,  4],\n",
       "       [10, 11, 12, 13, 14],\n",
       "       [20, 21, 22, 23, 24],\n",
       "       [30, 31, 32, 33, 34]])"
      ]
     },
     "execution_count": 39,
     "metadata": {},
     "output_type": "execute_result"
    }
   ],
   "source": [
    "a"
   ]
  },
  {
   "cell_type": "code",
   "execution_count": 51,
   "id": "a2da70e2-6f37-491b-ba13-6cf8f648727c",
   "metadata": {},
   "outputs": [],
   "source": [
    "i = np.array([0, 1, 2, 1])\n",
    "j = np.array([1,2,3,3]) "
   ]
  },
  {
   "cell_type": "code",
   "execution_count": 53,
   "id": "d33e0b4c-a656-49ba-a390-042ec8bc085b",
   "metadata": {},
   "outputs": [
    {
     "data": {
      "text/plain": [
       "array([ 1, 12, 23, 13])"
      ]
     },
     "execution_count": 53,
     "metadata": {},
     "output_type": "execute_result"
    }
   ],
   "source": [
    "a[i,j]"
   ]
  },
  {
   "cell_type": "code",
   "execution_count": 55,
   "id": "143be3db-b59e-4af8-a7f9-0b451367b5af",
   "metadata": {},
   "outputs": [
    {
     "data": {
      "text/plain": [
       "array([[ 0,  1,  2,  3,  4],\n",
       "       [10, 11, 12, 13, 14],\n",
       "       [20, 21, 22, 23, 24],\n",
       "       [10, 11, 12, 13, 14]])"
      ]
     },
     "execution_count": 55,
     "metadata": {},
     "output_type": "execute_result"
    }
   ],
   "source": [
    "a[i]"
   ]
  },
  {
   "cell_type": "code",
   "execution_count": 57,
   "id": "787bb6b4-41ba-4a34-b667-62eed9521d8c",
   "metadata": {},
   "outputs": [
    {
     "data": {
      "text/plain": [
       "array([[10, 11, 12, 13, 14],\n",
       "       [20, 21, 22, 23, 24],\n",
       "       [30, 31, 32, 33, 34],\n",
       "       [30, 31, 32, 33, 34]])"
      ]
     },
     "execution_count": 57,
     "metadata": {},
     "output_type": "execute_result"
    }
   ],
   "source": [
    "a[j]"
   ]
  },
  {
   "cell_type": "code",
   "execution_count": 59,
   "id": "130c0589-94ff-4868-9bbb-d4727a3aef24",
   "metadata": {},
   "outputs": [
    {
     "data": {
      "text/plain": [
       "array([ 1, 12, 23, 13])"
      ]
     },
     "execution_count": 59,
     "metadata": {},
     "output_type": "execute_result"
    }
   ],
   "source": [
    "a[i,j]"
   ]
  },
  {
   "cell_type": "code",
   "execution_count": 62,
   "id": "172a5637-70b8-4606-b854-70b80fa953b8",
   "metadata": {},
   "outputs": [
    {
     "data": {
      "text/plain": [
       "array([[ 0,  1,  2,  3,  4],\n",
       "       [10, 11, 12, 13, 14],\n",
       "       [20, 21, 22, 23, 24],\n",
       "       [30, 31, 32, 33, 34]])"
      ]
     },
     "execution_count": 62,
     "metadata": {},
     "output_type": "execute_result"
    }
   ],
   "source": [
    "a"
   ]
  },
  {
   "cell_type": "markdown",
   "id": "c71e06a5-2050-4328-9920-f89c71e2131e",
   "metadata": {},
   "source": [
    "3. abs() & 4. ABSOLUTE "
   ]
  },
  {
   "cell_type": "code",
   "execution_count": 64,
   "id": "8c0a0559-4568-4dd8-8ad6-72baccfd7b47",
   "metadata": {},
   "outputs": [],
   "source": [
    "import numpy as np"
   ]
  },
  {
   "cell_type": "code",
   "execution_count": 66,
   "id": "abd7e05f-90e1-4a18-8990-2d43193b431d",
   "metadata": {},
   "outputs": [
    {
     "data": {
      "text/plain": [
       "array([[-4, -3, -2],\n",
       "       [-1,  0,  1],\n",
       "       [ 2,  3,  4]])"
      ]
     },
     "execution_count": 66,
     "metadata": {},
     "output_type": "execute_result"
    }
   ],
   "source": [
    "ARR = np.arange(-4,5).reshape(3,3)\n",
    "ARR"
   ]
  },
  {
   "cell_type": "code",
   "execution_count": 72,
   "id": "fe55311e-8de5-4f89-aff3-61b9a68c956b",
   "metadata": {},
   "outputs": [
    {
     "data": {
      "text/plain": [
       "array([[4, 3, 2],\n",
       "       [1, 0, 1],\n",
       "       [2, 3, 4]])"
      ]
     },
     "execution_count": 72,
     "metadata": {},
     "output_type": "execute_result"
    }
   ],
   "source": [
    "abs(ARR)"
   ]
  },
  {
   "cell_type": "code",
   "execution_count": 74,
   "id": "7eba2756-f947-41bc-9b49-ffadf9af106b",
   "metadata": {},
   "outputs": [
    {
     "data": {
      "text/plain": [
       "(1.2+5j)"
      ]
     },
     "execution_count": 74,
     "metadata": {},
     "output_type": "execute_result"
    }
   ],
   "source": [
    "ARR1 = 1.2 + 5j\n",
    "ARR1"
   ]
  },
  {
   "cell_type": "code",
   "execution_count": 76,
   "id": "ecf3e4f5-fb17-44ef-87d6-4521b2329ca2",
   "metadata": {},
   "outputs": [
    {
     "data": {
      "text/plain": [
       "5.141984052872976"
      ]
     },
     "execution_count": 76,
     "metadata": {},
     "output_type": "execute_result"
    }
   ],
   "source": [
    "abs(ARR1)"
   ]
  },
  {
   "cell_type": "code",
   "execution_count": 78,
   "id": "137bb012-98bb-450c-ae17-9bc12621b0a2",
   "metadata": {},
   "outputs": [
    {
     "data": {
      "text/plain": [
       "5.141984052872976"
      ]
     },
     "execution_count": 78,
     "metadata": {},
     "output_type": "execute_result"
    }
   ],
   "source": [
    "np.absolute(ARR1)"
   ]
  },
  {
   "cell_type": "code",
   "execution_count": 82,
   "id": "1a5f362d-e258-4617-a16a-89992e1d773c",
   "metadata": {},
   "outputs": [
    {
     "data": {
      "text/plain": [
       "array([10, 15])"
      ]
     },
     "execution_count": 82,
     "metadata": {},
     "output_type": "execute_result"
    }
   ],
   "source": [
    "np.absolute([-10,-15])"
   ]
  },
  {
   "cell_type": "markdown",
   "id": "0f2443c8-4a89-423d-bc95-b1b55f098dda",
   "metadata": {},
   "source": [
    "5. accumulate"
   ]
  },
  {
   "cell_type": "code",
   "execution_count": 84,
   "id": "33cccda6-59f5-48c2-8f53-60de2e9ce3b1",
   "metadata": {},
   "outputs": [],
   "source": [
    "import numpy as np"
   ]
  },
  {
   "cell_type": "code",
   "execution_count": 86,
   "id": "11ada7ce-1d32-4579-922e-3effa4e9baea",
   "metadata": {},
   "outputs": [
    {
     "name": "stdout",
     "output_type": "stream",
     "text": [
      "[0 1 2 3 4 5 6 7 8 9]\n"
     ]
    }
   ],
   "source": [
    "A1 = np.arange(0,10) \n",
    "print(A1)"
   ]
  },
  {
   "cell_type": "code",
   "execution_count": 88,
   "id": "e66844c3-fce2-40dc-b0dd-4454b96cfb3b",
   "metadata": {},
   "outputs": [
    {
     "data": {
      "text/plain": [
       "array([ 0,  1,  3,  6, 10, 15, 21, 28, 36, 45])"
      ]
     },
     "execution_count": 88,
     "metadata": {},
     "output_type": "execute_result"
    }
   ],
   "source": [
    "np.add.accumulate(A1)"
   ]
  },
  {
   "cell_type": "code",
   "execution_count": 90,
   "id": "ee6dda34-1a0f-48c4-bfa3-3a0d3b1c6f06",
   "metadata": {},
   "outputs": [],
   "source": [
    "A2 = np.arange(1,6)"
   ]
  },
  {
   "cell_type": "code",
   "execution_count": 92,
   "id": "d924efee-8078-441a-ab7e-25e5b53e3583",
   "metadata": {},
   "outputs": [
    {
     "data": {
      "text/plain": [
       "array([1, 2, 3, 4, 5])"
      ]
     },
     "execution_count": 92,
     "metadata": {},
     "output_type": "execute_result"
    }
   ],
   "source": [
    "A2"
   ]
  },
  {
   "cell_type": "code",
   "execution_count": 94,
   "id": "4c7c94de-bb0c-4d22-b999-3f9d601b102f",
   "metadata": {},
   "outputs": [
    {
     "data": {
      "text/plain": [
       "array([  1,   2,   6,  24, 120])"
      ]
     },
     "execution_count": 94,
     "metadata": {},
     "output_type": "execute_result"
    }
   ],
   "source": [
    "np.multiply.accumulate(A2)"
   ]
  },
  {
   "cell_type": "code",
   "execution_count": 96,
   "id": "aa086df0-a39b-4859-9b30-3c0656212e0f",
   "metadata": {},
   "outputs": [
    {
     "data": {
      "text/plain": [
       "array([[1, 2, 3],\n",
       "       [4, 5, 6]])"
      ]
     },
     "execution_count": 96,
     "metadata": {},
     "output_type": "execute_result"
    }
   ],
   "source": [
    "AC = np.array([[1,2,3],[4,5,6]])\n",
    "AC"
   ]
  },
  {
   "cell_type": "code",
   "execution_count": 98,
   "id": "958dd0c0-a9a7-400c-8482-a041cb59d9b4",
   "metadata": {},
   "outputs": [
    {
     "data": {
      "text/plain": [
       "array([[1, 2, 3],\n",
       "       [5, 7, 9]])"
      ]
     },
     "execution_count": 98,
     "metadata": {},
     "output_type": "execute_result"
    }
   ],
   "source": [
    "np.add.accumulate(AC)"
   ]
  },
  {
   "cell_type": "code",
   "execution_count": 102,
   "id": "fd92667b-c794-4460-a626-32c3e4e779b7",
   "metadata": {},
   "outputs": [
    {
     "data": {
      "text/plain": [
       "array([[ 1,  2,  3],\n",
       "       [ 4, 10, 18]])"
      ]
     },
     "execution_count": 102,
     "metadata": {},
     "output_type": "execute_result"
    }
   ],
   "source": [
    "np.multiply.accumulate(AC)"
   ]
  },
  {
   "cell_type": "markdown",
   "id": "26dc1db0-07c9-4613-912d-72461e7b079f",
   "metadata": {},
   "source": [
    "6. add"
   ]
  },
  {
   "cell_type": "code",
   "execution_count": 105,
   "id": "d4fe3ec1-193a-4727-82e9-dd6a3266ddbe",
   "metadata": {},
   "outputs": [],
   "source": [
    "import numpy as np"
   ]
  },
  {
   "cell_type": "code",
   "execution_count": 107,
   "id": "7afdfd9f-c684-4f33-acaa-7dfa12bb371d",
   "metadata": {},
   "outputs": [
    {
     "name": "stdout",
     "output_type": "stream",
     "text": [
      "[2, -6] [1, 3] [2.2, 8.7] [7, -3]\n"
     ]
    }
   ],
   "source": [
    "ar1 = [2, -6]\n",
    "ar2 = [1, 3]\n",
    "ar3 = [2.2, 8.7]\n",
    "ar4 = [7, -3]\n",
    "print(ar1, ar2, ar3,  ar4)"
   ]
  },
  {
   "cell_type": "code",
   "execution_count": 109,
   "id": "d7b24097-bb69-4a4a-9312-a68c1200a3e9",
   "metadata": {},
   "outputs": [
    {
     "data": {
      "text/plain": [
       "array([ 3, -3])"
      ]
     },
     "execution_count": 109,
     "metadata": {},
     "output_type": "execute_result"
    }
   ],
   "source": [
    "np.add(ar1, ar2)"
   ]
  },
  {
   "cell_type": "code",
   "execution_count": 111,
   "id": "21a57c36-9b72-4d72-91a6-9f05ebbfd97d",
   "metadata": {},
   "outputs": [
    {
     "data": {
      "text/plain": [
       "array([9.2, 5.7])"
      ]
     },
     "execution_count": 111,
     "metadata": {},
     "output_type": "execute_result"
    }
   ],
   "source": [
    "np.add(ar3, ar4)"
   ]
  },
  {
   "cell_type": "code",
   "execution_count": 113,
   "id": "bb8cc3ff-19b2-4a44-bc54-d5f2473d6a5a",
   "metadata": {},
   "outputs": [
    {
     "data": {
      "text/plain": [
       "(5+2j)"
      ]
     },
     "execution_count": 113,
     "metadata": {},
     "output_type": "execute_result"
    }
   ],
   "source": [
    "c1=5+2j\n",
    "c1\n"
   ]
  },
  {
   "cell_type": "code",
   "execution_count": 115,
   "id": "c9cb2578-9c3a-450a-a8c7-8c6143c9e8f1",
   "metadata": {},
   "outputs": [
    {
     "data": {
      "text/plain": [
       "array([ 7.2+2.j, 13.7+2.j])"
      ]
     },
     "execution_count": 115,
     "metadata": {},
     "output_type": "execute_result"
    }
   ],
   "source": [
    "np.add(ar3,c1)"
   ]
  },
  {
   "cell_type": "markdown",
   "id": "14ab1b67-c261-4acc-a07d-180e16e576d3",
   "metadata": {},
   "source": [
    "7. All"
   ]
  },
  {
   "cell_type": "code",
   "execution_count": 117,
   "id": "8e6db229-340d-47e2-999e-b7202e6f6b70",
   "metadata": {},
   "outputs": [
    {
     "data": {
      "text/plain": [
       "array([0, 1, 2, 3, 4, 5, 6, 7, 8, 9])"
      ]
     },
     "execution_count": 117,
     "metadata": {},
     "output_type": "execute_result"
    }
   ],
   "source": [
    "a = np.arange(0,10)\n",
    "a"
   ]
  },
  {
   "cell_type": "code",
   "execution_count": 119,
   "id": "7414e3a2-1548-4c4b-b6d4-e9b8996ab7ce",
   "metadata": {},
   "outputs": [
    {
     "data": {
      "text/plain": [
       "False"
      ]
     },
     "execution_count": 119,
     "metadata": {},
     "output_type": "execute_result"
    }
   ],
   "source": [
    "np.all(a>5)"
   ]
  },
  {
   "cell_type": "code",
   "execution_count": 121,
   "id": "1a673fbb-89a8-4bfc-8728-4755bc49ec44",
   "metadata": {},
   "outputs": [
    {
     "data": {
      "text/plain": [
       "True"
      ]
     },
     "execution_count": 121,
     "metadata": {},
     "output_type": "execute_result"
    }
   ],
   "source": [
    "np.all(a>=0)"
   ]
  },
  {
   "cell_type": "code",
   "execution_count": 123,
   "id": "5ef98f33-bc98-4e10-94e5-6acc2be9c163",
   "metadata": {},
   "outputs": [
    {
     "data": {
      "text/plain": [
       "False"
      ]
     },
     "execution_count": 123,
     "metadata": {},
     "output_type": "execute_result"
    }
   ],
   "source": [
    "b7 = np.array([True, False, True, True])\n",
    "np.all(b7)"
   ]
  },
  {
   "cell_type": "markdown",
   "id": "8cbc5229-32f8-41c7-acce-d64da985bc70",
   "metadata": {},
   "source": [
    "8. Allclose"
   ]
  },
  {
   "cell_type": "code",
   "execution_count": 125,
   "id": "f0e92f25-e1d1-4b81-af37-406989bf4307",
   "metadata": {},
   "outputs": [
    {
     "data": {
      "text/plain": [
       "False"
      ]
     },
     "execution_count": 125,
     "metadata": {},
     "output_type": "execute_result"
    }
   ],
   "source": [
    "np.allclose([0.1, 0.003], [0.11, 0.003])"
   ]
  },
  {
   "cell_type": "code",
   "execution_count": 127,
   "id": "c2f524bb-6ecf-4c0c-a4cd-a83c253bd897",
   "metadata": {},
   "outputs": [
    {
     "data": {
      "text/plain": [
       "True"
      ]
     },
     "execution_count": 127,
     "metadata": {},
     "output_type": "execute_result"
    }
   ],
   "source": [
    "np.allclose([0.11, 0.0033], [0.11000005, 0.00330001])"
   ]
  },
  {
   "cell_type": "code",
   "execution_count": 129,
   "id": "1d162a03-a601-4cc3-9016-552b12db1dc4",
   "metadata": {},
   "outputs": [
    {
     "data": {
      "text/plain": [
       "False"
      ]
     },
     "execution_count": 129,
     "metadata": {},
     "output_type": "execute_result"
    }
   ],
   "source": [
    "np.allclose([1e10,1e-8], [1.0001e10,1e-9])"
   ]
  },
  {
   "cell_type": "code",
   "execution_count": 131,
   "id": "49858390-0ed9-4bbf-96f6-28e12d47e11f",
   "metadata": {},
   "outputs": [
    {
     "data": {
      "text/plain": [
       "True"
      ]
     },
     "execution_count": 131,
     "metadata": {},
     "output_type": "execute_result"
    }
   ],
   "source": [
    "np.allclose([1e10,1e-8], [1.00001e10,1e-9])"
   ]
  },
  {
   "cell_type": "markdown",
   "id": "834cf395-247a-4882-b7dd-507523183e64",
   "metadata": {},
   "source": [
    "9. alltrue"
   ]
  },
  {
   "cell_type": "code",
   "execution_count": 133,
   "id": "2983918a-9b3c-4c79-84c9-55b2b668b66c",
   "metadata": {},
   "outputs": [
    {
     "data": {
      "text/plain": [
       "False"
      ]
     },
     "execution_count": 133,
     "metadata": {},
     "output_type": "execute_result"
    }
   ],
   "source": [
    "b = np.array([True, False, True, True])\n",
    "np.alltrue(b)"
   ]
  },
  {
   "cell_type": "code",
   "execution_count": 135,
   "id": "f927722a-996b-4ea9-b228-b4d079e2dcb4",
   "metadata": {},
   "outputs": [
    {
     "data": {
      "text/plain": [
       "False"
      ]
     },
     "execution_count": 135,
     "metadata": {},
     "output_type": "execute_result"
    }
   ],
   "source": [
    "a = np.array([1, 5, 2, 7])\n",
    "np.alltrue(a >= 5)"
   ]
  },
  {
   "cell_type": "code",
   "execution_count": 137,
   "id": "c6bfaea1-0bf6-4ba7-99be-6f2016c74135",
   "metadata": {},
   "outputs": [
    {
     "data": {
      "text/plain": [
       "True"
      ]
     },
     "execution_count": 137,
     "metadata": {},
     "output_type": "execute_result"
    }
   ],
   "source": [
    "np.alltrue(a>0)"
   ]
  },
  {
   "cell_type": "markdown",
   "id": "55d81690-8c4b-4dca-bbc2-3d4c6510cd60",
   "metadata": {},
   "source": [
    "10.Angle"
   ]
  },
  {
   "cell_type": "code",
   "execution_count": 139,
   "id": "5a7335cb-a7fe-41a3-8291-f3208fd12678",
   "metadata": {},
   "outputs": [
    {
     "data": {
      "text/plain": [
       "array([0.5404195 , 1.57079633, 0.        ])"
      ]
     },
     "execution_count": 139,
     "metadata": {},
     "output_type": "execute_result"
    }
   ],
   "source": [
    "np.angle([5+3j, 1j, 1.0])"
   ]
  },
  {
   "cell_type": "code",
   "execution_count": 141,
   "id": "6bc217c6-d5ac-4292-b940-8180f2567bfd",
   "metadata": {},
   "outputs": [
    {
     "data": {
      "text/plain": [
       "array([30.96375653, 90.        ,  0.        ])"
      ]
     },
     "execution_count": 141,
     "metadata": {},
     "output_type": "execute_result"
    }
   ],
   "source": [
    "np.angle([5+3j, 1j, 1.0], deg=True)"
   ]
  },
  {
   "cell_type": "code",
   "execution_count": 147,
   "id": "726d9695-ab21-4778-bfcf-b2a930be7545",
   "metadata": {},
   "outputs": [
    {
     "data": {
      "text/plain": [
       "45.0"
      ]
     },
     "execution_count": 147,
     "metadata": {},
     "output_type": "execute_result"
    }
   ],
   "source": [
    "np.angle(1+1j,deg=True)"
   ]
  },
  {
   "cell_type": "code",
   "execution_count": 145,
   "id": "e06700c1-017e-46af-84a2-87e1f423e73a",
   "metadata": {},
   "outputs": [
    {
     "data": {
      "text/plain": [
       "0.7853981633974483"
      ]
     },
     "execution_count": 145,
     "metadata": {},
     "output_type": "execute_result"
    }
   ],
   "source": [
    "\n",
    "np.angle(1+1j,deg=False)"
   ]
  },
  {
   "cell_type": "markdown",
   "id": "ee05d6f6-59c2-4b46-a80d-a28de3a4f341",
   "metadata": {},
   "source": [
    "11. Any"
   ]
  },
  {
   "cell_type": "code",
   "execution_count": 149,
   "id": "6344511b-aa55-4587-89fb-14c33b4ea5a7",
   "metadata": {},
   "outputs": [],
   "source": [
    "c2 = np.array([True, False, True])"
   ]
  },
  {
   "cell_type": "code",
   "execution_count": 151,
   "id": "ae0a2d48-4301-4204-bb61-6db4bae3d8eb",
   "metadata": {},
   "outputs": [
    {
     "data": {
      "text/plain": [
       "True"
      ]
     },
     "execution_count": 151,
     "metadata": {},
     "output_type": "execute_result"
    }
   ],
   "source": [
    "np.any(c2)"
   ]
  },
  {
   "cell_type": "code",
   "execution_count": 153,
   "id": "3b52d7c8-1d6d-4054-b5ca-45f78d7f46cf",
   "metadata": {},
   "outputs": [
    {
     "data": {
      "text/plain": [
       "array([0, 1, 2, 3, 4, 5, 6, 7, 8, 9])"
      ]
     },
     "execution_count": 153,
     "metadata": {},
     "output_type": "execute_result"
    }
   ],
   "source": [
    "c3= np.arange(0,10)\n",
    "c3"
   ]
  },
  {
   "cell_type": "code",
   "execution_count": 155,
   "id": "fa1f959e-e834-487b-a8ce-775727f463fb",
   "metadata": {},
   "outputs": [
    {
     "data": {
      "text/plain": [
       "True"
      ]
     },
     "execution_count": 155,
     "metadata": {},
     "output_type": "execute_result"
    }
   ],
   "source": [
    "any(c3>=5)"
   ]
  },
  {
   "cell_type": "markdown",
   "id": "4533bd9c-ffc5-4c6b-aee7-6755791bdb76",
   "metadata": {},
   "source": [
    "12. Append"
   ]
  },
  {
   "cell_type": "code",
   "execution_count": 157,
   "id": "1108b5bd-50e6-404f-b235-5e38e2801cd8",
   "metadata": {},
   "outputs": [],
   "source": [
    "c3= np.append([1, 2, 3], [[4, 5, 6], [7, 8, 9]])"
   ]
  },
  {
   "cell_type": "code",
   "execution_count": 159,
   "id": "b31bfbab-16f5-4954-91eb-66322ab390e2",
   "metadata": {},
   "outputs": [
    {
     "data": {
      "text/plain": [
       "array([1, 2, 3, 4, 5, 6, 7, 8, 9])"
      ]
     },
     "execution_count": 159,
     "metadata": {},
     "output_type": "execute_result"
    }
   ],
   "source": [
    "c3"
   ]
  },
  {
   "cell_type": "code",
   "execution_count": 161,
   "id": "0d06c037-0a3f-4347-bfe5-2146be0e06b4",
   "metadata": {},
   "outputs": [
    {
     "data": {
      "text/plain": [
       "array([ 1,  2,  3,  4,  5,  6,  7,  8,  9, 10])"
      ]
     },
     "execution_count": 161,
     "metadata": {},
     "output_type": "execute_result"
    }
   ],
   "source": [
    "c5 =np.append(c3, 10)\n",
    "c5"
   ]
  },
  {
   "cell_type": "code",
   "execution_count": 163,
   "id": "6cc815ef-94ed-407d-a2b1-db4da5aadf71",
   "metadata": {},
   "outputs": [
    {
     "data": {
      "text/plain": [
       "array(['1', '2', '3', '4', '5', '6', '7', '8', '9', '10', 'ABC', '(1+2j)'],\n",
       "      dtype='<U64')"
      ]
     },
     "execution_count": 163,
     "metadata": {},
     "output_type": "execute_result"
    }
   ],
   "source": [
    "np.append(c5, ('ABC', 1 +2j))"
   ]
  },
  {
   "cell_type": "code",
   "execution_count": 165,
   "id": "0e76c05d-170c-4905-9c1c-68b625df9fef",
   "metadata": {},
   "outputs": [
    {
     "data": {
      "text/plain": [
       "array([10, 20, 30, 40, 50, 60])"
      ]
     },
     "execution_count": 165,
     "metadata": {},
     "output_type": "execute_result"
    }
   ],
   "source": [
    "c9= np.arange(10, 61, 10)\n",
    "c9"
   ]
  },
  {
   "cell_type": "code",
   "execution_count": 167,
   "id": "d412dce1-3e84-4f0d-99ec-31aa589293ef",
   "metadata": {},
   "outputs": [
    {
     "data": {
      "text/plain": [
       "array([10, 20, 30, 40, 50, 60, 70, 80, 90])"
      ]
     },
     "execution_count": 167,
     "metadata": {},
     "output_type": "execute_result"
    }
   ],
   "source": [
    "np.append(c9, (70, 80, 90))"
   ]
  },
  {
   "cell_type": "code",
   "execution_count": 169,
   "id": "cca4e508-8f99-4dff-a190-5b19e0de9e41",
   "metadata": {},
   "outputs": [
    {
     "data": {
      "text/plain": [
       "array([[10, 20, 30],\n",
       "       [40, 50, 60]])"
      ]
     },
     "execution_count": 169,
     "metadata": {},
     "output_type": "execute_result"
    }
   ],
   "source": [
    "c10 =np.reshape(c9, (2,3))\n",
    "c10"
   ]
  },
  {
   "cell_type": "code",
   "execution_count": 173,
   "id": "c73b7c64-e34b-4b2e-90cc-26fe4c503891",
   "metadata": {},
   "outputs": [
    {
     "data": {
      "text/plain": [
       "array([[10, 20, 30],\n",
       "       [40, 50, 60],\n",
       "       [70, 80, 90]])"
      ]
     },
     "execution_count": 173,
     "metadata": {},
     "output_type": "execute_result"
    }
   ],
   "source": [
    "c11 = np.append(c10, [[70, 80, 90]], axis = 0)\n",
    "c11"
   ]
  },
  {
   "cell_type": "code",
   "execution_count": 175,
   "id": "9389dd26-eb94-4a10-9c63-d09e8547be27",
   "metadata": {},
   "outputs": [
    {
     "data": {
      "text/plain": [
       "array([[ 10,  20,  30, 100],\n",
       "       [ 40,  50,  60, 120],\n",
       "       [ 70,  80,  90, 130]])"
      ]
     },
     "execution_count": 175,
     "metadata": {},
     "output_type": "execute_result"
    }
   ],
   "source": [
    "c13 = np.append(c11, [[100], [120], [130]], axis = 1) \n",
    "c13"
   ]
  },
  {
   "cell_type": "markdown",
   "id": "1bc659aa-05dc-413c-aeca-563f8cf67d94",
   "metadata": {},
   "source": [
    "13. apply_along_axis"
   ]
  },
  {
   "cell_type": "code",
   "execution_count": 177,
   "id": "91e2547d-7a5a-428d-a434-fc3970e2f5f9",
   "metadata": {},
   "outputs": [
    {
     "data": {
      "text/plain": [
       "array([[1, 2, 3],\n",
       "       [4, 5, 6],\n",
       "       [7, 8, 9]])"
      ]
     },
     "execution_count": 177,
     "metadata": {},
     "output_type": "execute_result"
    }
   ],
   "source": [
    "def func1(Q): \n",
    "    return (Q[0] + Q[-1])\n",
    "abc = np.array([[1,2,3], [4, 5, 6], [7, 8, 9]])\n",
    "abc"
   ]
  },
  {
   "cell_type": "code",
   "execution_count": 179,
   "id": "49bc0360-e0b3-4bba-9951-42a735f728f4",
   "metadata": {},
   "outputs": [
    {
     "data": {
      "text/plain": [
       "array([ 8, 10, 12])"
      ]
     },
     "execution_count": 179,
     "metadata": {},
     "output_type": "execute_result"
    }
   ],
   "source": [
    "np.apply_along_axis(func1,0,abc)"
   ]
  },
  {
   "cell_type": "code",
   "execution_count": 181,
   "id": "8d40efaa-9f2e-4bb0-b584-e7a00fe996f0",
   "metadata": {},
   "outputs": [
    {
     "data": {
      "text/plain": [
       "array([ 4, 10, 16])"
      ]
     },
     "execution_count": 181,
     "metadata": {},
     "output_type": "execute_result"
    }
   ],
   "source": [
    "np.apply_along_axis(func1,1,abc)"
   ]
  },
  {
   "cell_type": "code",
   "execution_count": 183,
   "id": "5f0b6ce7-4cb8-4540-8974-19c55c0358cc",
   "metadata": {},
   "outputs": [
    {
     "data": {
      "text/plain": [
       "array([[1, 2, 3],\n",
       "       [4, 5, 6],\n",
       "       [7, 8, 9]])"
      ]
     },
     "execution_count": 183,
     "metadata": {},
     "output_type": "execute_result"
    }
   ],
   "source": [
    "def func2(P): #2\n",
    "    return (P[0] + P[-1])*2\n",
    "abc1 = np.array([[1,2,3], [4, 5, 6], [7, 8, 9]])\n",
    "abc1"
   ]
  },
  {
   "cell_type": "code",
   "execution_count": 185,
   "id": "5bdd7a8c-af4a-4548-b3cd-66a0157972f3",
   "metadata": {},
   "outputs": [
    {
     "data": {
      "text/plain": [
       "array([16, 20, 24])"
      ]
     },
     "execution_count": 185,
     "metadata": {},
     "output_type": "execute_result"
    }
   ],
   "source": [
    "np.apply_along_axis(func2,0,abc1)"
   ]
  },
  {
   "cell_type": "code",
   "execution_count": 187,
   "id": "330b509c-7eb8-4c65-abda-b6a1e86d79aa",
   "metadata": {},
   "outputs": [
    {
     "data": {
      "text/plain": [
       "array([ 8, 20, 32])"
      ]
     },
     "execution_count": 187,
     "metadata": {},
     "output_type": "execute_result"
    }
   ],
   "source": [
    "np.apply_along_axis(func2,1,abc1)"
   ]
  },
  {
   "cell_type": "raw",
   "id": "1b2ca1d1-12d6-4aba-acce-9faac65aebf6",
   "metadata": {},
   "source": [
    "14. apply_over_axes()"
   ]
  },
  {
   "cell_type": "code",
   "execution_count": 189,
   "id": "084fb6de-60de-4e06-9838-dba7a2626a34",
   "metadata": {},
   "outputs": [
    {
     "data": {
      "text/plain": [
       "array([ 0,  1,  2,  3,  4,  5,  6,  7,  8,  9, 10, 11, 12, 13, 14, 15, 16,\n",
       "       17, 18, 19, 20, 21, 22, 23])"
      ]
     },
     "execution_count": 189,
     "metadata": {},
     "output_type": "execute_result"
    }
   ],
   "source": [
    "D = np.arange(24)\n",
    "D"
   ]
  },
  {
   "cell_type": "code",
   "execution_count": 191,
   "id": "08b61a71-8002-4da6-aed5-5e6c01988527",
   "metadata": {},
   "outputs": [
    {
     "data": {
      "text/plain": [
       "array([[[ 0,  1,  2,  3],\n",
       "        [ 4,  5,  6,  7],\n",
       "        [ 8,  9, 10, 11]],\n",
       "\n",
       "       [[12, 13, 14, 15],\n",
       "        [16, 17, 18, 19],\n",
       "        [20, 21, 22, 23]]])"
      ]
     },
     "execution_count": 191,
     "metadata": {},
     "output_type": "execute_result"
    }
   ],
   "source": [
    "D=np.reshape(D, (2,3,4))\n",
    "D"
   ]
  },
  {
   "cell_type": "code",
   "execution_count": 193,
   "id": "1bd9689d-e817-42ad-bbe3-a565d2e7e782",
   "metadata": {},
   "outputs": [
    {
     "data": {
      "text/plain": [
       "array([[[ 60],\n",
       "        [ 92],\n",
       "        [124]]])"
      ]
     },
     "execution_count": 193,
     "metadata": {},
     "output_type": "execute_result"
    }
   ],
   "source": [
    "DQ = np.apply_over_axes(np.sum, D, [0,2])\n",
    "DQ"
   ]
  },
  {
   "cell_type": "markdown",
   "id": "10cf6912-5a92-4bfe-a43b-8ac9d5bcda52",
   "metadata": {},
   "source": [
    "15. arrange"
   ]
  },
  {
   "cell_type": "code",
   "execution_count": 195,
   "id": "58d0ad8a-2efa-4bc0-b92e-6183e56b48d2",
   "metadata": {},
   "outputs": [
    {
     "data": {
      "text/plain": [
       "array([0, 1, 2, 3, 4, 5, 6, 7, 8])"
      ]
     },
     "execution_count": 195,
     "metadata": {},
     "output_type": "execute_result"
    }
   ],
   "source": [
    "np.arange(9)"
   ]
  },
  {
   "cell_type": "code",
   "execution_count": 197,
   "id": "dfc56886-00f5-43ef-8150-358a55d2d25c",
   "metadata": {},
   "outputs": [
    {
     "data": {
      "text/plain": [
       "array([ 0.,  1.,  2.,  3.,  4.,  5.,  6.,  7.,  8.,  9., 10.])"
      ]
     },
     "execution_count": 197,
     "metadata": {},
     "output_type": "execute_result"
    }
   ],
   "source": [
    "np.arange(11.0)"
   ]
  },
  {
   "cell_type": "code",
   "execution_count": 201,
   "id": "007ab16b-1e11-45b1-8840-4c3ac2f75511",
   "metadata": {},
   "outputs": [
    {
     "data": {
      "text/plain": [
       "array([0., 1., 2., 3., 4., 5., 6., 7.])"
      ]
     },
     "execution_count": 201,
     "metadata": {},
     "output_type": "execute_result"
    }
   ],
   "source": [
    "np.arange(8, dtype=float)"
   ]
  },
  {
   "cell_type": "code",
   "execution_count": 203,
   "id": "f80be1e3-09c3-4a7c-8a26-1f3c2ce6e5b4",
   "metadata": {},
   "outputs": [
    {
     "data": {
      "text/plain": [
       "array([5, 6, 7, 8, 9])"
      ]
     },
     "execution_count": 203,
     "metadata": {},
     "output_type": "execute_result"
    }
   ],
   "source": [
    "np.arange(5,10)"
   ]
  },
  {
   "cell_type": "code",
   "execution_count": 205,
   "id": "2286c44e-b28b-476f-b52a-b58901a69bba",
   "metadata": {},
   "outputs": [
    {
     "data": {
      "text/plain": [
       "array([ 3, 12, 21])"
      ]
     },
     "execution_count": 205,
     "metadata": {},
     "output_type": "execute_result"
    }
   ],
   "source": [
    "np.arange(3,30,9)"
   ]
  },
  {
   "cell_type": "markdown",
   "id": "0b7c0930-abfc-4dbe-a945-2d4884c67996",
   "metadata": {},
   "source": [
    "16. arccos"
   ]
  },
  {
   "cell_type": "code",
   "execution_count": 207,
   "id": "8e093fda-d44e-494d-8d4d-bfa3feff9548",
   "metadata": {},
   "outputs": [
    {
     "data": {
      "text/plain": [
       "array([0.        , 3.14159265])"
      ]
     },
     "execution_count": 207,
     "metadata": {},
     "output_type": "execute_result"
    }
   ],
   "source": [
    "np.arccos([1, -1]) "
   ]
  },
  {
   "cell_type": "markdown",
   "id": "a9837664-7b0e-4f18-9af8-db41a6efe462",
   "metadata": {},
   "source": [
    "17. arccosh"
   ]
  },
  {
   "cell_type": "code",
   "execution_count": 209,
   "id": "25a5cc3a-d501-4c33-ac4e-672736de532e",
   "metadata": {},
   "outputs": [
    {
     "data": {
      "text/plain": [
       "array([1.65745445, 2.99322285])"
      ]
     },
     "execution_count": 209,
     "metadata": {},
     "output_type": "execute_result"
    }
   ],
   "source": [
    "np.arccosh([np.e, 10.0])"
   ]
  },
  {
   "cell_type": "code",
   "execution_count": 211,
   "id": "922d09fe-d7e3-478f-a459-ed25b2a98c13",
   "metadata": {},
   "outputs": [
    {
     "data": {
      "text/plain": [
       "0.0"
      ]
     },
     "execution_count": 211,
     "metadata": {},
     "output_type": "execute_result"
    }
   ],
   "source": [
    "np.arccosh(1)"
   ]
  },
  {
   "cell_type": "markdown",
   "id": "2dff72b4-f887-4d05-b3c3-b8d3e68aef57",
   "metadata": {},
   "source": [
    "18. arcsin"
   ]
  },
  {
   "cell_type": "code",
   "execution_count": 213,
   "id": "bb354906-c83f-4725-85fa-3a2cf2805a0f",
   "metadata": {},
   "outputs": [
    {
     "data": {
      "text/plain": [
       "array([ 1.57079633, -1.57079633,  0.        ])"
      ]
     },
     "execution_count": 213,
     "metadata": {},
     "output_type": "execute_result"
    }
   ],
   "source": [
    "np.arcsin([1, -1, 0])"
   ]
  },
  {
   "cell_type": "markdown",
   "id": "5a236ef6-282e-4081-99af-622dcd8ba472",
   "metadata": {},
   "source": [
    "20. arctan"
   ]
  },
  {
   "cell_type": "code",
   "execution_count": 215,
   "id": "68cd86df-fcd8-4e36-a2d0-dac4a4cf67a2",
   "metadata": {},
   "outputs": [
    {
     "data": {
      "text/plain": [
       "array([ 0.        ,  0.78539816, -0.78539816])"
      ]
     },
     "execution_count": 215,
     "metadata": {},
     "output_type": "execute_result"
    }
   ],
   "source": [
    "np.arctan([0, 1, -1])"
   ]
  },
  {
   "cell_type": "markdown",
   "id": "5c3f6db5-924b-42bf-bb89-c56f9d5ad320",
   "metadata": {},
   "source": [
    "21. arctan2"
   ]
  },
  {
   "cell_type": "code",
   "execution_count": 217,
   "id": "07123dd5-309a-4b5f-a552-3509a2559611",
   "metadata": {},
   "outputs": [
    {
     "data": {
      "text/plain": [
       "array([-135.,  -45.,   45.,  135.])"
      ]
     },
     "execution_count": 217,
     "metadata": {},
     "output_type": "execute_result"
    }
   ],
   "source": [
    "x = np.array([-1, +1, +1, -1])\n",
    "y = np.array([-1, -1, +1, +1])\n",
    "np.arctan2(y, x) * 180 / np.pi "
   ]
  },
  {
   "cell_type": "code",
   "execution_count": 219,
   "id": "99773d87-f87d-4db8-ae12-b6973a9a2240",
   "metadata": {},
   "outputs": [
    {
     "data": {
      "text/plain": [
       "array([-2.35619449, -0.78539816,  0.78539816,  2.35619449])"
      ]
     },
     "execution_count": 219,
     "metadata": {},
     "output_type": "execute_result"
    }
   ],
   "source": [
    "np.arctan2(y, x)"
   ]
  },
  {
   "cell_type": "code",
   "execution_count": 221,
   "id": "b278d783-5e37-4683-a910-1c147cf7baf6",
   "metadata": {},
   "outputs": [
    {
     "data": {
      "text/plain": [
       "array([ 1.57079633, -1.57079633])"
      ]
     },
     "execution_count": 221,
     "metadata": {},
     "output_type": "execute_result"
    }
   ],
   "source": [
    "np.arctan2([1., -1.], [0., 0.])"
   ]
  },
  {
   "cell_type": "code",
   "execution_count": 223,
   "id": "926508ab-bfd0-487c-b120-ae2c00daee9c",
   "metadata": {},
   "outputs": [
    {
     "data": {
      "text/plain": [
       "array([0.        , 1.57079633])"
      ]
     },
     "execution_count": 223,
     "metadata": {},
     "output_type": "execute_result"
    }
   ],
   "source": [
    "np.arctan2([0, 1], [1, 0])"
   ]
  },
  {
   "cell_type": "markdown",
   "id": "3d884977-f76e-402a-b24b-c83dedd8e3ff",
   "metadata": {},
   "source": [
    "22. arctanh"
   ]
  },
  {
   "cell_type": "code",
   "execution_count": 225,
   "id": "ec89672f-5bc7-4219-8431-9c20bf784739",
   "metadata": {},
   "outputs": [
    {
     "data": {
      "text/plain": [
       "array([ 0.        , -0.54930614])"
      ]
     },
     "execution_count": 225,
     "metadata": {},
     "output_type": "execute_result"
    }
   ],
   "source": [
    "np.arctanh([0, -0.5])"
   ]
  },
  {
   "cell_type": "markdown",
   "id": "fcea1212-6ffb-4d38-bb45-e44bb11cb3a2",
   "metadata": {},
   "source": [
    "23. argmax"
   ]
  },
  {
   "cell_type": "code",
   "execution_count": 227,
   "id": "b380c570-d4c6-43ff-949c-2d3672206de1",
   "metadata": {},
   "outputs": [],
   "source": [
    "J =np.array([0, 11, 95, 2, -5, 55])"
   ]
  },
  {
   "cell_type": "code",
   "execution_count": 230,
   "id": "f882807b-7da9-4f58-b11a-1413aa649c02",
   "metadata": {},
   "outputs": [
    {
     "data": {
      "text/plain": [
       "array([1, 2, 3, 3])"
      ]
     },
     "execution_count": 230,
     "metadata": {},
     "output_type": "execute_result"
    }
   ],
   "source": [
    "j"
   ]
  },
  {
   "cell_type": "code",
   "execution_count": 232,
   "id": "61128287-0086-4ab3-b603-c901f018ddb5",
   "metadata": {},
   "outputs": [
    {
     "data": {
      "text/plain": [
       "2"
      ]
     },
     "execution_count": 232,
     "metadata": {},
     "output_type": "execute_result"
    }
   ],
   "source": [
    "np.argmax(J)"
   ]
  },
  {
   "cell_type": "code",
   "execution_count": 234,
   "id": "9968e417-41be-4606-83ae-f1d3541ca106",
   "metadata": {},
   "outputs": [
    {
     "data": {
      "text/plain": [
       "array([[10, 11, 12],\n",
       "       [13, 14, 15]])"
      ]
     },
     "execution_count": 234,
     "metadata": {},
     "output_type": "execute_result"
    }
   ],
   "source": [
    "j1 = np.arange(6).reshape(2,3) +10\n",
    "j1"
   ]
  },
  {
   "cell_type": "code",
   "execution_count": 236,
   "id": "f29c4f0d-7865-4469-b596-848fe4bcbcf9",
   "metadata": {},
   "outputs": [
    {
     "data": {
      "text/plain": [
       "5"
      ]
     },
     "execution_count": 236,
     "metadata": {},
     "output_type": "execute_result"
    }
   ],
   "source": [
    "np.argmax(j1)"
   ]
  },
  {
   "cell_type": "code",
   "execution_count": 242,
   "id": "76dc28fd-a0db-48f8-8d90-c4d6dc0274b4",
   "metadata": {},
   "outputs": [
    {
     "data": {
      "text/plain": [
       "array([[10, 50, 30],\n",
       "       [60, 20, 60]])"
      ]
     },
     "execution_count": 242,
     "metadata": {},
     "output_type": "execute_result"
    }
   ],
   "source": [
    "j2=np.array([[10,50,30],[60,20,60]])\n",
    "j2"
   ]
  },
  {
   "cell_type": "code",
   "execution_count": 248,
   "id": "ad9f4bda-a6ea-41b6-af8f-26cd85fe587b",
   "metadata": {},
   "outputs": [
    {
     "data": {
      "text/plain": [
       "array([[ 1,  9,  0,  4],\n",
       "       [ 2,  0,  8, -1]])"
      ]
     },
     "execution_count": 248,
     "metadata": {},
     "output_type": "execute_result"
    }
   ],
   "source": [
    "J2 = np.array([[1, 9, 0, 4], [2, 0, 8, -1]])\n",
    "J2"
   ]
  },
  {
   "cell_type": "code",
   "execution_count": 250,
   "id": "66d01772-1454-46e0-ab28-2b0e3a12facb",
   "metadata": {},
   "outputs": [
    {
     "data": {
      "text/plain": [
       "array([1, 0, 1, 0], dtype=int64)"
      ]
     },
     "execution_count": 250,
     "metadata": {},
     "output_type": "execute_result"
    }
   ],
   "source": [
    "np.argmax(J2, axis =0) "
   ]
  },
  {
   "cell_type": "code",
   "execution_count": 252,
   "id": "6526d910-52f3-4731-bdfb-519b247f18a2",
   "metadata": {},
   "outputs": [
    {
     "data": {
      "text/plain": [
       "array([1, 2], dtype=int64)"
      ]
     },
     "execution_count": 252,
     "metadata": {},
     "output_type": "execute_result"
    }
   ],
   "source": [
    "np.argmax(J2, axis =1)"
   ]
  },
  {
   "cell_type": "raw",
   "id": "40d46756-98f4-485a-9001-6e44f321a3e4",
   "metadata": {},
   "source": [
    "24. argmin"
   ]
  },
  {
   "cell_type": "code",
   "execution_count": 256,
   "id": "82a9aa38-ac52-4eaf-8fd9-b4bed89c399b",
   "metadata": {},
   "outputs": [
    {
     "data": {
      "text/plain": [
       "array([ 0, 11, 95,  2, -5, 55])"
      ]
     },
     "execution_count": 256,
     "metadata": {},
     "output_type": "execute_result"
    }
   ],
   "source": [
    "d4 =np.array([0, 11, 95, 2, -5, 55]) \n",
    "d4"
   ]
  },
  {
   "cell_type": "code",
   "execution_count": 258,
   "id": "d66aac80-b1c1-494a-994e-6a805315f21f",
   "metadata": {},
   "outputs": [
    {
     "data": {
      "text/plain": [
       "4"
      ]
     },
     "execution_count": 258,
     "metadata": {},
     "output_type": "execute_result"
    }
   ],
   "source": [
    "np.argmin(d4)"
   ]
  },
  {
   "cell_type": "code",
   "execution_count": 260,
   "id": "6aa43ffa-ec8e-4f7b-8c28-c3d51c55fedd",
   "metadata": {},
   "outputs": [
    {
     "data": {
      "text/plain": [
       "array([[50, 50, 10],\n",
       "       [60, 10, 40]])"
      ]
     },
     "execution_count": 260,
     "metadata": {},
     "output_type": "execute_result"
    }
   ],
   "source": [
    "da2=np.array([[50,50,10],[60,10,40]])\n",
    "da2"
   ]
  },
  {
   "cell_type": "code",
   "execution_count": 262,
   "id": "6e04c71a-a044-4c62-a037-fb1356fc13b4",
   "metadata": {},
   "outputs": [
    {
     "data": {
      "text/plain": [
       "2"
      ]
     },
     "execution_count": 262,
     "metadata": {},
     "output_type": "execute_result"
    }
   ],
   "source": [
    "np.argmin(da2)"
   ]
  },
  {
   "cell_type": "code",
   "execution_count": 264,
   "id": "cf5eedeb-a8e4-46c6-a0d8-dc67386a2de1",
   "metadata": {},
   "outputs": [
    {
     "data": {
      "text/plain": [
       "array([0, 1, 0], dtype=int64)"
      ]
     },
     "execution_count": 264,
     "metadata": {},
     "output_type": "execute_result"
    }
   ],
   "source": [
    "np.argmin(da2, axis=0)"
   ]
  },
  {
   "cell_type": "code",
   "execution_count": 266,
   "id": "fc581fea-2e9a-44f0-9702-9760ea50c537",
   "metadata": {},
   "outputs": [
    {
     "data": {
      "text/plain": [
       "array([2, 1], dtype=int64)"
      ]
     },
     "execution_count": 266,
     "metadata": {},
     "output_type": "execute_result"
    }
   ],
   "source": [
    "np.argmin(da2, axis=1)"
   ]
  },
  {
   "cell_type": "raw",
   "id": "687e0dca-e33c-4eda-b5dd-bb1a2b31936b",
   "metadata": {},
   "source": [
    "25. argsoft"
   ]
  },
  {
   "cell_type": "code",
   "execution_count": 270,
   "id": "7cc56af5-8534-49f9-8398-3b28858dc3f9",
   "metadata": {},
   "outputs": [
    {
     "data": {
      "text/plain": [
       "array([2, 0, 1, 5, 4, 1, 9])"
      ]
     },
     "execution_count": 270,
     "metadata": {},
     "output_type": "execute_result"
    }
   ],
   "source": [
    "AB1 = np.array([ 2, 0,  1, 5, 4, 1, 9])\n",
    "AB1"
   ]
  },
  {
   "cell_type": "code",
   "execution_count": 272,
   "id": "ce1801bd-64d7-4af1-a691-5626c91b53d3",
   "metadata": {},
   "outputs": [
    {
     "data": {
      "text/plain": [
       "array([1, 2, 5, 0, 4, 3, 6], dtype=int64)"
      ]
     },
     "execution_count": 272,
     "metadata": {},
     "output_type": "execute_result"
    }
   ],
   "source": [
    "np.argsort(AB1)"
   ]
  },
  {
   "cell_type": "code",
   "execution_count": 274,
   "id": "62f0822c-9438-420a-adb0-3f5358cad536",
   "metadata": {},
   "outputs": [
    {
     "data": {
      "text/plain": [
       "array([1, 2, 5, 0, 4, 3, 6], dtype=int64)"
      ]
     },
     "execution_count": 274,
     "metadata": {},
     "output_type": "execute_result"
    }
   ],
   "source": [
    "BQ = np.argsort(AB1)\n",
    "BQ"
   ]
  },
  {
   "cell_type": "code",
   "execution_count": 276,
   "id": "b8bd1107-1e5e-4e63-a7a0-ad95af36b193",
   "metadata": {},
   "outputs": [
    {
     "data": {
      "text/plain": [
       "array([0, 1, 1, 2, 4, 5, 9])"
      ]
     },
     "execution_count": 276,
     "metadata": {},
     "output_type": "execute_result"
    }
   ],
   "source": [
    "AB1[BQ]"
   ]
  },
  {
   "cell_type": "code",
   "execution_count": 286,
   "id": "555a25f9-222d-45ec-891a-67f7a28d58d6",
   "metadata": {},
   "outputs": [
    {
     "data": {
      "text/plain": [
       "array([[8, 4, 1],\n",
       "       [2, 0, 9]])"
      ]
     },
     "execution_count": 286,
     "metadata": {},
     "output_type": "execute_result"
    }
   ],
   "source": [
    "aq1 = np.array([[8,4,1],[2,0,9]])\n",
    "aq1"
   ]
  },
  {
   "cell_type": "code",
   "execution_count": 280,
   "id": "bab273e7-d1e9-4cf7-93a6-55c4153372f7",
   "metadata": {},
   "outputs": [
    {
     "data": {
      "text/plain": [
       "array([[1, 1, 0],\n",
       "       [0, 0, 1]], dtype=int64)"
      ]
     },
     "execution_count": 280,
     "metadata": {},
     "output_type": "execute_result"
    }
   ],
   "source": [
    "JQ1 = aq1.argsort(axis=0)\n",
    "JQ1"
   ]
  },
  {
   "cell_type": "code",
   "execution_count": 282,
   "id": "633d54b4-9366-4523-a483-6dc4d54b51f4",
   "metadata": {},
   "outputs": [
    {
     "data": {
      "text/plain": [
       "array([[2, 0, 1],\n",
       "       [8, 4, 9]])"
      ]
     },
     "execution_count": 282,
     "metadata": {},
     "output_type": "execute_result"
    }
   ],
   "source": [
    "aq1[JQ1,[[0,1,2], [0,1,2]]]"
   ]
  },
  {
   "cell_type": "code",
   "execution_count": 284,
   "id": "8996051c-80fc-4ac9-bf28-41528580be16",
   "metadata": {},
   "outputs": [
    {
     "data": {
      "text/plain": [
       "array([[2, 1, 0],\n",
       "       [1, 0, 2]], dtype=int64)"
      ]
     },
     "execution_count": 284,
     "metadata": {},
     "output_type": "execute_result"
    }
   ],
   "source": [
    "JQ1 = aq1.argsort(axis=1)\n",
    "JQ1 "
   ]
  },
  {
   "cell_type": "markdown",
   "id": "6c249cc9-4b3b-42d0-8c8a-91d3182ca78b",
   "metadata": {},
   "source": [
    "26. array"
   ]
  },
  {
   "cell_type": "code",
   "execution_count": 288,
   "id": "a3ebd075-db19-4ef1-a72c-e91727a6ec1a",
   "metadata": {},
   "outputs": [
    {
     "data": {
      "text/plain": [
       "array([1., 2., 3.])"
      ]
     },
     "execution_count": 288,
     "metadata": {},
     "output_type": "execute_result"
    }
   ],
   "source": [
    "np.array([1, 2, 3.0])"
   ]
  },
  {
   "cell_type": "code",
   "execution_count": 290,
   "id": "89551535-6997-4e16-819a-8add3917ccbe",
   "metadata": {},
   "outputs": [
    {
     "data": {
      "text/plain": [
       "array([[1, 2],\n",
       "       [3, 4]])"
      ]
     },
     "execution_count": 290,
     "metadata": {},
     "output_type": "execute_result"
    }
   ],
   "source": [
    "np.array([[1, 2], [3, 4]])"
   ]
  },
  {
   "cell_type": "code",
   "execution_count": 292,
   "id": "f1e0c218-9d55-4500-94d5-3d13dbf89dbd",
   "metadata": {},
   "outputs": [
    {
     "data": {
      "text/plain": [
       "array([1.+0.j, 2.+0.j, 3.+0.j])"
      ]
     },
     "execution_count": 292,
     "metadata": {},
     "output_type": "execute_result"
    }
   ],
   "source": [
    "np.array([1, 2, 3], dtype=complex) "
   ]
  },
  {
   "cell_type": "code",
   "execution_count": 294,
   "id": "783c2584-5d0c-4d91-8eb0-13f791b7e4de",
   "metadata": {},
   "outputs": [
    {
     "data": {
      "text/plain": [
       "array([[1, 2, 3]])"
      ]
     },
     "execution_count": 294,
     "metadata": {},
     "output_type": "execute_result"
    }
   ],
   "source": [
    "np.array([1, 2, 3], ndmin=2)"
   ]
  },
  {
   "cell_type": "code",
   "execution_count": 296,
   "id": "7abff91c-073b-4138-be06-b914746406fe",
   "metadata": {},
   "outputs": [
    {
     "data": {
      "text/plain": [
       "array([1])"
      ]
     },
     "execution_count": 296,
     "metadata": {},
     "output_type": "execute_result"
    }
   ],
   "source": [
    "np.array(1, copy=0, subok=1, ndmin=1)"
   ]
  },
  {
   "cell_type": "code",
   "execution_count": 298,
   "id": "86e29f37-afe8-4b29-b4c9-ada71c9541fd",
   "metadata": {},
   "outputs": [
    {
     "data": {
      "text/plain": [
       "array([[1]])"
      ]
     },
     "execution_count": 298,
     "metadata": {},
     "output_type": "execute_result"
    }
   ],
   "source": [
    "np.array(1, copy=0, subok=1, ndmin=2)"
   ]
  },
  {
   "cell_type": "code",
   "execution_count": 300,
   "id": "8ee7a962-977d-4dc6-bf9a-e8720227d7bc",
   "metadata": {},
   "outputs": [
    {
     "data": {
      "text/plain": [
       "array([[1]])"
      ]
     },
     "execution_count": 300,
     "metadata": {},
     "output_type": "execute_result"
    }
   ],
   "source": [
    "np.array(1, subok=1, ndmin=2)"
   ]
  },
  {
   "cell_type": "raw",
   "id": "f4e85c01-a8e2-42ad-b00d-3a160794faa6",
   "metadata": {},
   "source": [
    "27.arrayrange"
   ]
  },
  {
   "cell_type": "markdown",
   "id": "ab6ab822-fd9d-48a2-b43b-9daede562544",
   "metadata": {},
   "source": [
    "28. array split"
   ]
  },
  {
   "cell_type": "code",
   "execution_count": 302,
   "id": "c7c60397-0f46-44b5-9b12-9da3cb1278e1",
   "metadata": {},
   "outputs": [
    {
     "data": {
      "text/plain": [
       "array([[1, 2, 3, 4],\n",
       "       [5, 6, 7, 8]])"
      ]
     },
     "execution_count": 302,
     "metadata": {},
     "output_type": "execute_result"
    }
   ],
   "source": [
    "c4 = np.array([[1,2,3,4],[5,6,7,8]])\n",
    "c4"
   ]
  },
  {
   "cell_type": "code",
   "execution_count": 304,
   "id": "4c47b930-5215-45a5-b8d8-ad65f12cf133",
   "metadata": {},
   "outputs": [
    {
     "data": {
      "text/plain": [
       "[array([[1, 2, 3, 4]]), array([[5, 6, 7, 8]])]"
      ]
     },
     "execution_count": 304,
     "metadata": {},
     "output_type": "execute_result"
    }
   ],
   "source": [
    "np.array_split(c4,2,axis=0)"
   ]
  },
  {
   "cell_type": "code",
   "execution_count": 308,
   "id": "a2e5baaa-c123-45bf-a86d-c0d816986421",
   "metadata": {},
   "outputs": [
    {
     "data": {
      "text/plain": [
       "[array([[1],\n",
       "        [5]]),\n",
       " array([[2],\n",
       "        [6]]),\n",
       " array([[3],\n",
       "        [7]]),\n",
       " array([[4],\n",
       "        [8]])]"
      ]
     },
     "execution_count": 308,
     "metadata": {},
     "output_type": "execute_result"
    }
   ],
   "source": [
    "np.array_split(c4,4,axis=1)"
   ]
  },
  {
   "cell_type": "code",
   "execution_count": 310,
   "id": "a99a1f32-75fa-4e4c-8958-1dde0a1431f4",
   "metadata": {},
   "outputs": [
    {
     "data": {
      "text/plain": [
       "[array([[1, 2],\n",
       "        [5, 6]]),\n",
       " array([[3],\n",
       "        [7]]),\n",
       " array([[4],\n",
       "        [8]])]"
      ]
     },
     "execution_count": 310,
     "metadata": {},
     "output_type": "execute_result"
    }
   ],
   "source": [
    "np.array_split(c4,3,axis=1)"
   ]
  },
  {
   "cell_type": "code",
   "execution_count": 312,
   "id": "82679b4e-8a30-495c-91f2-0b6effe057d6",
   "metadata": {},
   "outputs": [
    {
     "data": {
      "text/plain": [
       "[array([[1, 2],\n",
       "        [5, 6]]),\n",
       " array([[3],\n",
       "        [7]]),\n",
       " array([[4],\n",
       "        [8]])]"
      ]
     },
     "execution_count": 312,
     "metadata": {},
     "output_type": "execute_result"
    }
   ],
   "source": [
    "np.array_split(c4,[2,3],axis=1)"
   ]
  },
  {
   "cell_type": "markdown",
   "id": "25d25aad-00ec-4fba-93e7-b61728e53af9",
   "metadata": {},
   "source": [
    "29. asarray"
   ]
  },
  {
   "cell_type": "code",
   "execution_count": 314,
   "id": "bc907795-5833-4332-b20c-83eb85bc8990",
   "metadata": {},
   "outputs": [
    {
     "data": {
      "text/plain": [
       "array([1, 3, 5, 7, 9])"
      ]
     },
     "execution_count": 314,
     "metadata": {},
     "output_type": "execute_result"
    }
   ],
   "source": [
    "my_list = [1, 3, 5, 7, 9]\n",
    "np.asarray(my_list)"
   ]
  },
  {
   "cell_type": "code",
   "execution_count": 316,
   "id": "7eb86d55-277f-46cc-a883-740fc91ce8da",
   "metadata": {},
   "outputs": [
    {
     "data": {
      "text/plain": [
       "array([[1, 3, 9],\n",
       "       [8, 2, 6]])"
      ]
     },
     "execution_count": 316,
     "metadata": {},
     "output_type": "execute_result"
    }
   ],
   "source": [
    "my_tuple = ([1, 3, 9], [8, 2, 6])\n",
    "np.asarray(my_tuple)"
   ]
  },
  {
   "cell_type": "code",
   "execution_count": 318,
   "id": "7d4c7f12-bdc9-40dd-97c4-cb9d6affa3a4",
   "metadata": {},
   "outputs": [
    {
     "data": {
      "text/plain": [
       "matrix([[1, 2],\n",
       "        [5, 8]])"
      ]
     },
     "execution_count": 318,
     "metadata": {},
     "output_type": "execute_result"
    }
   ],
   "source": [
    "m = np.matrix('1 2; 5 8')\n",
    "m"
   ]
  },
  {
   "cell_type": "code",
   "execution_count": 320,
   "id": "710a9a5b-11e5-4fe9-b54a-fa8f8d2a1bb6",
   "metadata": {},
   "outputs": [
    {
     "data": {
      "text/plain": [
       "array([[1, 2],\n",
       "       [5, 8]])"
      ]
     },
     "execution_count": 320,
     "metadata": {},
     "output_type": "execute_result"
    }
   ],
   "source": [
    "B9 = np.asarray(m)\n",
    "B9"
   ]
  },
  {
   "cell_type": "code",
   "execution_count": 322,
   "id": "b669d9e5-53a0-42d0-a299-dd086d1585c4",
   "metadata": {},
   "outputs": [
    {
     "data": {
      "text/plain": [
       "matrix([[   1, -190],\n",
       "        [   5,    8]])"
      ]
     },
     "execution_count": 322,
     "metadata": {},
     "output_type": "execute_result"
    }
   ],
   "source": [
    "m[0,1] = -190\n",
    "m"
   ]
  },
  {
   "cell_type": "code",
   "execution_count": 324,
   "id": "bc81b393-e5e7-4d13-bc39-065b2181e7d2",
   "metadata": {},
   "outputs": [
    {
     "data": {
      "text/plain": [
       "array([[   1, -190],\n",
       "       [   5,    8]])"
      ]
     },
     "execution_count": 324,
     "metadata": {},
     "output_type": "execute_result"
    }
   ],
   "source": [
    "B9"
   ]
  },
  {
   "cell_type": "markdown",
   "id": "33a1651a-e2c6-4260-b54f-9d89f8596b36",
   "metadata": {},
   "source": [
    "30. asanyarray"
   ]
  },
  {
   "cell_type": "code",
   "execution_count": 326,
   "id": "282d49df-9fd2-4464-86c9-3610a6506773",
   "metadata": {},
   "outputs": [
    {
     "data": {
      "text/plain": [
       "array([[1, 2],\n",
       "       [5, 8]])"
      ]
     },
     "execution_count": 326,
     "metadata": {},
     "output_type": "execute_result"
    }
   ],
   "source": [
    "c7 = np.array([[1,2],[5,8]])\n",
    "c7"
   ]
  },
  {
   "cell_type": "code",
   "execution_count": 328,
   "id": "df1ae88c-265b-490e-84f3-816fff363b02",
   "metadata": {},
   "outputs": [
    {
     "data": {
      "text/plain": [
       "matrix([[1, 2],\n",
       "        [5, 8]])"
      ]
     },
     "execution_count": 328,
     "metadata": {},
     "output_type": "execute_result"
    }
   ],
   "source": [
    "mq = np.matrix('1 2; 5 8')\n",
    "mq"
   ]
  },
  {
   "cell_type": "code",
   "execution_count": 330,
   "id": "5a82ccca-dfb6-49de-aa5a-562a267cfd06",
   "metadata": {},
   "outputs": [
    {
     "data": {
      "text/plain": [
       "array([[1, 2],\n",
       "       [5, 8]])"
      ]
     },
     "execution_count": 330,
     "metadata": {},
     "output_type": "execute_result"
    }
   ],
   "source": [
    "np.asanyarray(c7)"
   ]
  },
  {
   "cell_type": "code",
   "execution_count": 332,
   "id": "36f8db17-3d90-4f53-9fc2-2d8ad83257b1",
   "metadata": {},
   "outputs": [
    {
     "data": {
      "text/plain": [
       "matrix([[1, 2],\n",
       "        [5, 8]])"
      ]
     },
     "execution_count": 332,
     "metadata": {},
     "output_type": "execute_result"
    }
   ],
   "source": [
    "np.asanyarray(mq)"
   ]
  },
  {
   "cell_type": "code",
   "execution_count": 336,
   "id": "1ca3a881-4945-4edf-809a-967e2d7287f4",
   "metadata": {},
   "outputs": [
    {
     "data": {
      "text/plain": [
       "([1, 3, 9], [8, 2, 6])"
      ]
     },
     "execution_count": 336,
     "metadata": {},
     "output_type": "execute_result"
    }
   ],
   "source": [
    "my_tuple1 = ([1, 3, 9], [8, 2, 6])\n",
    "my_tuple1"
   ]
  },
  {
   "cell_type": "code",
   "execution_count": 338,
   "id": "2bb09ecb-f96b-4885-afe0-8becc1e10c6b",
   "metadata": {},
   "outputs": [
    {
     "data": {
      "text/plain": [
       "array([[1, 3, 9],\n",
       "       [8, 2, 6]])"
      ]
     },
     "execution_count": 338,
     "metadata": {},
     "output_type": "execute_result"
    }
   ],
   "source": [
    "np.asanyarray(my_tuple1)"
   ]
  },
  {
   "cell_type": "markdown",
   "id": "b99e4ea5-5c6a-4180-810a-58d4119075dc",
   "metadata": {},
   "source": [
    "31. asmatrix"
   ]
  },
  {
   "cell_type": "code",
   "execution_count": 340,
   "id": "f7561edb-2a09-488e-95b4-a5fcc952914c",
   "metadata": {},
   "outputs": [
    {
     "data": {
      "text/plain": [
       "matrix([[1, 2],\n",
       "        [3, 4]])"
      ]
     },
     "execution_count": 340,
     "metadata": {},
     "output_type": "execute_result"
    }
   ],
   "source": [
    "x = np.array([[1, 2], [3, 4]])\n",
    "m = np.asmatrix(x)\n",
    "m"
   ]
  },
  {
   "cell_type": "code",
   "execution_count": 342,
   "id": "8d6f5a5f-e26a-475a-8cdb-e7556ef7e240",
   "metadata": {},
   "outputs": [
    {
     "name": "stdout",
     "output_type": "stream",
     "text": [
      "[[5 2]\n",
      " [3 4]]\n",
      "[[5 2]\n",
      " [3 4]]\n"
     ]
    }
   ],
   "source": [
    "x[0,0] = 5\n",
    "print(m)\n",
    "print(x)"
   ]
  },
  {
   "cell_type": "raw",
   "id": "581043d9-bf6f-48c0-974b-23a3013f390f",
   "metadata": {},
   "source": [
    "32. astype"
   ]
  },
  {
   "cell_type": "code",
   "execution_count": 344,
   "id": "f1c01339-c2b9-4f4c-88fa-83b4e8e0b948",
   "metadata": {},
   "outputs": [
    {
     "data": {
      "text/plain": [
       "array([1. , 2. , 2.5])"
      ]
     },
     "execution_count": 344,
     "metadata": {},
     "output_type": "execute_result"
    }
   ],
   "source": [
    "x6 = np.array([1, 2, 2.5])\n",
    "x6"
   ]
  },
  {
   "cell_type": "code",
   "execution_count": 346,
   "id": "f2e97039-99a7-423a-b1a1-c4d66efb90c7",
   "metadata": {},
   "outputs": [
    {
     "data": {
      "text/plain": [
       "array([1, 2, 2])"
      ]
     },
     "execution_count": 346,
     "metadata": {},
     "output_type": "execute_result"
    }
   ],
   "source": [
    "x6.astype(int)"
   ]
  },
  {
   "cell_type": "code",
   "execution_count": 350,
   "id": "8acd79e1-e9cb-4cd3-85f8-9a354cda68d5",
   "metadata": {},
   "outputs": [
    {
     "data": {
      "text/plain": [
       "array([1. , 2. , 2.5])"
      ]
     },
     "execution_count": 350,
     "metadata": {},
     "output_type": "execute_result"
    }
   ],
   "source": [
    "x6.astype(None)"
   ]
  },
  {
   "cell_type": "markdown",
   "id": "2ca9f4d5-16e2-4b43-a187-a2ad66453438",
   "metadata": {},
   "source": [
    "33. atleast 1d"
   ]
  },
  {
   "cell_type": "code",
   "execution_count": 352,
   "id": "1fd25c69-1922-4efa-b355-8836f4a526b5",
   "metadata": {},
   "outputs": [
    {
     "data": {
      "text/plain": [
       "array([[[0, 1],\n",
       "        [2, 3]],\n",
       "\n",
       "       [[4, 5],\n",
       "        [6, 7]]])"
      ]
     },
     "execution_count": 352,
     "metadata": {},
     "output_type": "execute_result"
    }
   ],
   "source": [
    "a01 = 1 \n",
    "b01 = np.array([2,3]) \n",
    "c01 = np.array([[4,5],[6,7]]) \n",
    "d01 = np.arange(8).reshape(2,2,2) \n",
    "d01"
   ]
  },
  {
   "cell_type": "code",
   "execution_count": 354,
   "id": "412b4f1c-03a9-4f18-b5d9-ab7bf439003d",
   "metadata": {},
   "outputs": [
    {
     "data": {
      "text/plain": [
       "[array([1]),\n",
       " array([2, 3]),\n",
       " array([[4, 5],\n",
       "        [6, 7]]),\n",
       " array([[[0, 1],\n",
       "         [2, 3]],\n",
       " \n",
       "        [[4, 5],\n",
       "         [6, 7]]])]"
      ]
     },
     "execution_count": 354,
     "metadata": {},
     "output_type": "execute_result"
    }
   ],
   "source": [
    "np.atleast_1d(a01,b01,c01,d01)"
   ]
  },
  {
   "cell_type": "markdown",
   "id": "3ff779e6-6a12-4413-8136-a1eb9a082aae",
   "metadata": {},
   "source": [
    "34. atleast_2d()"
   ]
  },
  {
   "cell_type": "code",
   "execution_count": 356,
   "id": "f176aa6c-9233-4ffe-99fe-74fd4d5d23b7",
   "metadata": {},
   "outputs": [
    {
     "data": {
      "text/plain": [
       "array([[[0, 1],\n",
       "        [2, 3]],\n",
       "\n",
       "       [[4, 5],\n",
       "        [6, 7]]])"
      ]
     },
     "execution_count": 356,
     "metadata": {},
     "output_type": "execute_result"
    }
   ],
   "source": [
    "a11 = 1\n",
    "b11 = np.array([2,3])\n",
    "c11 = np.array([[4,5],[6,7]])\n",
    "d11 = np.arange(8).reshape(2,2,2)\n",
    "d11"
   ]
  },
  {
   "cell_type": "code",
   "execution_count": 358,
   "id": "cd0420d5-4d0c-44bb-9985-bd70b5184280",
   "metadata": {},
   "outputs": [
    {
     "data": {
      "text/plain": [
       "[array([[1]]),\n",
       " array([[2, 3]]),\n",
       " array([[4, 5],\n",
       "        [6, 7]]),\n",
       " array([[[0, 1],\n",
       "         [2, 3]],\n",
       " \n",
       "        [[4, 5],\n",
       "         [6, 7]]])]"
      ]
     },
     "execution_count": 358,
     "metadata": {},
     "output_type": "execute_result"
    }
   ],
   "source": [
    "np.atleast_2d(a11,b11,c11,d11)"
   ]
  },
  {
   "cell_type": "markdown",
   "id": "74f9f461-2c98-4f4d-8bc5-d834f117798a",
   "metadata": {},
   "source": [
    "35. atleast_3d()"
   ]
  },
  {
   "cell_type": "code",
   "execution_count": 360,
   "id": "69ac4dcd-d16d-4fa7-a59f-404ed5fe63c9",
   "metadata": {},
   "outputs": [
    {
     "data": {
      "text/plain": [
       "array([[[0, 1],\n",
       "        [2, 3]],\n",
       "\n",
       "       [[4, 5],\n",
       "        [6, 7]]])"
      ]
     },
     "execution_count": 360,
     "metadata": {},
     "output_type": "execute_result"
    }
   ],
   "source": [
    "f = 1 \n",
    "g = np.array([2,3])\n",
    "h = np.array([[4,5],[6,7]])\n",
    "i = np.arange(8).reshape(2,2,2)\n",
    "i"
   ]
  },
  {
   "cell_type": "code",
   "execution_count": 362,
   "id": "9b7b397f-be43-4c2e-9ccc-bd0d11ebb1ad",
   "metadata": {},
   "outputs": [
    {
     "data": {
      "text/plain": [
       "[array([[[1]]]),\n",
       " array([[[2],\n",
       "         [3]]]),\n",
       " array([[[4],\n",
       "         [5]],\n",
       " \n",
       "        [[6],\n",
       "         [7]]]),\n",
       " array([[[0, 1],\n",
       "         [2, 3]],\n",
       " \n",
       "        [[4, 5],\n",
       "         [6, 7]]])]"
      ]
     },
     "execution_count": 362,
     "metadata": {},
     "output_type": "execute_result"
    }
   ],
   "source": [
    "np.atleast_3d(f,g,h,i)"
   ]
  },
  {
   "cell_type": "markdown",
   "id": "c3b3f355-96d0-4f2b-9589-51e4ddf4b22f",
   "metadata": {},
   "source": [
    "36. Average"
   ]
  },
  {
   "cell_type": "code",
   "execution_count": 364,
   "id": "e39e573b-31d3-43f5-be60-8ee9111171dc",
   "metadata": {},
   "outputs": [
    {
     "data": {
      "text/plain": [
       "array([1, 4, 5, 7, 5])"
      ]
     },
     "execution_count": 364,
     "metadata": {},
     "output_type": "execute_result"
    }
   ],
   "source": [
    "bz = np.array([1,4,5,7,5])\n",
    "bz"
   ]
  },
  {
   "cell_type": "code",
   "execution_count": 366,
   "id": "5e2bf279-a2d3-49df-ad5b-632df9a60646",
   "metadata": {},
   "outputs": [
    {
     "data": {
      "text/plain": [
       "4.4"
      ]
     },
     "execution_count": 366,
     "metadata": {},
     "output_type": "execute_result"
    }
   ],
   "source": [
    "np.average(bz)"
   ]
  },
  {
   "cell_type": "code",
   "execution_count": 370,
   "id": "4047bbc7-1442-41cd-af94-dc9bae12c1b6",
   "metadata": {},
   "outputs": [
    {
     "data": {
      "text/plain": [
       "array([0.1, 0.2, 0.5, 0.2, 0.2])"
      ]
     },
     "execution_count": 370,
     "metadata": {},
     "output_type": "execute_result"
    }
   ],
   "source": [
    "w = np.array([0.1, 0.2, 0.5, 0.2, 0.2])\n",
    "w"
   ]
  },
  {
   "cell_type": "code",
   "execution_count": 372,
   "id": "14ca9563-71d9-47b9-8e9f-dc2c863fee9d",
   "metadata": {},
   "outputs": [
    {
     "data": {
      "text/plain": [
       "4.833333333333333"
      ]
     },
     "execution_count": 372,
     "metadata": {},
     "output_type": "execute_result"
    }
   ],
   "source": [
    "np.average(bz,weights=w)"
   ]
  },
  {
   "cell_type": "code",
   "execution_count": null,
   "id": "c251f12c-00d9-4df8-b9f3-81bf57f3b006",
   "metadata": {},
   "outputs": [],
   "source": []
  }
 ],
 "metadata": {
  "kernelspec": {
   "display_name": "Python 3 (ipykernel)",
   "language": "python",
   "name": "python3"
  },
  "language_info": {
   "codemirror_mode": {
    "name": "ipython",
    "version": 3
   },
   "file_extension": ".py",
   "mimetype": "text/x-python",
   "name": "python",
   "nbconvert_exporter": "python",
   "pygments_lexer": "ipython3",
   "version": "3.12.7"
  }
 },
 "nbformat": 4,
 "nbformat_minor": 5
}
