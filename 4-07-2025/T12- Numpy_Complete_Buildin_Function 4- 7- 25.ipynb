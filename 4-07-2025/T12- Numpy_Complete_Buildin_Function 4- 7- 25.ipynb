{
 "cells": [
  {
   "cell_type": "code",
   "execution_count": 1,
   "id": "21916eff-4776-4082-b01a-0c4419810a96",
   "metadata": {},
   "outputs": [],
   "source": [
    "import numpy as np"
   ]
  },
  {
   "cell_type": "code",
   "execution_count": 3,
   "id": "fd6134c5-e559-4f25-9440-b148b66524a8",
   "metadata": {},
   "outputs": [
    {
     "data": {
      "text/plain": [
       "array([1, 2, 3])"
      ]
     },
     "execution_count": 3,
     "metadata": {},
     "output_type": "execute_result"
    }
   ],
   "source": [
    "a=np.array([1,2,3])\n",
    "a"
   ]
  },
  {
   "cell_type": "code",
   "execution_count": 5,
   "id": "4237f414-7dec-4bda-96c4-380220a041fc",
   "metadata": {},
   "outputs": [
    {
     "name": "stdout",
     "output_type": "stream",
     "text": [
      "Array a: [1 2 3]\n"
     ]
    }
   ],
   "source": [
    "print(\"Array a:\",a)"
   ]
  },
  {
   "cell_type": "code",
   "execution_count": 9,
   "id": "d66155ed-2210-4da1-b66e-888bbbb433d1",
   "metadata": {},
   "outputs": [
    {
     "name": "stdout",
     "output_type": "stream",
     "text": [
      "Array b: [0 2 4 6 8]\n"
     ]
    }
   ],
   "source": [
    "b=np.arange(0,10,2)\n",
    "print(\"Array b:\",b)"
   ]
  },
  {
   "cell_type": "code",
   "execution_count": 11,
   "id": "5c6604af-9986-4a0d-8f5f-901b401c7a7b",
   "metadata": {},
   "outputs": [
    {
     "name": "stdout",
     "output_type": "stream",
     "text": [
      "Array d: [[0. 0. 0.]\n",
      " [0. 0. 0.]]\n"
     ]
    }
   ],
   "source": [
    "d=np.zeros((2,3))\n",
    "print(\"Array d:\",d)"
   ]
  },
  {
   "cell_type": "code",
   "execution_count": 13,
   "id": "5c70c8bf-a8bd-4894-b718-e3ad3e39d8d5",
   "metadata": {},
   "outputs": [
    {
     "name": "stdout",
     "output_type": "stream",
     "text": [
      "Identity matrix f:\n",
      " [[1. 0. 0. 0.]\n",
      " [0. 1. 0. 0.]\n",
      " [0. 0. 1. 0.]\n",
      " [0. 0. 0. 1.]]\n"
     ]
    }
   ],
   "source": [
    "f=np.eye(4)\n",
    "print(\"Identity matrix f:\\n\", f)"
   ]
  },
  {
   "cell_type": "code",
   "execution_count": 15,
   "id": "194e9535-f256-40ea-bfed-763896776698",
   "metadata": {},
   "outputs": [
    {
     "name": "stdout",
     "output_type": "stream",
     "text": [
      "Reshaped array: [[1 2 3]]\n"
     ]
    }
   ],
   "source": [
    "a1=np.array([1,2,3])\n",
    "reshaped=np.reshape(a1,(1,3))\n",
    "print(\"Reshaped array:\", reshaped)"
   ]
  },
  {
   "cell_type": "code",
   "execution_count": 19,
   "id": "19a85d00-2b96-4adc-bffe-b0b166481b2c",
   "metadata": {},
   "outputs": [
    {
     "name": "stdout",
     "output_type": "stream",
     "text": [
      "Flattened array: [1 2 3 4]\n"
     ]
    }
   ],
   "source": [
    "f1=np.array([[1,2],[3,4]])\n",
    "flattened=np.ravel(f1)\n",
    "print(\"Flattened array:\", flattened)"
   ]
  },
  {
   "cell_type": "code",
   "execution_count": 21,
   "id": "1eb8d587-26dc-4ab1-a60a-a24644258a3d",
   "metadata": {},
   "outputs": [
    {
     "name": "stdout",
     "output_type": "stream",
     "text": [
      "Transposed array: [[1 3]\n",
      " [2 4]]\n"
     ]
    }
   ],
   "source": [
    "e1=np.array([[1,2],[3,4]])\n",
    "transposed=np.transpose(f1)\n",
    "print(\"Transposed array:\", transposed)"
   ]
  },
  {
   "cell_type": "code",
   "execution_count": 23,
   "id": "1bdd0593-0979-4e32-8051-0218fb305c1f",
   "metadata": {},
   "outputs": [
    {
     "name": "stdout",
     "output_type": "stream",
     "text": [
      "Stacked arrays :\n",
      " [[1 2]\n",
      " [3 4]]\n"
     ]
    }
   ],
   "source": [
    "a2=np.array([1,2])\n",
    "b2=np.array([3,4])\n",
    "stacked=np.vstack([a2,b2])\n",
    "print(\"Stacked arrays :\\n\", stacked)"
   ]
  },
  {
   "cell_type": "code",
   "execution_count": 27,
   "id": "46f3cbd5-2848-4518-a381-338fe2bdc4c4",
   "metadata": {},
   "outputs": [
    {
     "name": "stdout",
     "output_type": "stream",
     "text": [
      "Added 2 to g: [3 4 5 6]\n"
     ]
    }
   ],
   "source": [
    "g=np.array([1,2,3,4])\n",
    "added=np.add(g,2)\n",
    "print(\"Added 2 to g:\",added)"
   ]
  },
  {
   "cell_type": "code",
   "execution_count": 31,
   "id": "453bde7b-40e3-4dfb-b7d5-a9646bb9282d",
   "metadata": {},
   "outputs": [
    {
     "name": "stdout",
     "output_type": "stream",
     "text": [
      "Squared g: [ 1  4  9 16]\n"
     ]
    }
   ],
   "source": [
    "squared=np.power(g,2)\n",
    "print(\"Squared g:\",squared)"
   ]
  },
  {
   "cell_type": "code",
   "execution_count": 35,
   "id": "c50372b9-74ad-4b6c-9934-501b746cb336",
   "metadata": {},
   "outputs": [
    {
     "name": "stdout",
     "output_type": "stream",
     "text": [
      "Square root of g: [1.         1.41421356 1.73205081 2.        ]\n"
     ]
    }
   ],
   "source": [
    "sqrt_val=np.sqrt(g)\n",
    "print(\"Square root of g:\",sqrt_val)"
   ]
  },
  {
   "cell_type": "code",
   "execution_count": 37,
   "id": "e001f006-d764-4872-900d-444a65aaef0b",
   "metadata": {},
   "outputs": [
    {
     "name": "stdout",
     "output_type": "stream",
     "text": [
      "[1 2 3]\n",
      "[1 2 3 4]\n"
     ]
    }
   ],
   "source": [
    "print(a1)\n",
    "print(g)"
   ]
  },
  {
   "cell_type": "code",
   "execution_count": 41,
   "id": "e72257c9-ea59-4bf5-9055-6e4103d09835",
   "metadata": {},
   "outputs": [
    {
     "name": "stdout",
     "output_type": "stream",
     "text": [
      "Dot product of a1 and a: 14\n"
     ]
    }
   ],
   "source": [
    "a3=np.array([1,2,3])\n",
    "dot_product=np.dot(a1,a)\n",
    "print(\"Dot product of a1 and a:\", dot_product)"
   ]
  },
  {
   "cell_type": "code",
   "execution_count": 43,
   "id": "ebc84ff1-c103-4b41-bfcb-4d601ea80ae2",
   "metadata": {},
   "outputs": [
    {
     "name": "stdout",
     "output_type": "stream",
     "text": [
      "[1 2 3]\n",
      "[1 2 3]\n"
     ]
    }
   ],
   "source": [
    "print(a1)\n",
    "print(a)"
   ]
  },
  {
   "cell_type": "code",
   "execution_count": 47,
   "id": "9d32db2e-0c79-4027-8a48-b646c5c774df",
   "metadata": {},
   "outputs": [
    {
     "name": "stdout",
     "output_type": "stream",
     "text": [
      "Mean of s: 2.5\n"
     ]
    }
   ],
   "source": [
    "s=np.array([1,2,3,4])\n",
    "mean=np.mean(s)\n",
    "print(\"Mean of s:\", mean)"
   ]
  },
  {
   "cell_type": "code",
   "execution_count": 49,
   "id": "22277496-7ed0-4663-aa70-ed00a20a4b1e",
   "metadata": {},
   "outputs": [
    {
     "name": "stdout",
     "output_type": "stream",
     "text": [
      "Standard deviation of s: 1.118033988749895\n"
     ]
    }
   ],
   "source": [
    "std_dev=np.std(s)\n",
    "print(\"Standard deviation of s:\",std_dev)"
   ]
  },
  {
   "cell_type": "code",
   "execution_count": 51,
   "id": "702a0315-88f8-491b-9d51-5b759657dac0",
   "metadata": {},
   "outputs": [
    {
     "name": "stdout",
     "output_type": "stream",
     "text": [
      "Min of s: 1\n"
     ]
    }
   ],
   "source": [
    "minimum=np.min(s)\n",
    "print(\"Min of s:\", minimum)"
   ]
  },
  {
   "cell_type": "code",
   "execution_count": 53,
   "id": "1c0b5954-dc4e-47a1-bdc3-0ec0ae3303d4",
   "metadata": {},
   "outputs": [
    {
     "name": "stdout",
     "output_type": "stream",
     "text": [
      "Max of s: 4\n"
     ]
    }
   ],
   "source": [
    "maximum=np.max(s)\n",
    "print(\"Max of s:\", maximum)"
   ]
  },
  {
   "cell_type": "code",
   "execution_count": 57,
   "id": "0d97db33-6ede-49c0-9ba7-cb7169e19ea4",
   "metadata": {},
   "outputs": [
    {
     "data": {
      "text/plain": [
       "array([[1, 2],\n",
       "       [3, 4]])"
      ]
     },
     "execution_count": 57,
     "metadata": {},
     "output_type": "execute_result"
    }
   ],
   "source": [
    "matrix=np.array([[1,2],[3,4]])\n",
    "matrix"
   ]
  },
  {
   "cell_type": "code",
   "execution_count": 59,
   "id": "4a13abb8-b670-438c-8df1-d23c43fbf09a",
   "metadata": {},
   "outputs": [
    {
     "name": "stdout",
     "output_type": "stream",
     "text": [
      "Random Values: [0.6730746  0.23835153 0.18681152]\n"
     ]
    }
   ],
   "source": [
    "random_vals=np.random.rand(3)\n",
    "print(\"Random Values:\",random_vals)"
   ]
  },
  {
   "cell_type": "code",
   "execution_count": 61,
   "id": "c48dfdf8-183e-48ce-9b35-a328eab9081b",
   "metadata": {},
   "outputs": [
    {
     "name": "stdout",
     "output_type": "stream",
     "text": [
      "Random Values: [0.5488135  0.71518937 0.60276338]\n"
     ]
    }
   ],
   "source": [
    "np.random.seed(0)\n",
    "random_vals=np.random.rand(3)\n",
    "print(\"Random Values:\", random_vals)"
   ]
  },
  {
   "cell_type": "code",
   "execution_count": 72,
   "id": "c0124a62-25fe-4f9a-a98d-17bea3130bb5",
   "metadata": {},
   "outputs": [
    {
     "name": "stdout",
     "output_type": "stream",
     "text": [
      "Random Integers: [8 1 6 7 7]\n"
     ]
    }
   ],
   "source": [
    "rand_ints=np.random.randint(0,10,size=5)\n",
    "print(\"Random Integers:\", rand_ints)"
   ]
  },
  {
   "cell_type": "code",
   "execution_count": 74,
   "id": "02da6e96-3af4-4ec1-b6ed-f2613af56a1f",
   "metadata": {},
   "outputs": [
    {
     "name": "stdout",
     "output_type": "stream",
     "text": [
      "Random Integers: [5 0 3 3 7]\n"
     ]
    }
   ],
   "source": [
    "np.random.seed(0)\n",
    "rand_ints=np.random.randint(0,10,size=5)\n",
    "print(\"Random Integers:\", rand_ints)"
   ]
  },
  {
   "cell_type": "code",
   "execution_count": 5,
   "id": "80717da3-a268-45f9-8e90-4dbdb52fb345",
   "metadata": {},
   "outputs": [],
   "source": [
    "import numpy as np"
   ]
  },
  {
   "cell_type": "code",
   "execution_count": 7,
   "id": "6590b181-54c0-4499-896b-c79d7a22daca",
   "metadata": {},
   "outputs": [
    {
     "name": "stdout",
     "output_type": "stream",
     "text": [
      "All Elements True: False\n"
     ]
    }
   ],
   "source": [
    "logical_test=np.array([True,False,True])\n",
    "all_true=np.all(logical_test)\n",
    "print(\"All Elements True:\", all_true)"
   ]
  },
  {
   "cell_type": "code",
   "execution_count": 9,
   "id": "5c440284-634c-4110-a50b-214393683c8b",
   "metadata": {},
   "outputs": [
    {
     "name": "stdout",
     "output_type": "stream",
     "text": [
      "All Elements True: False\n"
     ]
    }
   ],
   "source": [
    "logical_test=np.array([False,False,False])\n",
    "all_true=np.all(logical_test)\n",
    "print(\"All Elements True:\", all_true)"
   ]
  },
  {
   "cell_type": "code",
   "execution_count": 15,
   "id": "2d2e579e-d93f-42af-a24c-5f12822eac79",
   "metadata": {},
   "outputs": [
    {
     "name": "stdout",
     "output_type": "stream",
     "text": [
      "Any elements True: False\n"
     ]
    }
   ],
   "source": [
    "any_true = np.any(logical_test)  \n",
    "print(\"Any elements True:\", any_true)"
   ]
  },
  {
   "cell_type": "code",
   "execution_count": 21,
   "id": "b662526d-feef-4ee6-8e91-b082a1f2e403",
   "metadata": {},
   "outputs": [
    {
     "name": "stdout",
     "output_type": "stream",
     "text": [
      "Intersection of a and b: [3 4]\n"
     ]
    }
   ],
   "source": [
    "set_a=np.array([1,2,3,4])\n",
    "set_b=np.array([3,4,5,6])\n",
    "Intersection=np.intersect1d(set_a,set_b)\n",
    "print(\"Intersection of a and b:\", Intersection)"
   ]
  },
  {
   "cell_type": "code",
   "execution_count": 23,
   "id": "92e4ba13-a3b1-48ec-b8b2-dbe82150b4a6",
   "metadata": {},
   "outputs": [
    {
     "name": "stdout",
     "output_type": "stream",
     "text": [
      "Union of a and b: [1 2 3 4 5 6]\n"
     ]
    }
   ],
   "source": [
    "Union=np.union1d(set_a,set_b)\n",
    "print(\"Union of a and b:\", Union)"
   ]
  },
  {
   "cell_type": "code",
   "execution_count": 25,
   "id": "352f7bad-b495-47d5-a263-2c61f29f0263",
   "metadata": {},
   "outputs": [
    {
     "name": "stdout",
     "output_type": "stream",
     "text": [
      "Shape of a: (3,)\n",
      "Shape of a: 3\n",
      "Number of dimensions of a: 1\n",
      "Data Type of a: int32\n"
     ]
    }
   ],
   "source": [
    "a=np.array([1,2,3])\n",
    "shape=a.shape\n",
    "size=a.size\n",
    "dimensions=a.ndim\n",
    "dtype=a.dtype\n",
    "print(\"Shape of a:\", shape)\n",
    "print(\"Shape of a:\", size)\n",
    "print(\"Number of dimensions of a:\", dimensions)\n",
    "print(\"Data Type of a:\", dtype)\n"
   ]
  },
  {
   "cell_type": "code",
   "execution_count": 29,
   "id": "bfc14df7-875c-406e-96a5-ba0ff15ab6ee",
   "metadata": {},
   "outputs": [
    {
     "name": "stdout",
     "output_type": "stream",
     "text": [
      "Copied Array: [1 2 3]\n"
     ]
    }
   ],
   "source": [
    "a=np.array([1,2,3])\n",
    "copied_array=np.copy(a)\n",
    "print(\"Copied Array:\", copied_array)"
   ]
  },
  {
   "cell_type": "code",
   "execution_count": 31,
   "id": "382042cb-45af-4830-a48c-c019ddc6b675",
   "metadata": {},
   "outputs": [
    {
     "name": "stdout",
     "output_type": "stream",
     "text": [
      "Size of a in bytes: 12\n"
     ]
    }
   ],
   "source": [
    "array_size_in_bytes=a.nbytes\n",
    "print(\"Size of a in bytes:\", array_size_in_bytes)"
   ]
  },
  {
   "cell_type": "code",
   "execution_count": 33,
   "id": "3a5f948c-7f1d-44a3-bd77-c0d3688bb9ed",
   "metadata": {},
   "outputs": [
    {
     "name": "stdout",
     "output_type": "stream",
     "text": [
      "Do a and copied_array share memory? False\n"
     ]
    }
   ],
   "source": [
    "shared=np.shares_memory(a,copied_array)\n",
    "print(\"Do a and copied_array share memory?\", shared)"
   ]
  },
  {
   "cell_type": "code",
   "execution_count": null,
   "id": "49dc8868-6a90-488f-ba85-a9183cd62d9e",
   "metadata": {},
   "outputs": [],
   "source": []
  }
 ],
 "metadata": {
  "kernelspec": {
   "display_name": "Python 3 (ipykernel)",
   "language": "python",
   "name": "python3"
  },
  "language_info": {
   "codemirror_mode": {
    "name": "ipython",
    "version": 3
   },
   "file_extension": ".py",
   "mimetype": "text/x-python",
   "name": "python",
   "nbconvert_exporter": "python",
   "pygments_lexer": "ipython3",
   "version": "3.12.7"
  }
 },
 "nbformat": 4,
 "nbformat_minor": 5
}
