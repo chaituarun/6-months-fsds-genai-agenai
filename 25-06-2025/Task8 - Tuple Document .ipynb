{
 "cells": [
  {
   "cell_type": "raw",
   "id": "fef6d023-fa21-4c17-9e85-3efa17819a68",
   "metadata": {},
   "source": [
    "T1 Image"
   ]
  },
  {
   "cell_type": "code",
   "execution_count": 1,
   "id": "007e42e0-27e2-43a5-99bf-02f86a0fd5d1",
   "metadata": {},
   "outputs": [
    {
     "data": {
      "text/plain": [
       "()"
      ]
     },
     "execution_count": 1,
     "metadata": {},
     "output_type": "execute_result"
    }
   ],
   "source": [
    "tup1 = ()\n",
    "tup1"
   ]
  },
  {
   "cell_type": "code",
   "execution_count": 5,
   "id": "c3bc6c41-cb83-4f7b-aff2-db1a8e6bb5a2",
   "metadata": {},
   "outputs": [
    {
     "data": {
      "text/plain": [
       "(10, 30, 60)"
      ]
     },
     "execution_count": 5,
     "metadata": {},
     "output_type": "execute_result"
    }
   ],
   "source": [
    "tup2=(10,30,60)\n",
    "tup2"
   ]
  },
  {
   "cell_type": "code",
   "execution_count": 7,
   "id": "cbe30b29-4b71-456b-9d2b-fffb329bbbc5",
   "metadata": {},
   "outputs": [
    {
     "data": {
      "text/plain": [
       "(10.77, 30.66, 60.89)"
      ]
     },
     "execution_count": 7,
     "metadata": {},
     "output_type": "execute_result"
    }
   ],
   "source": [
    "tup3=(10.77,30.66,60.89)\n",
    "tup3"
   ]
  },
  {
   "cell_type": "code",
   "execution_count": 9,
   "id": "d5acee36-ac2f-404d-8cb7-607d22ad6da4",
   "metadata": {},
   "outputs": [
    {
     "data": {
      "text/plain": [
       "('one', 'two', 'three')"
      ]
     },
     "execution_count": 9,
     "metadata": {},
     "output_type": "execute_result"
    }
   ],
   "source": [
    "tup4=('one','two',\"three\")\n",
    "tup4"
   ]
  },
  {
   "cell_type": "code",
   "execution_count": 13,
   "id": "1ec2d0dd-5446-46a7-81b5-308817d73415",
   "metadata": {},
   "outputs": [
    {
     "data": {
      "text/plain": [
       "('Asif', 25, (50, 100), (150, 90))"
      ]
     },
     "execution_count": 13,
     "metadata": {},
     "output_type": "execute_result"
    }
   ],
   "source": [
    "tup5=('Asif',25,(50,100),(150,90))\n",
    "tup5"
   ]
  },
  {
   "cell_type": "code",
   "execution_count": 15,
   "id": "e1b77b10-0038-4861-9be4-7b2c368c9fff",
   "metadata": {},
   "outputs": [
    {
     "data": {
      "text/plain": [
       "(100, 'Asif', 17.765)"
      ]
     },
     "execution_count": 15,
     "metadata": {},
     "output_type": "execute_result"
    }
   ],
   "source": [
    "tup6=(100,'Asif',17.765) \n",
    "tup6"
   ]
  },
  {
   "cell_type": "code",
   "execution_count": 19,
   "id": "9400830c-0980-4d29-b8d9-daa7aee8bd57",
   "metadata": {},
   "outputs": [
    {
     "data": {
      "text/plain": [
       "('Asif', 25, [50, 100], [150, 90], {'David', 'John'}, (99, 22, 33))"
      ]
     },
     "execution_count": 19,
     "metadata": {},
     "output_type": "execute_result"
    }
   ],
   "source": [
    "tup7=('Asif',25,[50,100],[150,90],{'John','David'},(99,22,33))\n",
    "tup7"
   ]
  },
  {
   "cell_type": "code",
   "execution_count": 21,
   "id": "1f810041-5639-4d94-8027-ee77a6fef7b2",
   "metadata": {},
   "outputs": [
    {
     "data": {
      "text/plain": [
       "6"
      ]
     },
     "execution_count": 21,
     "metadata": {},
     "output_type": "execute_result"
    }
   ],
   "source": [
    "len(tup7)"
   ]
  },
  {
   "cell_type": "code",
   "execution_count": 23,
   "id": "3a351765-df4f-46c2-980b-651c9bb33fad",
   "metadata": {},
   "outputs": [
    {
     "data": {
      "text/plain": [
       "10"
      ]
     },
     "execution_count": 23,
     "metadata": {},
     "output_type": "execute_result"
    }
   ],
   "source": [
    "tup2[0]"
   ]
  },
  {
   "cell_type": "code",
   "execution_count": 25,
   "id": "1f635e27-af7e-47c4-9906-d341e937166e",
   "metadata": {},
   "outputs": [
    {
     "data": {
      "text/plain": [
       "'one'"
      ]
     },
     "execution_count": 25,
     "metadata": {},
     "output_type": "execute_result"
    }
   ],
   "source": [
    "tup4[0]"
   ]
  },
  {
   "cell_type": "code",
   "execution_count": 27,
   "id": "6ef91a79-7c56-4d6b-968c-858f8ced4a72",
   "metadata": {},
   "outputs": [
    {
     "data": {
      "text/plain": [
       "'o'"
      ]
     },
     "execution_count": 27,
     "metadata": {},
     "output_type": "execute_result"
    }
   ],
   "source": [
    "tup4[0][0]"
   ]
  },
  {
   "cell_type": "code",
   "execution_count": 29,
   "id": "dac0888a-a855-4642-9fbc-c43d06701266",
   "metadata": {},
   "outputs": [
    {
     "data": {
      "text/plain": [
       "'three'"
      ]
     },
     "execution_count": 29,
     "metadata": {},
     "output_type": "execute_result"
    }
   ],
   "source": [
    "tup4[-1]"
   ]
  },
  {
   "cell_type": "raw",
   "id": "d7f562d3-6e7d-4709-8d4c-0db1ab3a5596",
   "metadata": {},
   "source": [
    "T2 Image"
   ]
  },
  {
   "cell_type": "code",
   "execution_count": 31,
   "id": "99a428d5-397b-49ba-aa83-f5b1dbfb03bf",
   "metadata": {},
   "outputs": [
    {
     "data": {
      "text/plain": [
       "(150, 90)"
      ]
     },
     "execution_count": 31,
     "metadata": {},
     "output_type": "execute_result"
    }
   ],
   "source": [
    "tup5[-1]"
   ]
  },
  {
   "cell_type": "markdown",
   "id": "b4ae7565-da22-4bcf-9b85-49357e1c91e1",
   "metadata": {},
   "source": [
    "Tuple Slicing"
   ]
  },
  {
   "cell_type": "code",
   "execution_count": 33,
   "id": "529fec8f-8525-424b-b52e-806aa42f6c46",
   "metadata": {},
   "outputs": [
    {
     "data": {
      "text/plain": [
       "('One', 'Two', 'Three', 'Four', 'Five', 'Six', 'Seven', 'Eight')"
      ]
     },
     "execution_count": 33,
     "metadata": {},
     "output_type": "execute_result"
    }
   ],
   "source": [
    "mytuple=('One','Two','Three','Four','Five','Six','Seven','Eight')\n",
    "mytuple"
   ]
  },
  {
   "cell_type": "code",
   "execution_count": 35,
   "id": "e3fbac60-f4d7-4433-bc38-bc80152a66f7",
   "metadata": {},
   "outputs": [
    {
     "data": {
      "text/plain": [
       "('One', 'Two', 'Three')"
      ]
     },
     "execution_count": 35,
     "metadata": {},
     "output_type": "execute_result"
    }
   ],
   "source": [
    "mytuple[0:3]"
   ]
  },
  {
   "cell_type": "code",
   "execution_count": 37,
   "id": "63af91ca-95e2-4224-a9e9-563c46c64184",
   "metadata": {},
   "outputs": [
    {
     "data": {
      "text/plain": [
       "('Three', 'Four', 'Five')"
      ]
     },
     "execution_count": 37,
     "metadata": {},
     "output_type": "execute_result"
    }
   ],
   "source": [
    "mytuple[2:5]"
   ]
  },
  {
   "cell_type": "code",
   "execution_count": 39,
   "id": "d7b486df-de54-4888-b46f-6f367b326b00",
   "metadata": {},
   "outputs": [
    {
     "data": {
      "text/plain": [
       "('One', 'Two', 'Three')"
      ]
     },
     "execution_count": 39,
     "metadata": {},
     "output_type": "execute_result"
    }
   ],
   "source": [
    "mytuple[:3]"
   ]
  },
  {
   "cell_type": "code",
   "execution_count": 41,
   "id": "53025ded-4a3a-464d-b7d3-9a6867517ac0",
   "metadata": {},
   "outputs": [
    {
     "data": {
      "text/plain": [
       "('One', 'Two')"
      ]
     },
     "execution_count": 41,
     "metadata": {},
     "output_type": "execute_result"
    }
   ],
   "source": [
    "mytuple[:2]"
   ]
  },
  {
   "cell_type": "code",
   "execution_count": 43,
   "id": "350f05ad-a6c0-4c15-a4a3-b6c979bf2434",
   "metadata": {},
   "outputs": [
    {
     "data": {
      "text/plain": [
       "('Six', 'Seven', 'Eight')"
      ]
     },
     "execution_count": 43,
     "metadata": {},
     "output_type": "execute_result"
    }
   ],
   "source": [
    "mytuple[-3:]"
   ]
  },
  {
   "cell_type": "code",
   "execution_count": 47,
   "id": "a3d7330b-b74f-4b93-aef7-edbeac5df07f",
   "metadata": {},
   "outputs": [
    {
     "data": {
      "text/plain": [
       "('Seven', 'Eight')"
      ]
     },
     "execution_count": 47,
     "metadata": {},
     "output_type": "execute_result"
    }
   ],
   "source": [
    "mytuple[-2:]"
   ]
  },
  {
   "cell_type": "code",
   "execution_count": 49,
   "id": "9f91bd8d-e363-4e52-ba79-e8877be2303f",
   "metadata": {},
   "outputs": [
    {
     "data": {
      "text/plain": [
       "'Eight'"
      ]
     },
     "execution_count": 49,
     "metadata": {},
     "output_type": "execute_result"
    }
   ],
   "source": [
    "mytuple[-1]"
   ]
  },
  {
   "cell_type": "code",
   "execution_count": 51,
   "id": "15779b7a-8707-43d6-94a9-7c019644265a",
   "metadata": {},
   "outputs": [
    {
     "data": {
      "text/plain": [
       "('One', 'Two', 'Three', 'Four', 'Five', 'Six', 'Seven', 'Eight')"
      ]
     },
     "execution_count": 51,
     "metadata": {},
     "output_type": "execute_result"
    }
   ],
   "source": [
    "mytuple[:]"
   ]
  },
  {
   "cell_type": "markdown",
   "id": "c0db9b5f-3d02-4574-9f8b-44d74ee1e9e8",
   "metadata": {},
   "source": [
    "Remove & Change Items"
   ]
  },
  {
   "cell_type": "code",
   "execution_count": 53,
   "id": "ff869af6-415a-4742-82e5-46e4af074ab1",
   "metadata": {},
   "outputs": [
    {
     "data": {
      "text/plain": [
       "('One', 'Two', 'Three', 'Four', 'Five', 'Six', 'Seven', 'Eight')"
      ]
     },
     "execution_count": 53,
     "metadata": {},
     "output_type": "execute_result"
    }
   ],
   "source": [
    "mytuple"
   ]
  },
  {
   "cell_type": "raw",
   "id": "835dd201-b8e7-44b4-822a-e4b29dc08b51",
   "metadata": {},
   "source": [
    "T3 Image"
   ]
  },
  {
   "cell_type": "code",
   "execution_count": 55,
   "id": "cba83345-7b53-450e-bb51-04661816dd5e",
   "metadata": {},
   "outputs": [
    {
     "ename": "TypeError",
     "evalue": "'tuple' object doesn't support item deletion",
     "output_type": "error",
     "traceback": [
      "\u001b[1;31m---------------------------------------------------------------------------\u001b[0m",
      "\u001b[1;31mTypeError\u001b[0m                                 Traceback (most recent call last)",
      "Cell \u001b[1;32mIn[55], line 1\u001b[0m\n\u001b[1;32m----> 1\u001b[0m \u001b[38;5;28;01mdel\u001b[39;00m mytuple[\u001b[38;5;241m0\u001b[39m]\n",
      "\u001b[1;31mTypeError\u001b[0m: 'tuple' object doesn't support item deletion"
     ]
    }
   ],
   "source": [
    "del mytuple[0]"
   ]
  },
  {
   "cell_type": "code",
   "execution_count": 57,
   "id": "67e5bb50-996c-480a-994c-edefdb53e15c",
   "metadata": {},
   "outputs": [],
   "source": [
    "del mytuple"
   ]
  },
  {
   "cell_type": "code",
   "execution_count": 59,
   "id": "ae1c6a63-e44f-48f0-915c-53f61c1ffe21",
   "metadata": {},
   "outputs": [
    {
     "ename": "NameError",
     "evalue": "name 'mytuple' is not defined",
     "output_type": "error",
     "traceback": [
      "\u001b[1;31m---------------------------------------------------------------------------\u001b[0m",
      "\u001b[1;31mNameError\u001b[0m                                 Traceback (most recent call last)",
      "Cell \u001b[1;32mIn[59], line 1\u001b[0m\n\u001b[1;32m----> 1\u001b[0m mytuple\n",
      "\u001b[1;31mNameError\u001b[0m: name 'mytuple' is not defined"
     ]
    }
   ],
   "source": [
    "mytuple"
   ]
  },
  {
   "cell_type": "markdown",
   "id": "37f76bcd-b13b-43ca-9773-c79816104c9d",
   "metadata": {},
   "source": [
    "Loop Through Tuple"
   ]
  },
  {
   "cell_type": "code",
   "execution_count": 67,
   "id": "b2081a6e-c61c-4a85-98d2-21c47697740e",
   "metadata": {},
   "outputs": [
    {
     "data": {
      "text/plain": [
       "('One', 'Two', 'Three', 'Four', 'Five', 'Six', 'Seven', 'Eight')"
      ]
     },
     "execution_count": 67,
     "metadata": {},
     "output_type": "execute_result"
    }
   ],
   "source": [
    "mytuple=('One','Two','Three','Four','Five','Six','Seven','Eight')\n",
    "mytuple"
   ]
  },
  {
   "cell_type": "code",
   "execution_count": 63,
   "id": "a321c989-c8e0-450d-9996-d2b5aad75b39",
   "metadata": {},
   "outputs": [
    {
     "name": "stdout",
     "output_type": "stream",
     "text": [
      "One\n",
      "Two\n",
      "Three\n",
      "Four\n",
      "Five\n",
      "Six\n",
      "Seven\n",
      "Eight\n"
     ]
    }
   ],
   "source": [
    "for i in mytuple:\n",
    "    print(i)"
   ]
  },
  {
   "cell_type": "code",
   "execution_count": 65,
   "id": "d2ff13db-27be-4a26-addd-7096b5a00cd9",
   "metadata": {},
   "outputs": [
    {
     "name": "stdout",
     "output_type": "stream",
     "text": [
      "(0, 'One')\n",
      "(1, 'Two')\n",
      "(2, 'Three')\n",
      "(3, 'Four')\n",
      "(4, 'Five')\n",
      "(5, 'Six')\n",
      "(6, 'Seven')\n",
      "(7, 'Eight')\n"
     ]
    }
   ],
   "source": [
    "for i in enumerate(mytuple):\n",
    "    print(i)"
   ]
  },
  {
   "cell_type": "raw",
   "id": "b36fb850-8e08-4bd3-8ed7-2dc2c8585ec5",
   "metadata": {},
   "source": [
    "T4 Image"
   ]
  },
  {
   "cell_type": "code",
   "execution_count": 96,
   "id": "fa682b91-ee0e-4b79-839a-f8b52d9cc800",
   "metadata": {},
   "outputs": [
    {
     "data": {
      "text/plain": [
       "('One', 'Two', 'Three', 'Four', 'Five', 'Six', 'Seven', 'Eight')"
      ]
     },
     "execution_count": 96,
     "metadata": {},
     "output_type": "execute_result"
    }
   ],
   "source": [
    "mytuple"
   ]
  },
  {
   "cell_type": "code",
   "execution_count": 82,
   "id": "932220e2-e237-432c-9bef-e1eb659f2116",
   "metadata": {},
   "outputs": [
    {
     "data": {
      "text/plain": [
       "True"
      ]
     },
     "execution_count": 82,
     "metadata": {},
     "output_type": "execute_result"
    }
   ],
   "source": [
    "'One' in mytuplemytuple.index("
   ]
  },
  {
   "cell_type": "code",
   "execution_count": 88,
   "id": "e8f6fcc4-fc27-4b32-a453-43b95d6708dc",
   "metadata": {},
   "outputs": [
    {
     "name": "stdout",
     "output_type": "stream",
     "text": [
      "Three is present in the tuple\n"
     ]
    }
   ],
   "source": [
    "if 'Three' in mytuple:\n",
    "    print('Three is present in the tuple')\n",
    "else:\n",
    "    print('Three is not present in the tuple')"
   ]
  },
  {
   "cell_type": "code",
   "execution_count": 90,
   "id": "d466c650-a77a-4cf6-aeae-85b46df6a0f5",
   "metadata": {},
   "outputs": [
    {
     "name": "stdout",
     "output_type": "stream",
     "text": [
      "Eleven is not present in the tuple\n"
     ]
    }
   ],
   "source": [
    "if 'Eleven' in mytuple:\n",
    "    print('Eleven is present in the tuple')\n",
    "else:\n",
    "    print('Eleven is not present in the tuple')"
   ]
  },
  {
   "cell_type": "markdown",
   "id": "6511a6a7-9fd4-4165-9f65-e4cb33df0d33",
   "metadata": {},
   "source": [
    "Index Position"
   ]
  },
  {
   "cell_type": "code",
   "execution_count": 92,
   "id": "ccd3a2cd-b6ec-438b-857f-922553d29d85",
   "metadata": {},
   "outputs": [
    {
     "data": {
      "text/plain": [
       "('One', 'Two', 'Three', 'Four', 'Five', 'Six', 'Seven', 'Eight')"
      ]
     },
     "execution_count": 92,
     "metadata": {},
     "output_type": "execute_result"
    }
   ],
   "source": [
    "mytuple"
   ]
  },
  {
   "cell_type": "code",
   "execution_count": 94,
   "id": "39f7d72e-edb2-4aae-a9e5-c75565c09aed",
   "metadata": {},
   "outputs": [
    {
     "data": {
      "text/plain": [
       "0"
      ]
     },
     "execution_count": 94,
     "metadata": {},
     "output_type": "execute_result"
    }
   ],
   "source": [
    "mytuple.index('One')"
   ]
  },
  {
   "cell_type": "markdown",
   "id": "137e81f9-e021-496c-8272-42a240b5a117",
   "metadata": {},
   "source": [
    "T5 Image"
   ]
  },
  {
   "cell_type": "code",
   "execution_count": 98,
   "id": "cd08ee0e-d063-4b46-8475-93a20fdd03ef",
   "metadata": {},
   "outputs": [
    {
     "data": {
      "text/plain": [
       "4"
      ]
     },
     "execution_count": 98,
     "metadata": {},
     "output_type": "execute_result"
    }
   ],
   "source": [
    "mytuple.index('Five')"
   ]
  },
  {
   "cell_type": "code",
   "execution_count": 100,
   "id": "8f13bf06-ec7d-42e4-8837-4c78ce21f0ac",
   "metadata": {},
   "outputs": [
    {
     "ename": "NameError",
     "evalue": "name 'mytuple1' is not defined",
     "output_type": "error",
     "traceback": [
      "\u001b[1;31m---------------------------------------------------------------------------\u001b[0m",
      "\u001b[1;31mNameError\u001b[0m                                 Traceback (most recent call last)",
      "Cell \u001b[1;32mIn[100], line 1\u001b[0m\n\u001b[1;32m----> 1\u001b[0m mytuple1\n",
      "\u001b[1;31mNameError\u001b[0m: name 'mytuple1' is not defined"
     ]
    }
   ],
   "source": [
    "mytuple1"
   ]
  },
  {
   "cell_type": "code",
   "execution_count": 102,
   "id": "34bdcc03-9b93-494f-b621-393451cc01b9",
   "metadata": {},
   "outputs": [
    {
     "data": {
      "text/plain": [
       "('One', 'Two', 'Three', 'Four', 'One', 'One', 'Two', 'Three')"
      ]
     },
     "execution_count": 102,
     "metadata": {},
     "output_type": "execute_result"
    }
   ],
   "source": [
    "mytuple1=('One','Two','Three','Four','One','One','Two','Three')\n",
    "mytuple1"
   ]
  },
  {
   "cell_type": "code",
   "execution_count": 107,
   "id": "ac0471da-0291-44a0-8784-a1ee7831efdb",
   "metadata": {},
   "outputs": [
    {
     "data": {
      "text/plain": [
       "0"
      ]
     },
     "execution_count": 107,
     "metadata": {},
     "output_type": "execute_result"
    }
   ],
   "source": [
    "mytuple1.index('One')"
   ]
  },
  {
   "cell_type": "markdown",
   "id": "763af3da-fd8d-4505-a26d-888240148880",
   "metadata": {},
   "source": [
    "Sorting"
   ]
  },
  {
   "cell_type": "code",
   "execution_count": 109,
   "id": "92c4522a-328a-416c-86fc-823bef5e8933",
   "metadata": {},
   "outputs": [
    {
     "data": {
      "text/plain": [
       "(43, 67, 99, 12, 6, 90, 67)"
      ]
     },
     "execution_count": 109,
     "metadata": {},
     "output_type": "execute_result"
    }
   ],
   "source": [
    "mytuple2=(43,67,99,12,6,90,67)\n",
    "mytuple2"
   ]
  },
  {
   "cell_type": "code",
   "execution_count": 111,
   "id": "0f8597fb-3947-49fd-8b75-9fb3e06463f2",
   "metadata": {},
   "outputs": [
    {
     "data": {
      "text/plain": [
       "[6, 12, 43, 67, 67, 90, 99]"
      ]
     },
     "execution_count": 111,
     "metadata": {},
     "output_type": "execute_result"
    }
   ],
   "source": [
    "sorted(mytuple2)"
   ]
  },
  {
   "cell_type": "code",
   "execution_count": 113,
   "id": "a41b65d7-838e-49ef-bed9-3dcd7271dbb1",
   "metadata": {},
   "outputs": [
    {
     "data": {
      "text/plain": [
       "[99, 90, 67, 67, 43, 12, 6]"
      ]
     },
     "execution_count": 113,
     "metadata": {},
     "output_type": "execute_result"
    }
   ],
   "source": [
    "sorted(mytuple2, reverse=True)"
   ]
  },
  {
   "cell_type": "code",
   "execution_count": null,
   "id": "6a79407f-9a8f-413a-a3bf-69cf8ea9c163",
   "metadata": {},
   "outputs": [],
   "source": []
  }
 ],
 "metadata": {
  "kernelspec": {
   "display_name": "Python 3 (ipykernel)",
   "language": "python",
   "name": "python3"
  },
  "language_info": {
   "codemirror_mode": {
    "name": "ipython",
    "version": 3
   },
   "file_extension": ".py",
   "mimetype": "text/x-python",
   "name": "python",
   "nbconvert_exporter": "python",
   "pygments_lexer": "ipython3",
   "version": "3.12.7"
  }
 },
 "nbformat": 4,
 "nbformat_minor": 5
}
