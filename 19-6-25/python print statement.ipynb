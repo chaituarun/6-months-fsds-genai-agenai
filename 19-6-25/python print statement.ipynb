{
 "cells": [
  {
   "cell_type": "code",
   "execution_count": 4,
   "id": "bbeab16a-5132-4996-97e8-1ea8c78eae22",
   "metadata": {},
   "outputs": [
    {
     "data": {
      "text/plain": [
       "20"
      ]
     },
     "execution_count": 4,
     "metadata": {},
     "output_type": "execute_result"
    }
   ],
   "source": [
    "a=10\n",
    "b=20\n",
    "a\n",
    "b"
   ]
  },
  {
   "cell_type": "code",
   "execution_count": 6,
   "id": "60c3d780-90a8-43b4-92db-b140236fbe29",
   "metadata": {},
   "outputs": [
    {
     "name": "stdout",
     "output_type": "stream",
     "text": [
      "10\n",
      "20\n"
     ]
    }
   ],
   "source": [
    "print(a)\n",
    "print(b)"
   ]
  },
  {
   "cell_type": "code",
   "execution_count": 8,
   "id": "2cece404-3a2a-482e-a4ff-3898ec791e32",
   "metadata": {},
   "outputs": [
    {
     "name": "stdout",
     "output_type": "stream",
     "text": [
      "10\n",
      "10 20\n",
      "python\n",
      "10 20 python\n"
     ]
    }
   ],
   "source": [
    "print(10)\n",
    "print(10,20)\n",
    "print('python')\n",
    "print(10,20,'python')\n"
   ]
  },
  {
   "cell_type": "code",
   "execution_count": 12,
   "id": "46e57f49-4271-4d78-94c8-9e0fad674016",
   "metadata": {},
   "outputs": [
    {
     "name": "stdout",
     "output_type": "stream",
     "text": [
      "50\n"
     ]
    }
   ],
   "source": [
    "num1=20\n",
    "num2=30\n",
    "add=num1+num2\n",
    "print(add)"
   ]
  },
  {
   "cell_type": "code",
   "execution_count": 14,
   "id": "a3db4f77-ee76-47f8-87fb-dcbc3194fc49",
   "metadata": {},
   "outputs": [
    {
     "name": "stdout",
     "output_type": "stream",
     "text": [
      "The Addition of 20 and 30 is= 50\n"
     ]
    }
   ],
   "source": [
    "num1=20\n",
    "num2=30\n",
    "add=num1+num2\n",
    "print('The Addition of',num1, 'and', num2, 'is=',add)"
   ]
  },
  {
   "cell_type": "code",
   "execution_count": 16,
   "id": "84cc16d7-b0dc-42dc-8583-5b4fd988542e",
   "metadata": {},
   "outputs": [
    {
     "name": "stdout",
     "output_type": "stream",
     "text": [
      "My Name is Python and i am 20 years of from Hyd\n"
     ]
    }
   ],
   "source": [
    "name='Python'\n",
    "age=20\n",
    "city='Hyd'\n",
    "print('My Name is', name, 'and i am', age, 'years of from', city)\n"
   ]
  },
  {
   "cell_type": "code",
   "execution_count": 24,
   "id": "a30dea38-e45f-4f1a-b9ab-c218a4a1369b",
   "metadata": {},
   "outputs": [
    {
     "name": "stdout",
     "output_type": "stream",
     "text": [
      "the addition of 20 and 30 is= 50\n"
     ]
    }
   ],
   "source": [
    "num1=20\n",
    "num2=30\n",
    "add=num1+num2\n",
    "print('the addition of {} and {} is= {}'.format(num1,num2,add))"
   ]
  },
  {
   "cell_type": "code",
   "execution_count": 28,
   "id": "13869324-5c94-4caf-94fd-7bb05384c444",
   "metadata": {},
   "outputs": [
    {
     "name": "stdout",
     "output_type": "stream",
     "text": [
      "My Name Is Python and I Am 20 years of old from Hyd\n"
     ]
    }
   ],
   "source": [
    "name='Python'\n",
    "age=20\n",
    "city='Hyd'\n",
    "print('My Name Is {} and I Am {} years of old from {}'.format(name,age,city))"
   ]
  },
  {
   "cell_type": "code",
   "execution_count": 40,
   "id": "c4af45b1-697a-495b-846b-0b7480e93e8a",
   "metadata": {},
   "outputs": [
    {
     "name": "stdout",
     "output_type": "stream",
     "text": [
      "the average of 100, 25, and 333 is= 152.66666666666666 or 152.67\n"
     ]
    }
   ],
   "source": [
    "num1=100\n",
    "num2=25\n",
    "num3=333\n",
    "avg=(num1+num2+num3)/3\n",
    "avg1=round((num1+num2+num3)/3,2)\n",
    "print('the average of {}, {}, and {} is= {} or {}'.format(num1,num2,num3,avg,avg1))"
   ]
  },
  {
   "cell_type": "code",
   "execution_count": 42,
   "id": "431ec386-274d-4b7c-899a-78a0d9c00bc0",
   "metadata": {},
   "outputs": [
    {
     "data": {
      "text/plain": [
       "152.67"
      ]
     },
     "execution_count": 42,
     "metadata": {},
     "output_type": "execute_result"
    }
   ],
   "source": [
    "round(avg,2)"
   ]
  },
  {
   "cell_type": "code",
   "execution_count": 50,
   "id": "303ef671-0a8a-4e37-86da-9db71cdb339d",
   "metadata": {},
   "outputs": [
    {
     "name": "stdout",
     "output_type": "stream",
     "text": [
      "the addition of 20 and 30 is=50\n"
     ]
    }
   ],
   "source": [
    "num1=20\n",
    "num2=30\n",
    "add=num1+num2\n",
    "print(f'the addition of {num1} and {num2} is={add}')"
   ]
  },
  {
   "cell_type": "code",
   "execution_count": 52,
   "id": "ce742a89-f0b9-409e-9dda-808428202d91",
   "metadata": {},
   "outputs": [
    {
     "name": "stdout",
     "output_type": "stream",
     "text": [
      "my name is python and i am 20 years old from hyd \n"
     ]
    }
   ],
   "source": [
    "name='python'\n",
    "age=20\n",
    "city='hyd'\n",
    "print(f'my name is {name} and i am {age} years old from {city} ')"
   ]
  },
  {
   "cell_type": "code",
   "execution_count": 5,
   "id": "9d37fb68-8e84-4c11-acfd-d1014b878e36",
   "metadata": {},
   "outputs": [
    {
     "name": "stdout",
     "output_type": "stream",
     "text": [
      "The average of 100 and 25 and 333 is=152.67\n"
     ]
    }
   ],
   "source": [
    "num1=100\n",
    "num2=25\n",
    "num3=333\n",
    "avg=round((num1+num2+num3)/3,2)\n",
    "print(f'The average of {num1} and {num2} and {num3} is={avg}')"
   ]
  },
  {
   "cell_type": "code",
   "execution_count": 23,
   "id": "7a2dd18a-1180-4121-bacf-54732f465ead",
   "metadata": {},
   "outputs": [
    {
     "name": "stdout",
     "output_type": "stream",
     "text": [
      "the addition of 10 and 20 is= 30\n",
      "the addition of 10 and 20 is= 30\n",
      "the addition of 10 and 20 is= 30 \n"
     ]
    }
   ],
   "source": [
    "num1=10\n",
    "num2=20\n",
    "add=num1+num2\n",
    "print('the addition of', num1, 'and', num2, 'is=', add)\n",
    "print('the addition of {} and {} is= {}'.format(num1,num2,add))\n",
    "print(f'the addition of {num1} and {num2} is= {add} ')"
   ]
  },
  {
   "cell_type": "code",
   "execution_count": 25,
   "id": "ce07f4b8-7105-4aae-b81a-858e6f53af89",
   "metadata": {},
   "outputs": [
    {
     "name": "stdout",
     "output_type": "stream",
     "text": [
      "hello\n",
      "good morning\n"
     ]
    }
   ],
   "source": [
    "print('hello')\n",
    "print('good morning')"
   ]
  },
  {
   "cell_type": "code",
   "execution_count": 31,
   "id": "77b22b04-72eb-499c-8cd6-406fd1d853a7",
   "metadata": {},
   "outputs": [
    {
     "name": "stdout",
     "output_type": "stream",
     "text": [
      "hello world good day\n"
     ]
    }
   ],
   "source": [
    "print('hello', end= ' ')\n",
    "print('world good day')"
   ]
  },
  {
   "cell_type": "code",
   "execution_count": 53,
   "id": "d7c61ce8-d50e-4ddb-998e-da03bb3dc377",
   "metadata": {},
   "outputs": [
    {
     "name": "stdout",
     "output_type": "stream",
     "text": [
      "hello--->hai--->how are you\n"
     ]
    }
   ],
   "source": [
    "print('hello', 'hai', 'how are you', sep= '--->')"
   ]
  },
  {
   "cell_type": "code",
   "execution_count": 55,
   "id": "8b48f9d3-9499-4e4e-9166-f02814d68442",
   "metadata": {},
   "outputs": [
    {
     "name": "stdout",
     "output_type": "stream",
     "text": [
      "hello & hai & how are you\n"
     ]
    }
   ],
   "source": [
    "print('hello', ' hai', ' how are you', sep= ' &')"
   ]
  },
  {
   "cell_type": "code",
   "execution_count": 57,
   "id": "0226e50c-7098-4db8-995c-a40b6f36ad0c",
   "metadata": {},
   "outputs": [
    {
     "name": "stdout",
     "output_type": "stream",
     "text": [
      "hello @ hai @ how are you\n"
     ]
    }
   ],
   "source": [
    "print('hello', ' hai', ' how are you', sep= ' @')"
   ]
  },
  {
   "cell_type": "code",
   "execution_count": 59,
   "id": "4dd6e655-9b3b-487a-ae9d-90d7fb7332e4",
   "metadata": {},
   "outputs": [
    {
     "name": "stdout",
     "output_type": "stream",
     "text": [
      "hello  hai  how are you\n"
     ]
    }
   ],
   "source": [
    "print('hello', ' hai', ' how are you', sep= ' ')"
   ]
  },
  {
   "cell_type": "code",
   "execution_count": 70,
   "id": "4209a64d-23f5-4b05-9db7-7baddd739b08",
   "metadata": {},
   "outputs": [
    {
     "name": "stdout",
     "output_type": "stream",
     "text": [
      "3 .\n"
     ]
    }
   ],
   "source": [
    "print(3,'.')"
   ]
  },
  {
   "cell_type": "code",
   "execution_count": 73,
   "id": "d3a9d0bf-c2e8-4dfd-99fd-4cb3f9c2466a",
   "metadata": {},
   "outputs": [
    {
     "name": "stdout",
     "output_type": "stream",
     "text": [
      "3.\n"
     ]
    }
   ],
   "source": [
    "print(3,'.', sep='')"
   ]
  },
  {
   "cell_type": "code",
   "execution_count": 77,
   "id": "04eef9a8-db12-4e28-a52c-bfdb5b254e56",
   "metadata": {},
   "outputs": [
    {
     "name": "stdout",
     "output_type": "stream",
     "text": [
      "1 2 3.\n"
     ]
    }
   ],
   "source": [
    "print(1,2, end=' ')\n",
    "print(3,'.', sep='')"
   ]
  },
  {
   "cell_type": "code",
   "execution_count": null,
   "id": "5dc81abd-03c7-42ad-abd4-157c76045d9e",
   "metadata": {},
   "outputs": [],
   "source": []
  }
 ],
 "metadata": {
  "kernelspec": {
   "display_name": "Python 3 (ipykernel)",
   "language": "python",
   "name": "python3"
  },
  "language_info": {
   "codemirror_mode": {
    "name": "ipython",
    "version": 3
   },
   "file_extension": ".py",
   "mimetype": "text/x-python",
   "name": "python",
   "nbconvert_exporter": "python",
   "pygments_lexer": "ipython3",
   "version": "3.12.7"
  }
 },
 "nbformat": 4,
 "nbformat_minor": 5
}
