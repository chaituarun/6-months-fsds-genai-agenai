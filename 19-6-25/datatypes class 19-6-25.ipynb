{
 "cells": [
  {
   "cell_type": "code",
   "execution_count": 3,
   "id": "23e4ccc6-23a6-4f0c-935d-f20bc7c2b11d",
   "metadata": {},
   "outputs": [
    {
     "data": {
      "text/plain": [
       "32"
      ]
     },
     "execution_count": 3,
     "metadata": {},
     "output_type": "execute_result"
    }
   ],
   "source": [
    "i=32\n",
    "i"
   ]
  },
  {
   "cell_type": "code",
   "execution_count": 5,
   "id": "85870c98-a8f6-465f-8fa4-de6c1f446774",
   "metadata": {},
   "outputs": [
    {
     "data": {
      "text/plain": [
       "int"
      ]
     },
     "execution_count": 5,
     "metadata": {},
     "output_type": "execute_result"
    }
   ],
   "source": [
    "type(i)"
   ]
  },
  {
   "cell_type": "code",
   "execution_count": 7,
   "id": "9c859d52-855f-4a2a-9065-00775ab6e752",
   "metadata": {},
   "outputs": [
    {
     "data": {
      "text/plain": [
       "110.32"
      ]
     },
     "execution_count": 7,
     "metadata": {},
     "output_type": "execute_result"
    }
   ],
   "source": [
    "f=110.32\n",
    "f"
   ]
  },
  {
   "cell_type": "code",
   "execution_count": 9,
   "id": "64653ce1-7c55-4953-b8da-2fc77e224c58",
   "metadata": {},
   "outputs": [
    {
     "data": {
      "text/plain": [
       "float"
      ]
     },
     "execution_count": 9,
     "metadata": {},
     "output_type": "execute_result"
    }
   ],
   "source": [
    "type(f)"
   ]
  },
  {
   "cell_type": "code",
   "execution_count": 11,
   "id": "65085cd0-a12a-47e7-8de0-22cbce2bfd84",
   "metadata": {},
   "outputs": [
    {
     "data": {
      "text/plain": [
       "1.0"
      ]
     },
     "execution_count": 11,
     "metadata": {},
     "output_type": "execute_result"
    }
   ],
   "source": [
    "f1=1e0\n",
    "f1"
   ]
  },
  {
   "cell_type": "code",
   "execution_count": 13,
   "id": "0dd0848b-de2a-43d9-a35d-2f82587afc12",
   "metadata": {},
   "outputs": [
    {
     "data": {
      "text/plain": [
       "10.0"
      ]
     },
     "execution_count": 13,
     "metadata": {},
     "output_type": "execute_result"
    }
   ],
   "source": [
    "f2=1e1\n",
    "f2"
   ]
  },
  {
   "cell_type": "code",
   "execution_count": 15,
   "id": "09bc9de1-6352-4757-a48b-77a86abc155c",
   "metadata": {},
   "outputs": [
    {
     "data": {
      "text/plain": [
       "100.0"
      ]
     },
     "execution_count": 15,
     "metadata": {},
     "output_type": "execute_result"
    }
   ],
   "source": [
    "f3=1e2\n",
    "f3"
   ]
  },
  {
   "cell_type": "code",
   "execution_count": 19,
   "id": "fef51243-3e83-4e22-aa44-7b65ccc12f66",
   "metadata": {},
   "outputs": [
    {
     "data": {
      "text/plain": [
       "1000.0"
      ]
     },
     "execution_count": 19,
     "metadata": {},
     "output_type": "execute_result"
    }
   ],
   "source": [
    "f4=1e3\n",
    "f4"
   ]
  },
  {
   "cell_type": "code",
   "execution_count": 21,
   "id": "fcf4c6ad-7ef9-44b1-a52d-987f8181493d",
   "metadata": {},
   "outputs": [
    {
     "data": {
      "text/plain": [
       "1000.0"
      ]
     },
     "execution_count": 21,
     "metadata": {},
     "output_type": "execute_result"
    }
   ],
   "source": [
    "f5=1E3\n",
    "f5"
   ]
  },
  {
   "cell_type": "code",
   "execution_count": 27,
   "id": "87dc1df0-0b29-4ab2-9c66-7fcbae970c3f",
   "metadata": {},
   "outputs": [
    {
     "data": {
      "text/plain": [
       "-10"
      ]
     },
     "execution_count": 27,
     "metadata": {},
     "output_type": "execute_result"
    }
   ],
   "source": [
    "a=10\n",
    "b=20\n",
    "a+b\n",
    "a-b"
   ]
  },
  {
   "cell_type": "code",
   "execution_count": 29,
   "id": "39acd343-254c-4ac0-a821-ddea830c5980",
   "metadata": {},
   "outputs": [
    {
     "name": "stdout",
     "output_type": "stream",
     "text": [
      "30\n",
      "-10\n",
      "200\n",
      "0.5\n"
     ]
    }
   ],
   "source": [
    "print(a+b)\n",
    "print(a-b)\n",
    "print(a*b)\n",
    "print(a/b)"
   ]
  },
  {
   "cell_type": "code",
   "execution_count": 35,
   "id": "e871c220-4656-40ec-8e29-7c7fbb876d69",
   "metadata": {},
   "outputs": [
    {
     "name": "stdout",
     "output_type": "stream",
     "text": [
      "The addition of20 and 30 and40 is= 90\n"
     ]
    }
   ],
   "source": [
    "num1=20\n",
    "num2=30\n",
    "num3=40\n",
    "add=num1+num2+num3\n",
    "print('The addition of{} and {} and{} is= {}'. format(num1,num2,num3,add))"
   ]
  },
  {
   "cell_type": "code",
   "execution_count": 52,
   "id": "b4b2b65e-1d3a-4488-a810-61753b2ff048",
   "metadata": {},
   "outputs": [
    {
     "data": {
      "text/plain": [
       "(1+2j)"
      ]
     },
     "execution_count": 52,
     "metadata": {},
     "output_type": "execute_result"
    }
   ],
   "source": [
    "c=1+2j\n",
    "c"
   ]
  },
  {
   "cell_type": "code",
   "execution_count": 54,
   "id": "4928100b-a0f1-4d43-ba51-fb8efb58c018",
   "metadata": {},
   "outputs": [
    {
     "data": {
      "text/plain": [
       "complex"
      ]
     },
     "execution_count": 54,
     "metadata": {},
     "output_type": "execute_result"
    }
   ],
   "source": [
    "type(c)"
   ]
  },
  {
   "cell_type": "code",
   "execution_count": 56,
   "id": "9b57f349-4cc6-4946-a7f5-fc8b73e186b8",
   "metadata": {},
   "outputs": [
    {
     "data": {
      "text/plain": [
       "1.0"
      ]
     },
     "execution_count": 56,
     "metadata": {},
     "output_type": "execute_result"
    }
   ],
   "source": [
    "c.real"
   ]
  },
  {
   "cell_type": "code",
   "execution_count": 58,
   "id": "50ebb007-4030-4e60-90f8-7486f10d6520",
   "metadata": {},
   "outputs": [
    {
     "data": {
      "text/plain": [
       "2.0"
      ]
     },
     "execution_count": 58,
     "metadata": {},
     "output_type": "execute_result"
    }
   ],
   "source": [
    "c.imag"
   ]
  },
  {
   "cell_type": "code",
   "execution_count": 60,
   "id": "1a31be3e-0090-4d38-af47-2544b868051e",
   "metadata": {},
   "outputs": [
    {
     "name": "stdout",
     "output_type": "stream",
     "text": [
      "(15+30j)\n",
      "(-5-10j)\n"
     ]
    }
   ],
   "source": [
    "c=5+10j\n",
    "d=10+20j\n",
    "print(c+d)\n",
    "print(c-d)"
   ]
  },
  {
   "cell_type": "code",
   "execution_count": 62,
   "id": "a2427fee-0910-42ce-ab05-18f0d712ec33",
   "metadata": {},
   "outputs": [
    {
     "data": {
      "text/plain": [
       "int"
      ]
     },
     "execution_count": 62,
     "metadata": {},
     "output_type": "execute_result"
    }
   ],
   "source": [
    "a=5\n",
    "type(a)"
   ]
  },
  {
   "cell_type": "code",
   "execution_count": 71,
   "id": "6eefc373-35d5-46d2-92d4-d481a8bc48c2",
   "metadata": {},
   "outputs": [
    {
     "data": {
      "text/plain": [
       "(5+10j)"
      ]
     },
     "execution_count": 71,
     "metadata": {},
     "output_type": "execute_result"
    }
   ],
   "source": [
    "c2=5+10j\n",
    "c2"
   ]
  },
  {
   "cell_type": "code",
   "execution_count": 73,
   "id": "b298c698-b531-4ce2-9475-25965b39ef62",
   "metadata": {},
   "outputs": [
    {
     "data": {
      "text/plain": [
       "True"
      ]
     },
     "execution_count": 73,
     "metadata": {},
     "output_type": "execute_result"
    }
   ],
   "source": [
    "b=True\n",
    "b"
   ]
  },
  {
   "cell_type": "code",
   "execution_count": 75,
   "id": "f0d5a947-232f-4e23-ab8e-8f1b84e71884",
   "metadata": {},
   "outputs": [
    {
     "data": {
      "text/plain": [
       "False"
      ]
     },
     "execution_count": 75,
     "metadata": {},
     "output_type": "execute_result"
    }
   ],
   "source": [
    "b1=False\n",
    "b1"
   ]
  },
  {
   "cell_type": "code",
   "execution_count": 79,
   "id": "7e35a31a-a4f9-4f4d-82e6-1f6bd4087879",
   "metadata": {},
   "outputs": [
    {
     "data": {
      "text/plain": [
       "1"
      ]
     },
     "execution_count": 79,
     "metadata": {},
     "output_type": "execute_result"
    }
   ],
   "source": [
    "int(True)"
   ]
  },
  {
   "cell_type": "code",
   "execution_count": 81,
   "id": "7dde6a5d-f207-42bd-b62a-123f3bd2186f",
   "metadata": {},
   "outputs": [
    {
     "data": {
      "text/plain": [
       "0"
      ]
     },
     "execution_count": 81,
     "metadata": {},
     "output_type": "execute_result"
    }
   ],
   "source": [
    "int(False)"
   ]
  },
  {
   "cell_type": "code",
   "execution_count": 83,
   "id": "cea37cbc-2007-4c2c-98db-2b9e719f87f4",
   "metadata": {},
   "outputs": [
    {
     "data": {
      "text/plain": [
       "2"
      ]
     },
     "execution_count": 83,
     "metadata": {},
     "output_type": "execute_result"
    }
   ],
   "source": [
    "True+True"
   ]
  },
  {
   "cell_type": "code",
   "execution_count": 85,
   "id": "72baf010-e4d2-4866-850d-bee0fc338d58",
   "metadata": {},
   "outputs": [
    {
     "data": {
      "text/plain": [
       "1"
      ]
     },
     "execution_count": 85,
     "metadata": {},
     "output_type": "execute_result"
    }
   ],
   "source": [
    "True-False"
   ]
  },
  {
   "cell_type": "code",
   "execution_count": 87,
   "id": "bb21d42a-16a9-4314-a7b7-894b74ce9ef6",
   "metadata": {},
   "outputs": [
    {
     "data": {
      "text/plain": [
       "-1"
      ]
     },
     "execution_count": 87,
     "metadata": {},
     "output_type": "execute_result"
    }
   ],
   "source": [
    "False-True"
   ]
  },
  {
   "cell_type": "code",
   "execution_count": 91,
   "id": "cc40c325-45e8-40f1-ad32-abb71a1323cb",
   "metadata": {},
   "outputs": [
    {
     "data": {
      "text/plain": [
       "2"
      ]
     },
     "execution_count": 91,
     "metadata": {},
     "output_type": "execute_result"
    }
   ],
   "source": [
    "True-True*False+1"
   ]
  },
  {
   "cell_type": "code",
   "execution_count": null,
   "id": "0fa7410a-a58d-4591-928a-f026766341e6",
   "metadata": {},
   "outputs": [],
   "source": []
  },
  {
   "cell_type": "code",
   "execution_count": 94,
   "id": "6193e216-97ee-4cba-a29d-396c07694703",
   "metadata": {},
   "outputs": [
    {
     "data": {
      "text/plain": [
       "1"
      ]
     },
     "execution_count": 94,
     "metadata": {},
     "output_type": "execute_result"
    }
   ],
   "source": [
    "True-True*False+False"
   ]
  },
  {
   "cell_type": "code",
   "execution_count": null,
   "id": "f671036b-62cc-4a74-b57f-6d6a2b4936cc",
   "metadata": {},
   "outputs": [],
   "source": []
  }
 ],
 "metadata": {
  "kernelspec": {
   "display_name": "Python 3 (ipykernel)",
   "language": "python",
   "name": "python3"
  },
  "language_info": {
   "codemirror_mode": {
    "name": "ipython",
    "version": 3
   },
   "file_extension": ".py",
   "mimetype": "text/x-python",
   "name": "python",
   "nbconvert_exporter": "python",
   "pygments_lexer": "ipython3",
   "version": "3.12.7"
  }
 },
 "nbformat": 4,
 "nbformat_minor": 5
}
