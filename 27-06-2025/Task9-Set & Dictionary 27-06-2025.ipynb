{
 "cells": [
  {
   "cell_type": "markdown",
   "id": "c72a5dd2-7685-4818-83bd-a6f46df1623e",
   "metadata": {},
   "source": [
    "# ."
   ]
  },
  {
   "cell_type": "code",
   "execution_count": 1,
   "id": "3c46c899-f3c6-411a-83f0-0bbcf4a6e5e4",
   "metadata": {},
   "outputs": [
    {
     "data": {
      "text/plain": [
       "{1, 2, 3, 4, 5}"
      ]
     },
     "execution_count": 1,
     "metadata": {},
     "output_type": "execute_result"
    }
   ],
   "source": [
    "myset={1,2,3,4,5}\n",
    "myset"
   ]
  },
  {
   "cell_type": "code",
   "execution_count": 3,
   "id": "a42089ff-1668-4271-a736-953797ae1c0b",
   "metadata": {},
   "outputs": [
    {
     "data": {
      "text/plain": [
       "5"
      ]
     },
     "execution_count": 3,
     "metadata": {},
     "output_type": "execute_result"
    }
   ],
   "source": [
    "len(myset)"
   ]
  },
  {
   "cell_type": "code",
   "execution_count": 9,
   "id": "eccc9eac-8225-409f-b0e2-63922e9616db",
   "metadata": {},
   "outputs": [
    {
     "data": {
      "text/plain": [
       "{1, 2, 3, 4, 5}"
      ]
     },
     "execution_count": 9,
     "metadata": {},
     "output_type": "execute_result"
    }
   ],
   "source": [
    "my_set = {1,1,2,2,3,4,5,5} \n",
    "my_set"
   ]
  },
  {
   "cell_type": "code",
   "execution_count": 14,
   "id": "1cfe4b07-59ff-490d-a5e1-bb2c03f5760c",
   "metadata": {},
   "outputs": [
    {
     "data": {
      "text/plain": [
       "{1.79, 2.08, 3.99, 4.56, 5.45}"
      ]
     },
     "execution_count": 14,
     "metadata": {},
     "output_type": "execute_result"
    }
   ],
   "source": [
    "myset1 = {1.79,2.08,3.99,4.56,5.45} \n",
    "myset1"
   ]
  },
  {
   "cell_type": "code",
   "execution_count": 16,
   "id": "58c28ff3-327e-4094-8c63-b1feb67339e3",
   "metadata": {},
   "outputs": [
    {
     "data": {
      "text/plain": [
       "{'Asif', 'John', 'Tyrion'}"
      ]
     },
     "execution_count": 16,
     "metadata": {},
     "output_type": "execute_result"
    }
   ],
   "source": [
    "myset2 = {'Asif' , 'John' , 'Tyrion'} \n",
    "myset2"
   ]
  },
  {
   "cell_type": "code",
   "execution_count": 31,
   "id": "e904f8b0-3446-440d-ac79-822eba3f9bac",
   "metadata": {},
   "outputs": [
    {
     "data": {
      "text/plain": [
       "{(11, 22, 32), 10, 20, 'Hola'}"
      ]
     },
     "execution_count": 31,
     "metadata": {},
     "output_type": "execute_result"
    }
   ],
   "source": [
    "myset3 = {10,20, \"Hola\", (11, 22, 32)}\n",
    "myset3"
   ]
  },
  {
   "cell_type": "code",
   "execution_count": 33,
   "id": "edf3070c-bde7-4ce1-9a25-5fd9c6056c43",
   "metadata": {},
   "outputs": [
    {
     "ename": "TypeError",
     "evalue": "unhashable type: 'list'",
     "output_type": "error",
     "traceback": [
      "\u001b[1;31m---------------------------------------------------------------------------\u001b[0m",
      "\u001b[1;31mTypeError\u001b[0m                                 Traceback (most recent call last)",
      "Cell \u001b[1;32mIn[33], line 1\u001b[0m\n\u001b[1;32m----> 1\u001b[0m myset3 \u001b[38;5;241m=\u001b[39m {\u001b[38;5;241m10\u001b[39m,\u001b[38;5;241m20\u001b[39m, \u001b[38;5;124m\"\u001b[39m\u001b[38;5;124mHola\u001b[39m\u001b[38;5;124m\"\u001b[39m, [\u001b[38;5;241m11\u001b[39m, \u001b[38;5;241m22\u001b[39m, \u001b[38;5;241m32\u001b[39m]}\n\u001b[0;32m      2\u001b[0m myset3\n",
      "\u001b[1;31mTypeError\u001b[0m: unhashable type: 'list'"
     ]
    }
   ],
   "source": [
    "myset3 = {10,20, \"Hola\", [11, 22, 32]}\n",
    "myset3"
   ]
  },
  {
   "cell_type": "code",
   "execution_count": 35,
   "id": "c57f0027-15ee-45e7-b982-43d79b006c0d",
   "metadata": {},
   "outputs": [
    {
     "data": {
      "text/plain": [
       "set()"
      ]
     },
     "execution_count": 35,
     "metadata": {},
     "output_type": "execute_result"
    }
   ],
   "source": [
    "myset4=set()\n",
    "myset4"
   ]
  },
  {
   "cell_type": "code",
   "execution_count": 27,
   "id": "3720f8eb-1e41-4249-8f1a-1118a9ca47e4",
   "metadata": {},
   "outputs": [
    {
     "data": {
      "text/plain": [
       "{'four', 'one', 'three', 'two'}"
      ]
     },
     "execution_count": 27,
     "metadata": {},
     "output_type": "execute_result"
    }
   ],
   "source": [
    "my_set1 = set(('one' , 'two' , 'three' , 'four')) \n",
    "my_set1"
   ]
  },
  {
   "cell_type": "markdown",
   "id": "1e8e0925-d774-46a4-adf2-8c6e4d2d8b90",
   "metadata": {},
   "source": [
    "Loop Through Set"
   ]
  },
  {
   "cell_type": "code",
   "execution_count": 37,
   "id": "1b4b2a06-548f-4bf2-9b71-6e977d8652c5",
   "metadata": {},
   "outputs": [
    {
     "name": "stdout",
     "output_type": "stream",
     "text": [
      "five\n",
      "seven\n",
      "three\n",
      "eight\n",
      "one\n",
      "six\n",
      "two\n",
      "four\n"
     ]
    }
   ],
   "source": [
    "myset = {'one', 'two', 'three', 'four', 'five', 'six', 'seven', 'eight'}\n",
    "for i in myset:\n",
    "    print(i)"
   ]
  },
  {
   "cell_type": "code",
   "execution_count": 39,
   "id": "91731ad4-8ec4-45d6-85f9-00b126a94fc0",
   "metadata": {},
   "outputs": [
    {
     "name": "stdout",
     "output_type": "stream",
     "text": [
      "(0, 'five')\n",
      "(1, 'seven')\n",
      "(2, 'three')\n",
      "(3, 'eight')\n",
      "(4, 'one')\n",
      "(5, 'six')\n",
      "(6, 'two')\n",
      "(7, 'four')\n"
     ]
    }
   ],
   "source": [
    "for i in enumerate(myset):\n",
    "    print(i)"
   ]
  },
  {
   "cell_type": "code",
   "execution_count": 41,
   "id": "0745b8ae-717b-4fc7-ad2a-79e891ede2e6",
   "metadata": {},
   "outputs": [
    {
     "data": {
      "text/plain": [
       "{'eight', 'five', 'four', 'one', 'seven', 'six', 'three', 'two'}"
      ]
     },
     "execution_count": 41,
     "metadata": {},
     "output_type": "execute_result"
    }
   ],
   "source": [
    "myset"
   ]
  },
  {
   "cell_type": "code",
   "execution_count": 43,
   "id": "7f5ae1cc-eba1-4689-9fa3-43de6da766ee",
   "metadata": {},
   "outputs": [
    {
     "data": {
      "text/plain": [
       "True"
      ]
     },
     "execution_count": 43,
     "metadata": {},
     "output_type": "execute_result"
    }
   ],
   "source": [
    "'one' in myset"
   ]
  },
  {
   "cell_type": "code",
   "execution_count": 45,
   "id": "425954a1-234d-4e20-8ceb-4f07d0fbb8b1",
   "metadata": {},
   "outputs": [
    {
     "data": {
      "text/plain": [
       "False"
      ]
     },
     "execution_count": 45,
     "metadata": {},
     "output_type": "execute_result"
    }
   ],
   "source": [
    "'ten' in myset"
   ]
  },
  {
   "cell_type": "code",
   "execution_count": 47,
   "id": "fe4084b9-8c78-4f8b-8055-a6fac208af9b",
   "metadata": {},
   "outputs": [
    {
     "name": "stdout",
     "output_type": "stream",
     "text": [
      "Three is present in the set\n"
     ]
    }
   ],
   "source": [
    "if 'three' in myset:\n",
    "    print('Three is present in the set') \n",
    "else:\n",
    "    print('Three is not present in the set') "
   ]
  },
  {
   "cell_type": "code",
   "execution_count": 49,
   "id": "a8e770c8-e4d4-4231-aa32-8a592707cd9a",
   "metadata": {},
   "outputs": [
    {
     "name": "stdout",
     "output_type": "stream",
     "text": [
      "Eleven is not present in the set\n"
     ]
    }
   ],
   "source": [
    "if 'eleven' in myset:\n",
    "    print('Eleven is present in the set') \n",
    "else:\n",
    "    print('Eleven is not present in the set') "
   ]
  },
  {
   "cell_type": "code",
   "execution_count": 51,
   "id": "9f2e9c58-6f91-4673-ac13-422d461a0dda",
   "metadata": {},
   "outputs": [
    {
     "data": {
      "text/plain": [
       "{'eight', 'five', 'four', 'one', 'seven', 'six', 'three', 'two'}"
      ]
     },
     "execution_count": 51,
     "metadata": {},
     "output_type": "execute_result"
    }
   ],
   "source": [
    "myset"
   ]
  },
  {
   "cell_type": "code",
   "execution_count": 55,
   "id": "5e4eb187-c97f-47c7-9517-fee955bc0bec",
   "metadata": {},
   "outputs": [
    {
     "data": {
      "text/plain": [
       "{'eight', 'five', 'four', 'nine', 'one', 'seven', 'six', 'three', 'two'}"
      ]
     },
     "execution_count": 55,
     "metadata": {},
     "output_type": "execute_result"
    }
   ],
   "source": [
    "myset.add('nine')\n",
    "myset"
   ]
  },
  {
   "cell_type": "code",
   "execution_count": 57,
   "id": "434b259d-3e9c-4c32-bf03-05db3962cd05",
   "metadata": {},
   "outputs": [
    {
     "data": {
      "text/plain": [
       "{'eight',\n",
       " 'eleven',\n",
       " 'five',\n",
       " 'four',\n",
       " 'nine',\n",
       " 'one',\n",
       " 'seven',\n",
       " 'six',\n",
       " 'ten',\n",
       " 'three',\n",
       " 'twelve',\n",
       " 'two'}"
      ]
     },
     "execution_count": 57,
     "metadata": {},
     "output_type": "execute_result"
    }
   ],
   "source": [
    "myset.update(['ten', 'eleven', 'twelve'])\n",
    "myset"
   ]
  },
  {
   "cell_type": "code",
   "execution_count": 59,
   "id": "927d36a0-3cbd-46cd-90a4-13573da54a83",
   "metadata": {},
   "outputs": [
    {
     "data": {
      "text/plain": [
       "{'eight',\n",
       " 'eleven',\n",
       " 'five',\n",
       " 'four',\n",
       " 'one',\n",
       " 'seven',\n",
       " 'six',\n",
       " 'ten',\n",
       " 'three',\n",
       " 'twelve',\n",
       " 'two'}"
      ]
     },
     "execution_count": 59,
     "metadata": {},
     "output_type": "execute_result"
    }
   ],
   "source": [
    "myset.remove('nine')\n",
    "myset"
   ]
  },
  {
   "cell_type": "code",
   "execution_count": 63,
   "id": "38259a18-5f9c-439f-be02-ceab4d02c28d",
   "metadata": {},
   "outputs": [
    {
     "data": {
      "text/plain": [
       "{'eight',\n",
       " 'eleven',\n",
       " 'five',\n",
       " 'four',\n",
       " 'one',\n",
       " 'seven',\n",
       " 'six',\n",
       " 'ten',\n",
       " 'three',\n",
       " 'twelve',\n",
       " 'two'}"
      ]
     },
     "execution_count": 63,
     "metadata": {},
     "output_type": "execute_result"
    }
   ],
   "source": [
    "myset.discard('Ten')\n",
    "myset"
   ]
  },
  {
   "cell_type": "code",
   "execution_count": 68,
   "id": "cdc257b2-f14a-456a-bca2-ca1ab90e8786",
   "metadata": {},
   "outputs": [
    {
     "data": {
      "text/plain": [
       "set()"
      ]
     },
     "execution_count": 68,
     "metadata": {},
     "output_type": "execute_result"
    }
   ],
   "source": [
    "myset.clear()\n",
    "myset"
   ]
  },
  {
   "cell_type": "code",
   "execution_count": 70,
   "id": "fe9c60d7-4c84-47d6-aaac-6ac23d439db3",
   "metadata": {},
   "outputs": [
    {
     "ename": "NameError",
     "evalue": "name 'myset' is not defined",
     "output_type": "error",
     "traceback": [
      "\u001b[1;31m---------------------------------------------------------------------------\u001b[0m",
      "\u001b[1;31mNameError\u001b[0m                                 Traceback (most recent call last)",
      "Cell \u001b[1;32mIn[70], line 2\u001b[0m\n\u001b[0;32m      1\u001b[0m \u001b[38;5;28;01mdel\u001b[39;00m myset\n\u001b[1;32m----> 2\u001b[0m myset\n",
      "\u001b[1;31mNameError\u001b[0m: name 'myset' is not defined"
     ]
    }
   ],
   "source": [
    "del myset\n",
    "myset"
   ]
  },
  {
   "cell_type": "code",
   "execution_count": 72,
   "id": "e0b02e25-b5a5-49b7-a3ee-c06c14585d15",
   "metadata": {},
   "outputs": [
    {
     "data": {
      "text/plain": [
       "{'eight', 'five', 'four', 'one', 'seven', 'six', 'three', 'two'}"
      ]
     },
     "execution_count": 72,
     "metadata": {},
     "output_type": "execute_result"
    }
   ],
   "source": [
    "myset = {'one', 'two', 'three', 'four', 'five', 'six', 'seven', 'eight'} \n",
    "myset "
   ]
  },
  {
   "cell_type": "code",
   "execution_count": 74,
   "id": "311142ad-59d9-4546-95ec-bf009099a650",
   "metadata": {},
   "outputs": [
    {
     "data": {
      "text/plain": [
       "{'eight', 'five', 'four', 'one', 'seven', 'six', 'three', 'two'}"
      ]
     },
     "execution_count": 74,
     "metadata": {},
     "output_type": "execute_result"
    }
   ],
   "source": [
    "myset1=myset\n",
    "myset1"
   ]
  },
  {
   "cell_type": "code",
   "execution_count": 78,
   "id": "64a5a539-b65b-4ee5-94be-9fb317205926",
   "metadata": {},
   "outputs": [
    {
     "data": {
      "text/plain": [
       "(2883511971712, 2883511971712)"
      ]
     },
     "execution_count": 78,
     "metadata": {},
     "output_type": "execute_result"
    }
   ],
   "source": [
    "id(myset),id(myset1)"
   ]
  },
  {
   "cell_type": "code",
   "execution_count": 80,
   "id": "4846dd72-1f48-4e38-bd2d-89dd8b51fa2e",
   "metadata": {},
   "outputs": [
    {
     "data": {
      "text/plain": [
       "{'eight', 'five', 'four', 'one', 'seven', 'six', 'three', 'two'}"
      ]
     },
     "execution_count": 80,
     "metadata": {},
     "output_type": "execute_result"
    }
   ],
   "source": [
    "my_set = myset.copy()\n",
    "my_set "
   ]
  },
  {
   "cell_type": "code",
   "execution_count": 82,
   "id": "4b97b002-323e-471c-80de-7f26f2e698e6",
   "metadata": {},
   "outputs": [
    {
     "data": {
      "text/plain": [
       "2883511971040"
      ]
     },
     "execution_count": 82,
     "metadata": {},
     "output_type": "execute_result"
    }
   ],
   "source": [
    "id(my_set)"
   ]
  },
  {
   "cell_type": "code",
   "execution_count": 84,
   "id": "13637494-469f-48ae-ab5b-48345bce94db",
   "metadata": {},
   "outputs": [
    {
     "data": {
      "text/plain": [
       "{'eight', 'five', 'four', 'nine', 'one', 'seven', 'six', 'three', 'two'}"
      ]
     },
     "execution_count": 84,
     "metadata": {},
     "output_type": "execute_result"
    }
   ],
   "source": [
    "myset.add('nine')\n",
    "myset"
   ]
  },
  {
   "cell_type": "code",
   "execution_count": 86,
   "id": "570df84e-4a60-44f7-862a-f5b9f34f90dd",
   "metadata": {},
   "outputs": [
    {
     "data": {
      "text/plain": [
       "{'eight', 'five', 'four', 'nine', 'one', 'seven', 'six', 'three', 'two'}"
      ]
     },
     "execution_count": 86,
     "metadata": {},
     "output_type": "execute_result"
    }
   ],
   "source": [
    "myset1"
   ]
  },
  {
   "cell_type": "code",
   "execution_count": 88,
   "id": "f5e6270b-0dbc-4d0d-b64d-4a5ef1c90c83",
   "metadata": {},
   "outputs": [
    {
     "data": {
      "text/plain": [
       "{'eight', 'five', 'four', 'one', 'seven', 'six', 'three', 'two'}"
      ]
     },
     "execution_count": 88,
     "metadata": {},
     "output_type": "execute_result"
    }
   ],
   "source": [
    "my_set"
   ]
  },
  {
   "cell_type": "markdown",
   "id": "988e333a-1f31-44d1-8b6e-2385e6b0b33a",
   "metadata": {},
   "source": [
    "Set operations"
   ]
  },
  {
   "cell_type": "code",
   "execution_count": 92,
   "id": "7e032d8c-3278-4a9d-81aa-ee1d888bc80e",
   "metadata": {},
   "outputs": [],
   "source": [
    "A = {1,2,3,4,5} \n",
    "B = {4,5,6,7,8} \n",
    "C = {8,9,10} "
   ]
  },
  {
   "cell_type": "code",
   "execution_count": 94,
   "id": "63d400be-5056-4abf-94b9-96687f95e260",
   "metadata": {},
   "outputs": [
    {
     "name": "stdout",
     "output_type": "stream",
     "text": [
      "{1, 2, 3, 4, 5}\n",
      "{4, 5, 6, 7, 8}\n",
      "{8, 9, 10}\n"
     ]
    }
   ],
   "source": [
    "print(A)\n",
    "print(B)\n",
    "print(C)"
   ]
  },
  {
   "cell_type": "code",
   "execution_count": 96,
   "id": "01fd2aad-43c8-45bc-b210-c0a2c9849a68",
   "metadata": {},
   "outputs": [
    {
     "data": {
      "text/plain": [
       "{1, 2, 3, 4, 5, 6, 7, 8}"
      ]
     },
     "execution_count": 96,
     "metadata": {},
     "output_type": "execute_result"
    }
   ],
   "source": [
    "A|B"
   ]
  },
  {
   "cell_type": "code",
   "execution_count": 98,
   "id": "4a8afbb0-9fce-4845-a559-2a3865ad48d6",
   "metadata": {},
   "outputs": [
    {
     "data": {
      "text/plain": [
       "{1, 2, 3, 4, 5, 6, 7, 8}"
      ]
     },
     "execution_count": 98,
     "metadata": {},
     "output_type": "execute_result"
    }
   ],
   "source": [
    "A.union(B)"
   ]
  },
  {
   "cell_type": "code",
   "execution_count": 100,
   "id": "32d55c5e-8c00-4d38-840c-4411c673b2d6",
   "metadata": {},
   "outputs": [
    {
     "data": {
      "text/plain": [
       "{1, 2, 3, 4, 5, 6, 7, 8, 9, 10}"
      ]
     },
     "execution_count": 100,
     "metadata": {},
     "output_type": "execute_result"
    }
   ],
   "source": [
    "A.union(B,C)"
   ]
  },
  {
   "cell_type": "code",
   "execution_count": 102,
   "id": "bd727675-7906-47c3-94e5-ef5c722517d6",
   "metadata": {},
   "outputs": [],
   "source": [
    "A.update(B,C)"
   ]
  },
  {
   "cell_type": "code",
   "execution_count": 104,
   "id": "4063f00c-19ba-487d-8e84-19b790c78530",
   "metadata": {},
   "outputs": [
    {
     "name": "stdout",
     "output_type": "stream",
     "text": [
      "{1, 2, 3, 4, 5, 6, 7, 8, 9, 10}\n",
      "{4, 5, 6, 7, 8}\n",
      "{8, 9, 10}\n"
     ]
    }
   ],
   "source": [
    "print(A)\n",
    "print(B)\n",
    "print(C)"
   ]
  },
  {
   "cell_type": "code",
   "execution_count": 110,
   "id": "2cf56639-6d2b-465c-a475-36dcb0d5e978",
   "metadata": {},
   "outputs": [],
   "source": [
    "A = {1,2,3,4,5} \n",
    "B = {4,5,6,7,8} "
   ]
  },
  {
   "cell_type": "code",
   "execution_count": 112,
   "id": "db15d99a-c985-4f83-bd50-39c4adb4a05b",
   "metadata": {},
   "outputs": [
    {
     "data": {
      "text/plain": [
       "{4, 5}"
      ]
     },
     "execution_count": 112,
     "metadata": {},
     "output_type": "execute_result"
    }
   ],
   "source": [
    "A & B"
   ]
  },
  {
   "cell_type": "code",
   "execution_count": 114,
   "id": "3089fb2b-24af-4d78-af38-73fc14758e5b",
   "metadata": {},
   "outputs": [
    {
     "data": {
      "text/plain": [
       "{4, 5}"
      ]
     },
     "execution_count": 114,
     "metadata": {},
     "output_type": "execute_result"
    }
   ],
   "source": [
    "A.intersection(B)"
   ]
  },
  {
   "cell_type": "code",
   "execution_count": 120,
   "id": "765eae33-8f4e-4ba7-b0fb-64e9a5786080",
   "metadata": {},
   "outputs": [
    {
     "data": {
      "text/plain": [
       "{4, 5}"
      ]
     },
     "execution_count": 120,
     "metadata": {},
     "output_type": "execute_result"
    }
   ],
   "source": [
    "A.intersection_update(B)\n",
    "A"
   ]
  },
  {
   "cell_type": "code",
   "execution_count": 118,
   "id": "cafd6f7b-3262-4c2a-a8f1-465983fce591",
   "metadata": {},
   "outputs": [
    {
     "name": "stdout",
     "output_type": "stream",
     "text": [
      "{4, 5}\n",
      "{4, 5, 6, 7, 8}\n"
     ]
    }
   ],
   "source": [
    "print(A)\n",
    "print(B)"
   ]
  },
  {
   "cell_type": "code",
   "execution_count": 122,
   "id": "4dc1f1c6-645c-4b38-b262-926b3bf51cdf",
   "metadata": {},
   "outputs": [],
   "source": [
    "A = {1,2,3,4,5} \n",
    "B = {4,5,6,7,8}"
   ]
  },
  {
   "cell_type": "code",
   "execution_count": 124,
   "id": "eef42fae-4f62-4a5f-91fc-aa41745f0732",
   "metadata": {},
   "outputs": [
    {
     "data": {
      "text/plain": [
       "{1, 2, 3}"
      ]
     },
     "execution_count": 124,
     "metadata": {},
     "output_type": "execute_result"
    }
   ],
   "source": [
    "A-B"
   ]
  },
  {
   "cell_type": "code",
   "execution_count": 126,
   "id": "ccf523a1-58b0-449e-82e1-fedefe5e78c6",
   "metadata": {},
   "outputs": [
    {
     "data": {
      "text/plain": [
       "{1, 2, 3}"
      ]
     },
     "execution_count": 126,
     "metadata": {},
     "output_type": "execute_result"
    }
   ],
   "source": [
    "A.difference(B)"
   ]
  },
  {
   "cell_type": "code",
   "execution_count": 128,
   "id": "09e3a585-0755-4507-bdb4-5f5dab0762a0",
   "metadata": {},
   "outputs": [
    {
     "data": {
      "text/plain": [
       "{6, 7, 8}"
      ]
     },
     "execution_count": 128,
     "metadata": {},
     "output_type": "execute_result"
    }
   ],
   "source": [
    "B-A"
   ]
  },
  {
   "cell_type": "code",
   "execution_count": 130,
   "id": "f4d187d6-60af-490f-addc-214448bfc9dd",
   "metadata": {},
   "outputs": [
    {
     "data": {
      "text/plain": [
       "{6, 7, 8}"
      ]
     },
     "execution_count": 130,
     "metadata": {},
     "output_type": "execute_result"
    }
   ],
   "source": [
    "B.difference(A)"
   ]
  },
  {
   "cell_type": "code",
   "execution_count": 148,
   "id": "f8d0b527-5028-4af8-98fa-87e9ae8e671d",
   "metadata": {},
   "outputs": [
    {
     "data": {
      "text/plain": [
       "{6, 7, 8}"
      ]
     },
     "execution_count": 148,
     "metadata": {},
     "output_type": "execute_result"
    }
   ],
   "source": [
    "B.difference_update(A)\n",
    "B"
   ]
  },
  {
   "cell_type": "code",
   "execution_count": 146,
   "id": "896e0bff-bbf2-47dc-819e-623cf9ac2fe9",
   "metadata": {},
   "outputs": [
    {
     "name": "stdout",
     "output_type": "stream",
     "text": [
      "{1, 2, 3, 4, 5}\n"
     ]
    }
   ],
   "source": [
    "print(A)"
   ]
  },
  {
   "cell_type": "code",
   "execution_count": 170,
   "id": "98cac7ba-1730-4242-9e08-cd37c8074f13",
   "metadata": {},
   "outputs": [],
   "source": [
    "A = {1,2,3,4,5} \n",
    "B = {4,5,6,7,8} "
   ]
  },
  {
   "cell_type": "code",
   "execution_count": 172,
   "id": "78ade78f-70d6-45ea-8e84-0a61a5ed9b29",
   "metadata": {},
   "outputs": [
    {
     "data": {
      "text/plain": [
       "{1, 2, 3, 6, 7, 8}"
      ]
     },
     "execution_count": 172,
     "metadata": {},
     "output_type": "execute_result"
    }
   ],
   "source": [
    "A^B"
   ]
  },
  {
   "cell_type": "code",
   "execution_count": 174,
   "id": "81564bc3-81fd-4019-822e-1aac925a19b1",
   "metadata": {},
   "outputs": [
    {
     "data": {
      "text/plain": [
       "{1, 2, 3, 6, 7, 8}"
      ]
     },
     "execution_count": 174,
     "metadata": {},
     "output_type": "execute_result"
    }
   ],
   "source": [
    "A.symmetric_difference(B)"
   ]
  },
  {
   "cell_type": "code",
   "execution_count": 176,
   "id": "7527abf8-2b0a-48ba-b528-4eea98955fbf",
   "metadata": {},
   "outputs": [],
   "source": [
    "A.symmetric_difference_update(B)"
   ]
  },
  {
   "cell_type": "code",
   "execution_count": 178,
   "id": "22c305e1-cad0-4b35-9566-cda1ec9aee47",
   "metadata": {},
   "outputs": [
    {
     "data": {
      "text/plain": [
       "{1, 2, 3, 6, 7, 8}"
      ]
     },
     "execution_count": 178,
     "metadata": {},
     "output_type": "execute_result"
    }
   ],
   "source": [
    "A"
   ]
  },
  {
   "cell_type": "code",
   "execution_count": 182,
   "id": "bc84d83d-3f54-435c-8009-49864f1eda6d",
   "metadata": {},
   "outputs": [],
   "source": [
    "A = {1,2,3,4,5,6,7,8,9} \n",
    "B = {3,4,5,6,7,8} \n",
    "C = {10,20,30,40} "
   ]
  },
  {
   "cell_type": "code",
   "execution_count": 184,
   "id": "01112179-6286-49b2-b5ab-7d7b85b91789",
   "metadata": {},
   "outputs": [
    {
     "data": {
      "text/plain": [
       "True"
      ]
     },
     "execution_count": 184,
     "metadata": {},
     "output_type": "execute_result"
    }
   ],
   "source": [
    "B.issubset(A)"
   ]
  },
  {
   "cell_type": "code",
   "execution_count": 186,
   "id": "696cd1ab-8c30-4fae-b8f9-ce50d122cd93",
   "metadata": {},
   "outputs": [
    {
     "data": {
      "text/plain": [
       "True"
      ]
     },
     "execution_count": 186,
     "metadata": {},
     "output_type": "execute_result"
    }
   ],
   "source": [
    "A.issuperset(B)"
   ]
  },
  {
   "cell_type": "code",
   "execution_count": 188,
   "id": "ed4052f6-8530-4ae2-96b3-7edcccd16a1a",
   "metadata": {},
   "outputs": [
    {
     "data": {
      "text/plain": [
       "True"
      ]
     },
     "execution_count": 188,
     "metadata": {},
     "output_type": "execute_result"
    }
   ],
   "source": [
    "C.isdisjoint(A)"
   ]
  },
  {
   "cell_type": "code",
   "execution_count": 190,
   "id": "d0da6a0f-e6ff-4863-8972-cd230daba845",
   "metadata": {},
   "outputs": [
    {
     "data": {
      "text/plain": [
       "True"
      ]
     },
     "execution_count": 190,
     "metadata": {},
     "output_type": "execute_result"
    }
   ],
   "source": [
    "C.isdisjoint(B)"
   ]
  },
  {
   "cell_type": "code",
   "execution_count": 192,
   "id": "027fd30b-6052-45e5-b29d-58301b87ac5f",
   "metadata": {},
   "outputs": [
    {
     "data": {
      "text/plain": [
       "False"
      ]
     },
     "execution_count": 192,
     "metadata": {},
     "output_type": "execute_result"
    }
   ],
   "source": [
    "B.isdisjoint(A)"
   ]
  },
  {
   "cell_type": "raw",
   "id": "79caf2de-f771-4d67-8262-09fdd8519ad3",
   "metadata": {},
   "source": [
    "Other Builtin Functions"
   ]
  },
  {
   "cell_type": "code",
   "execution_count": 194,
   "id": "49e545ab-d41a-4fed-aed8-1c6aabba6b20",
   "metadata": {},
   "outputs": [
    {
     "data": {
      "text/plain": [
       "{1, 2, 3, 4, 5, 6, 7, 8, 9}"
      ]
     },
     "execution_count": 194,
     "metadata": {},
     "output_type": "execute_result"
    }
   ],
   "source": [
    "A"
   ]
  },
  {
   "cell_type": "code",
   "execution_count": 196,
   "id": "a2c3846d-8431-4ff4-bdd2-0ff7ab01cd3a",
   "metadata": {},
   "outputs": [
    {
     "data": {
      "text/plain": [
       "45"
      ]
     },
     "execution_count": 196,
     "metadata": {},
     "output_type": "execute_result"
    }
   ],
   "source": [
    "sum(A)"
   ]
  },
  {
   "cell_type": "code",
   "execution_count": 198,
   "id": "983fef04-0750-4e88-af4a-0462ba490d0b",
   "metadata": {},
   "outputs": [
    {
     "data": {
      "text/plain": [
       "9"
      ]
     },
     "execution_count": 198,
     "metadata": {},
     "output_type": "execute_result"
    }
   ],
   "source": [
    "max(A)"
   ]
  },
  {
   "cell_type": "code",
   "execution_count": 200,
   "id": "52540fbb-908c-4a57-920d-60c844901e7a",
   "metadata": {},
   "outputs": [
    {
     "data": {
      "text/plain": [
       "1"
      ]
     },
     "execution_count": 200,
     "metadata": {},
     "output_type": "execute_result"
    }
   ],
   "source": [
    "min(A)"
   ]
  },
  {
   "cell_type": "code",
   "execution_count": 202,
   "id": "68dc5d4b-c099-4404-95b5-7c5e12d9aac3",
   "metadata": {},
   "outputs": [
    {
     "data": {
      "text/plain": [
       "[(0, 1), (1, 2), (2, 3), (3, 4), (4, 5), (5, 6), (6, 7), (7, 8), (8, 9)]"
      ]
     },
     "execution_count": 202,
     "metadata": {},
     "output_type": "execute_result"
    }
   ],
   "source": [
    "list(enumerate(A))"
   ]
  },
  {
   "cell_type": "code",
   "execution_count": 204,
   "id": "d1d265c9-702b-4dc7-8e07-b595937c5df5",
   "metadata": {},
   "outputs": [
    {
     "data": {
      "text/plain": [
       "[9, 8, 7, 6, 5, 4, 3, 2, 1]"
      ]
     },
     "execution_count": 204,
     "metadata": {},
     "output_type": "execute_result"
    }
   ],
   "source": [
    "D= sorted(A,reverse=True) \n",
    "D "
   ]
  },
  {
   "cell_type": "code",
   "execution_count": 206,
   "id": "4c724bf6-d208-49cf-88f0-fe82f375cad0",
   "metadata": {},
   "outputs": [
    {
     "data": {
      "text/plain": [
       "[1, 2, 3, 4, 5, 6, 7, 8, 9]"
      ]
     },
     "execution_count": 206,
     "metadata": {},
     "output_type": "execute_result"
    }
   ],
   "source": [
    "sorted(D)"
   ]
  },
  {
   "cell_type": "markdown",
   "id": "07e283fc-6e5f-4580-a046-2c9d682b0b82",
   "metadata": {},
   "source": [
    "Dictionary"
   ]
  },
  {
   "cell_type": "code",
   "execution_count": 208,
   "id": "45f6c5a6-f774-4b58-aac3-0e86f77507cb",
   "metadata": {},
   "outputs": [
    {
     "data": {
      "text/plain": [
       "{}"
      ]
     },
     "execution_count": 208,
     "metadata": {},
     "output_type": "execute_result"
    }
   ],
   "source": [
    "mydict=dict()\n",
    "mydict"
   ]
  },
  {
   "cell_type": "code",
   "execution_count": 210,
   "id": "5d306abc-94f2-4e43-bc3e-1c01c21f56e2",
   "metadata": {},
   "outputs": [
    {
     "data": {
      "text/plain": [
       "{}"
      ]
     },
     "execution_count": 210,
     "metadata": {},
     "output_type": "execute_result"
    }
   ],
   "source": [
    "mydict={}\n",
    "mydict"
   ]
  },
  {
   "cell_type": "code",
   "execution_count": 212,
   "id": "e0c35faf-aefb-450b-be14-e423bb0def48",
   "metadata": {},
   "outputs": [
    {
     "data": {
      "text/plain": [
       "{1: 'one', 2: 'two', 3: 'three'}"
      ]
     },
     "execution_count": 212,
     "metadata": {},
     "output_type": "execute_result"
    }
   ],
   "source": [
    "mydict = {1:'one' , 2:'two' , 3:'three'} \n",
    "mydict "
   ]
  },
  {
   "cell_type": "code",
   "execution_count": 228,
   "id": "558295ab-5b9c-4d35-9c16-6ed7e7be6c3a",
   "metadata": {},
   "outputs": [
    {
     "data": {
      "text/plain": [
       "{1: 'one', 2: 'two', 3: 'three'}"
      ]
     },
     "execution_count": 228,
     "metadata": {},
     "output_type": "execute_result"
    }
   ],
   "source": [
    "mydict = dict({1:'one' , 2:'two' , 3:'three'})\n",
    "mydict"
   ]
  },
  {
   "cell_type": "code",
   "execution_count": 216,
   "id": "9c49cc16-e9e7-41b0-a7dd-cf06792c09c3",
   "metadata": {},
   "outputs": [
    {
     "data": {
      "text/plain": [
       "{'A': 'one', 'B': 'two', 'C': 'three'}"
      ]
     },
     "execution_count": 216,
     "metadata": {},
     "output_type": "execute_result"
    }
   ],
   "source": [
    "mydict = {'A':'one' , 'B':'two' , 'C':'three'}\n",
    "mydict "
   ]
  },
  {
   "cell_type": "code",
   "execution_count": 218,
   "id": "ef17975b-0a50-4e43-9282-0cf9c5e5aba9",
   "metadata": {},
   "outputs": [
    {
     "data": {
      "text/plain": [
       "{1: 'one', 'A': 'two', 3: 'three'}"
      ]
     },
     "execution_count": 218,
     "metadata": {},
     "output_type": "execute_result"
    }
   ],
   "source": [
    "mydict = {1:'one' , 'A':'two' , 3:'three'}\n",
    "mydict"
   ]
  },
  {
   "cell_type": "code",
   "execution_count": 220,
   "id": "a1236e53-2541-4abf-b389-afd099f6f187",
   "metadata": {},
   "outputs": [
    {
     "data": {
      "text/plain": [
       "dict_keys([1, 'A', 3])"
      ]
     },
     "execution_count": 220,
     "metadata": {},
     "output_type": "execute_result"
    }
   ],
   "source": [
    "mydict.keys()"
   ]
  },
  {
   "cell_type": "code",
   "execution_count": 222,
   "id": "28cef073-6e5e-435c-a523-cb71e75aed0a",
   "metadata": {},
   "outputs": [
    {
     "data": {
      "text/plain": [
       "dict_values(['one', 'two', 'three'])"
      ]
     },
     "execution_count": 222,
     "metadata": {},
     "output_type": "execute_result"
    }
   ],
   "source": [
    "mydict.values()"
   ]
  },
  {
   "cell_type": "code",
   "execution_count": 224,
   "id": "1d335a37-a6a9-4abd-83b2-9bfc51342188",
   "metadata": {},
   "outputs": [
    {
     "data": {
      "text/plain": [
       "dict_items([(1, 'one'), ('A', 'two'), (3, 'three')])"
      ]
     },
     "execution_count": 224,
     "metadata": {},
     "output_type": "execute_result"
    }
   ],
   "source": [
    "mydict.items()"
   ]
  },
  {
   "cell_type": "code",
   "execution_count": 226,
   "id": "f7251cd6-b5cb-452b-a834-7cf68bc09632",
   "metadata": {},
   "outputs": [
    {
     "data": {
      "text/plain": [
       "{1: 'one', 2: 'two', 'A': ['asif', 'john', 'Maria']}"
      ]
     },
     "execution_count": 226,
     "metadata": {},
     "output_type": "execute_result"
    }
   ],
   "source": [
    "mydict = {1:'one' , 2:'two' , 'A':['asif' , 'john' , 'Maria']} \n",
    "mydict"
   ]
  },
  {
   "cell_type": "code",
   "execution_count": 230,
   "id": "0db06285-3760-47be-b04c-15599c69168c",
   "metadata": {},
   "outputs": [
    {
     "data": {
      "text/plain": [
       "{1: 'one',\n",
       " 2: 'two',\n",
       " 'A': ['asif', 'john', 'Maria'],\n",
       " 'B': ('Bat', 'cat', 'hat')}"
      ]
     },
     "execution_count": 230,
     "metadata": {},
     "output_type": "execute_result"
    }
   ],
   "source": [
    "mydict = {1:'one' , 2:'two' , 'A':['asif' , 'john' , 'Maria'], 'B':('Bat' , 'cat', 'hat')}\n",
    "mydict"
   ]
  },
  {
   "cell_type": "code",
   "execution_count": 232,
   "id": "1cdad796-bcc5-4300-96b2-b8133e88c3d5",
   "metadata": {},
   "outputs": [
    {
     "data": {
      "text/plain": [
       "{1: 'one',\n",
       " 2: 'two',\n",
       " 'A': {'Name': 'asif', 'Age': 20},\n",
       " 'B': ('Bat', 'cat', 'hat')}"
      ]
     },
     "execution_count": 232,
     "metadata": {},
     "output_type": "execute_result"
    }
   ],
   "source": [
    "mydict = {1:'one' , 2:'two' , 'A':{'Name':'asif' , 'Age' :20}, 'B':('Bat' , 'cat', 'hat')}\n",
    "mydict "
   ]
  },
  {
   "cell_type": "code",
   "execution_count": 234,
   "id": "e84f8aa5-2cd5-445c-9562-212e9256542a",
   "metadata": {},
   "outputs": [
    {
     "data": {
      "text/plain": [
       "{'a': None, 'd': None, 'b': None, 'c': None}"
      ]
     },
     "execution_count": 234,
     "metadata": {},
     "output_type": "execute_result"
    }
   ],
   "source": [
    "keys = {'a' , 'b' , 'c' , 'd'} \n",
    "mydict3 = dict.fromkeys(keys) \n",
    "mydict3"
   ]
  },
  {
   "cell_type": "code",
   "execution_count": 236,
   "id": "f7a49e17-8e21-4bb0-9fb9-d3b06c57f86d",
   "metadata": {},
   "outputs": [
    {
     "data": {
      "text/plain": [
       "{'a': 10, 'd': 10, 'b': 10, 'c': 10}"
      ]
     },
     "execution_count": 236,
     "metadata": {},
     "output_type": "execute_result"
    }
   ],
   "source": [
    "keys = {'a' , 'b' , 'c' , 'd'} \n",
    "value=10\n",
    "mydict3 = dict.fromkeys(keys,value) \n",
    "mydict3"
   ]
  },
  {
   "cell_type": "code",
   "execution_count": 238,
   "id": "f2753907-5f27-4592-87a8-9c4d54bc80eb",
   "metadata": {},
   "outputs": [
    {
     "data": {
      "text/plain": [
       "{'a': [10, 20, 30], 'd': [10, 20, 30], 'b': [10, 20, 30], 'c': [10, 20, 30]}"
      ]
     },
     "execution_count": 238,
     "metadata": {},
     "output_type": "execute_result"
    }
   ],
   "source": [
    "keys = {'a' , 'b' , 'c' , 'd'} \n",
    "value= [10,20,30]\n",
    "mydict3 = dict.fromkeys(keys,value) \n",
    "mydict3"
   ]
  },
  {
   "cell_type": "code",
   "execution_count": 240,
   "id": "bddb4a23-926c-4a06-87bf-14a3a14237bf",
   "metadata": {},
   "outputs": [
    {
     "data": {
      "text/plain": [
       "{'a': [10, 20, 30, 40],\n",
       " 'd': [10, 20, 30, 40],\n",
       " 'b': [10, 20, 30, 40],\n",
       " 'c': [10, 20, 30, 40]}"
      ]
     },
     "execution_count": 240,
     "metadata": {},
     "output_type": "execute_result"
    }
   ],
   "source": [
    "value.append(40)\n",
    "mydict3"
   ]
  },
  {
   "cell_type": "code",
   "execution_count": 242,
   "id": "5903f427-c0a8-4c2d-bd72-464da23ce216",
   "metadata": {},
   "outputs": [
    {
     "data": {
      "text/plain": [
       "{1: 'one', 2: 'two', 3: 'three', 4: 'four'}"
      ]
     },
     "execution_count": 242,
     "metadata": {},
     "output_type": "execute_result"
    }
   ],
   "source": [
    "mydict = {1:'one' , 2:'two' , 3:'three' , 4:'four'} \n",
    "mydict "
   ]
  },
  {
   "cell_type": "code",
   "execution_count": 244,
   "id": "13cec250-e14a-4e63-aaa0-134162289b52",
   "metadata": {},
   "outputs": [
    {
     "data": {
      "text/plain": [
       "'one'"
      ]
     },
     "execution_count": 244,
     "metadata": {},
     "output_type": "execute_result"
    }
   ],
   "source": [
    "mydict[1]"
   ]
  },
  {
   "cell_type": "code",
   "execution_count": 248,
   "id": "f16a828e-e279-4da7-ba33-5cdb140186d8",
   "metadata": {},
   "outputs": [
    {
     "data": {
      "text/plain": [
       "'one'"
      ]
     },
     "execution_count": 248,
     "metadata": {},
     "output_type": "execute_result"
    }
   ],
   "source": [
    "mydict.get(1)"
   ]
  },
  {
   "cell_type": "code",
   "execution_count": 250,
   "id": "9d7c5611-223c-4600-96d9-3fc3acf8104a",
   "metadata": {},
   "outputs": [
    {
     "data": {
      "text/plain": [
       "{'Name': 'Asif', 'ID': 74123, 'DOB': 1991, 'job': 'Analyst'}"
      ]
     },
     "execution_count": 250,
     "metadata": {},
     "output_type": "execute_result"
    }
   ],
   "source": [
    "mydict1 = {'Name':'Asif' , 'ID': 74123 , 'DOB': 1991 , 'job' :'Analyst'} \n",
    "mydict1 "
   ]
  },
  {
   "cell_type": "code",
   "execution_count": 254,
   "id": "724c1a30-c03a-4893-9173-22335c2166f4",
   "metadata": {},
   "outputs": [
    {
     "data": {
      "text/plain": [
       "'Asif'"
      ]
     },
     "execution_count": 254,
     "metadata": {},
     "output_type": "execute_result"
    }
   ],
   "source": [
    "mydict1['Name']"
   ]
  },
  {
   "cell_type": "code",
   "execution_count": 256,
   "id": "5175e113-8eab-47b5-8593-abb0e79d85f6",
   "metadata": {},
   "outputs": [
    {
     "data": {
      "text/plain": [
       "'Analyst'"
      ]
     },
     "execution_count": 256,
     "metadata": {},
     "output_type": "execute_result"
    }
   ],
   "source": [
    "mydict1.get('job')"
   ]
  },
  {
   "cell_type": "code",
   "execution_count": 258,
   "id": "10990598-8d31-46a4-9b33-e9a3fddb6077",
   "metadata": {},
   "outputs": [
    {
     "data": {
      "text/plain": [
       "{'Name': 'Asif', 'ID': 12345, 'DOB': 1991, 'Address': 'Hilsinki'}"
      ]
     },
     "execution_count": 258,
     "metadata": {},
     "output_type": "execute_result"
    }
   ],
   "source": [
    "mydict1 = {'Name':'Asif' , 'ID': 12345 , 'DOB': 1991 , 'Address' : 'Hilsinki'} \n",
    "mydict1"
   ]
  },
  {
   "cell_type": "code",
   "execution_count": 264,
   "id": "a8343603-2720-4889-a598-fc9e85ab55e6",
   "metadata": {},
   "outputs": [
    {
     "data": {
      "text/plain": [
       "{'Name': 'Asif', 'ID': 12345, 'DOB': 1992, 'Address': 'Delhi'}"
      ]
     },
     "execution_count": 264,
     "metadata": {},
     "output_type": "execute_result"
    }
   ],
   "source": [
    "mydict1['DOB']=1992\n",
    "mydict1['Address']='Delhi'\n",
    "mydict1"
   ]
  },
  {
   "cell_type": "code",
   "execution_count": 266,
   "id": "5b4844b9-4664-4f1d-9c7c-3bdf76223f48",
   "metadata": {},
   "outputs": [
    {
     "data": {
      "text/plain": [
       "{'Name': 'Asif', 'ID': 12345, 'DOB': 1995, 'Address': 'Delhi'}"
      ]
     },
     "execution_count": 266,
     "metadata": {},
     "output_type": "execute_result"
    }
   ],
   "source": [
    "dict1 = {'DOB':1995} \n",
    "mydict1.update(dict1) \n",
    "mydict1 "
   ]
  },
  {
   "cell_type": "code",
   "execution_count": 272,
   "id": "f21658c1-3716-49ca-a22b-e232d4f0987c",
   "metadata": {},
   "outputs": [
    {
     "data": {
      "text/plain": [
       "{'Name': 'Asif',\n",
       " 'ID': 12345,\n",
       " 'DOB': 1995,\n",
       " 'Address': 'Delhi',\n",
       " 'job': 'Analyst'}"
      ]
     },
     "execution_count": 272,
     "metadata": {},
     "output_type": "execute_result"
    }
   ],
   "source": [
    "mydict1['job']='Analyst'\n",
    "mydict1"
   ]
  },
  {
   "cell_type": "code",
   "execution_count": 276,
   "id": "0d55bbf1-102d-4be0-accc-144d79ae8bc3",
   "metadata": {},
   "outputs": [
    {
     "data": {
      "text/plain": [
       "{'Name': 'Asif', 'ID': 12345, 'DOB': 1995, 'Address': 'Delhi'}"
      ]
     },
     "execution_count": 276,
     "metadata": {},
     "output_type": "execute_result"
    }
   ],
   "source": [
    "mydict1.pop('job')\n",
    "mydict1"
   ]
  },
  {
   "cell_type": "code",
   "execution_count": 281,
   "id": "277456af-e95c-4c13-b7c1-d310aa2e030c",
   "metadata": {},
   "outputs": [
    {
     "data": {
      "text/plain": [
       "('DOB', 1995)"
      ]
     },
     "execution_count": 281,
     "metadata": {},
     "output_type": "execute_result"
    }
   ],
   "source": [
    "mydict1.popitem()"
   ]
  },
  {
   "cell_type": "code",
   "execution_count": 283,
   "id": "e8333bc6-c0c0-447a-b3b0-5f216d1b6eee",
   "metadata": {},
   "outputs": [
    {
     "data": {
      "text/plain": [
       "{'Name': 'Asif', 'ID': 12345}"
      ]
     },
     "execution_count": 283,
     "metadata": {},
     "output_type": "execute_result"
    }
   ],
   "source": [
    "mydict1"
   ]
  },
  {
   "cell_type": "code",
   "execution_count": 285,
   "id": "94393570-31c3-44c2-8750-6e33b73912ee",
   "metadata": {},
   "outputs": [],
   "source": [
    "del[mydict1['ID']]"
   ]
  },
  {
   "cell_type": "code",
   "execution_count": 287,
   "id": "c2198fa5-69c0-4fc5-855b-8bc97ac6e515",
   "metadata": {},
   "outputs": [
    {
     "data": {
      "text/plain": [
       "{'Name': 'Asif'}"
      ]
     },
     "execution_count": 287,
     "metadata": {},
     "output_type": "execute_result"
    }
   ],
   "source": [
    "mydict1"
   ]
  },
  {
   "cell_type": "code",
   "execution_count": 289,
   "id": "5d8dd1f0-e76e-4ef3-82b7-6e5c1a429e97",
   "metadata": {},
   "outputs": [
    {
     "data": {
      "text/plain": [
       "{}"
      ]
     },
     "execution_count": 289,
     "metadata": {},
     "output_type": "execute_result"
    }
   ],
   "source": [
    "mydict1.clear()\n",
    "mydict1"
   ]
  },
  {
   "cell_type": "code",
   "execution_count": 291,
   "id": "eb270ed3-dfe7-45b5-be71-e48491bbf54f",
   "metadata": {},
   "outputs": [
    {
     "ename": "NameError",
     "evalue": "name 'mydict1' is not defined",
     "output_type": "error",
     "traceback": [
      "\u001b[1;31m---------------------------------------------------------------------------\u001b[0m",
      "\u001b[1;31mNameError\u001b[0m                                 Traceback (most recent call last)",
      "Cell \u001b[1;32mIn[291], line 2\u001b[0m\n\u001b[0;32m      1\u001b[0m \u001b[38;5;28;01mdel\u001b[39;00m mydict1\n\u001b[1;32m----> 2\u001b[0m mydict1\n",
      "\u001b[1;31mNameError\u001b[0m: name 'mydict1' is not defined"
     ]
    }
   ],
   "source": [
    "del mydict1\n",
    "mydict1"
   ]
  },
  {
   "cell_type": "code",
   "execution_count": 293,
   "id": "bd125845-7ee6-4ee4-bec8-45032af71dc8",
   "metadata": {},
   "outputs": [
    {
     "data": {
      "text/plain": [
       "{'Name': 'Asif', 'ID': 12345, 'DOB': 1991, 'Address': 'Hilsinki'}"
      ]
     },
     "execution_count": 293,
     "metadata": {},
     "output_type": "execute_result"
    }
   ],
   "source": [
    "mydict = {'Name':'Asif' , 'ID': 12345 , 'DOB': 1991 , 'Address' : 'Hilsinki'} \n",
    "mydict "
   ]
  },
  {
   "cell_type": "code",
   "execution_count": 295,
   "id": "e455ab66-305b-4665-bafd-c671620499d9",
   "metadata": {},
   "outputs": [],
   "source": [
    "mydict1=mydict"
   ]
  },
  {
   "cell_type": "code",
   "execution_count": 297,
   "id": "edf3299b-19c5-41b5-8f1d-3c9d3b7110bf",
   "metadata": {},
   "outputs": [
    {
     "data": {
      "text/plain": [
       "{'Name': 'Asif', 'ID': 12345, 'DOB': 1991, 'Address': 'Hilsinki'}"
      ]
     },
     "execution_count": 297,
     "metadata": {},
     "output_type": "execute_result"
    }
   ],
   "source": [
    "mydict1"
   ]
  },
  {
   "cell_type": "code",
   "execution_count": 299,
   "id": "725c14b9-c259-4a9c-a2d2-e3861b872cd3",
   "metadata": {},
   "outputs": [
    {
     "data": {
      "text/plain": [
       "{'Name': 'Asif', 'ID': 12345, 'DOB': 1991, 'Address': 'Hilsinki'}"
      ]
     },
     "execution_count": 299,
     "metadata": {},
     "output_type": "execute_result"
    }
   ],
   "source": [
    "mydict2=mydict.copy()\n",
    "mydict2"
   ]
  },
  {
   "cell_type": "code",
   "execution_count": 301,
   "id": "463d9d70-83ab-4122-aa20-1bc8389cf4a1",
   "metadata": {},
   "outputs": [
    {
     "data": {
      "text/plain": [
       "(2883516074688, 2883516074688)"
      ]
     },
     "execution_count": 301,
     "metadata": {},
     "output_type": "execute_result"
    }
   ],
   "source": [
    "id(mydict),id(mydict1)"
   ]
  },
  {
   "cell_type": "code",
   "execution_count": 303,
   "id": "5374591f-75b6-4910-af68-714f42d2df32",
   "metadata": {},
   "outputs": [
    {
     "data": {
      "text/plain": [
       "2883516482560"
      ]
     },
     "execution_count": 303,
     "metadata": {},
     "output_type": "execute_result"
    }
   ],
   "source": [
    "id(mydict2)"
   ]
  },
  {
   "cell_type": "code",
   "execution_count": 305,
   "id": "64258e87-0432-4096-9f45-54d78d88a1ed",
   "metadata": {},
   "outputs": [
    {
     "data": {
      "text/plain": [
       "{'Name': 'Asif', 'ID': 12345, 'DOB': 1991, 'Address': 'Mumbai'}"
      ]
     },
     "execution_count": 305,
     "metadata": {},
     "output_type": "execute_result"
    }
   ],
   "source": [
    "mydict['Address']='Mumbai'\n",
    "mydict"
   ]
  },
  {
   "cell_type": "code",
   "execution_count": 307,
   "id": "98745cee-27b3-4e5f-a0aa-2c5133bc054a",
   "metadata": {},
   "outputs": [
    {
     "data": {
      "text/plain": [
       "{'Name': 'Asif', 'ID': 12345, 'DOB': 1991, 'Address': 'Mumbai'}"
      ]
     },
     "execution_count": 307,
     "metadata": {},
     "output_type": "execute_result"
    }
   ],
   "source": [
    "mydict1"
   ]
  },
  {
   "cell_type": "code",
   "execution_count": 309,
   "id": "ceb6cbf1-5dd9-4cd7-a8cd-9fcce2593423",
   "metadata": {},
   "outputs": [
    {
     "data": {
      "text/plain": [
       "{'Name': 'Asif', 'ID': 12345, 'DOB': 1991, 'Address': 'Hilsinki'}"
      ]
     },
     "execution_count": 309,
     "metadata": {},
     "output_type": "execute_result"
    }
   ],
   "source": [
    "mydict2"
   ]
  },
  {
   "cell_type": "code",
   "execution_count": 329,
   "id": "a1eb2d78-5c75-463e-bee4-d12338d5cf96",
   "metadata": {},
   "outputs": [
    {
     "data": {
      "text/plain": [
       "{'Name': 'Asif',\n",
       " 'ID': 12345,\n",
       " 'DOB': 1991,\n",
       " 'Address': 'Hilsinki',\n",
       " 'Job': 'Analyst'}"
      ]
     },
     "execution_count": 329,
     "metadata": {},
     "output_type": "execute_result"
    }
   ],
   "source": [
    "mydict1 = {'Name':'Asif' , 'ID': 12345 , 'DOB': 1991 , 'Address' : 'Hilsinki' , 'Job': 'Analyst'} \n",
    "mydict1"
   ]
  },
  {
   "cell_type": "code",
   "execution_count": 339,
   "id": "ceed8996-edff-4a8a-a6ce-cbdad055695a",
   "metadata": {},
   "outputs": [
    {
     "name": "stdout",
     "output_type": "stream",
     "text": [
      "Name : Asif\n",
      "ID : 12345\n",
      "DOB : 1991\n",
      "Address : Hilsinki\n",
      "Job : Analyst\n"
     ]
    }
   ],
   "source": [
    "for i in mydict1:\n",
    "    print(i, ':' ,mydict1[i])"
   ]
  },
  {
   "cell_type": "code",
   "execution_count": 345,
   "id": "7316c44c-cce2-498f-9349-64ce6a13f309",
   "metadata": {},
   "outputs": [
    {
     "name": "stdout",
     "output_type": "stream",
     "text": [
      "Asif\n",
      "12345\n",
      "1991\n",
      "Hilsinki\n",
      "Analyst\n"
     ]
    }
   ],
   "source": [
    "for i in mydict1:\n",
    "    print(mydict1[i])"
   ]
  },
  {
   "cell_type": "code",
   "execution_count": 347,
   "id": "ea04e8fc-4cc0-4395-9e7d-d65fe03743a2",
   "metadata": {},
   "outputs": [
    {
     "data": {
      "text/plain": [
       "{'Name': 'Asif', 'ID': 12345, 'DOB': 1991, 'Job': 'Analyst'}"
      ]
     },
     "execution_count": 347,
     "metadata": {},
     "output_type": "execute_result"
    }
   ],
   "source": [
    "mydict1 = {'Name':'Asif' , 'ID': 12345 , 'DOB': 1991 , 'Job': 'Analyst'} \n",
    "mydict1 "
   ]
  },
  {
   "cell_type": "code",
   "execution_count": 349,
   "id": "41d7a838-a89c-421b-aed4-6609e7bcdda3",
   "metadata": {},
   "outputs": [
    {
     "data": {
      "text/plain": [
       "True"
      ]
     },
     "execution_count": 349,
     "metadata": {},
     "output_type": "execute_result"
    }
   ],
   "source": [
    "'Name' in mydict1"
   ]
  },
  {
   "cell_type": "code",
   "execution_count": 351,
   "id": "21dada09-17e6-493d-a90d-7fd31bd72a36",
   "metadata": {},
   "outputs": [
    {
     "data": {
      "text/plain": [
       "False"
      ]
     },
     "execution_count": 351,
     "metadata": {},
     "output_type": "execute_result"
    }
   ],
   "source": [
    "'Asif' in mydict1"
   ]
  },
  {
   "cell_type": "code",
   "execution_count": 353,
   "id": "c67ac33c-45fa-45a0-98c4-6a509136b936",
   "metadata": {},
   "outputs": [
    {
     "data": {
      "text/plain": [
       "True"
      ]
     },
     "execution_count": 353,
     "metadata": {},
     "output_type": "execute_result"
    }
   ],
   "source": [
    "'ID' in mydict1"
   ]
  },
  {
   "cell_type": "code",
   "execution_count": 357,
   "id": "714bc75a-c9a5-4e54-aaaf-af0ec712063e",
   "metadata": {},
   "outputs": [
    {
     "data": {
      "text/plain": [
       "False"
      ]
     },
     "execution_count": 357,
     "metadata": {},
     "output_type": "execute_result"
    }
   ],
   "source": [
    "'Address' in mydict1"
   ]
  },
  {
   "cell_type": "code",
   "execution_count": 359,
   "id": "b6ea11eb-3595-4ab7-8b06-9340444008fb",
   "metadata": {},
   "outputs": [
    {
     "data": {
      "text/plain": [
       "True"
      ]
     },
     "execution_count": 359,
     "metadata": {},
     "output_type": "execute_result"
    }
   ],
   "source": [
    "'Job' in mydict1"
   ]
  },
  {
   "cell_type": "code",
   "execution_count": 361,
   "id": "1bd6154c-36fb-4ddb-bfd6-15dd87d36fa2",
   "metadata": {},
   "outputs": [
    {
     "data": {
      "text/plain": [
       "{'Name': 'Asif', 'ID': 12345, 'DOB': 1991, 'Job': 'Analyst'}"
      ]
     },
     "execution_count": 361,
     "metadata": {},
     "output_type": "execute_result"
    }
   ],
   "source": [
    "mydict1 = {'Name':'Asif' , 'ID': 12345 , 'DOB': 1991 , 'Job': 'Analyst'} \n",
    "mydict1 "
   ]
  },
  {
   "cell_type": "code",
   "execution_count": 363,
   "id": "bb676718-76fa-4a30-891a-8b67079cae75",
   "metadata": {},
   "outputs": [
    {
     "data": {
      "text/plain": [
       "True"
      ]
     },
     "execution_count": 363,
     "metadata": {},
     "output_type": "execute_result"
    }
   ],
   "source": [
    "all(mydict1)"
   ]
  },
  {
   "cell_type": "code",
   "execution_count": 365,
   "id": "cd030c49-46c1-42f7-abdb-10b336e77b5d",
   "metadata": {},
   "outputs": [
    {
     "data": {
      "text/plain": [
       "True"
      ]
     },
     "execution_count": 365,
     "metadata": {},
     "output_type": "execute_result"
    }
   ],
   "source": [
    "any(mydict1)"
   ]
  },
  {
   "cell_type": "code",
   "execution_count": null,
   "id": "36e48121-a40d-4a52-9437-cee9ed1b7ca6",
   "metadata": {},
   "outputs": [],
   "source": []
  }
 ],
 "metadata": {
  "kernelspec": {
   "display_name": "Python 3 (ipykernel)",
   "language": "python",
   "name": "python3"
  },
  "language_info": {
   "codemirror_mode": {
    "name": "ipython",
    "version": 3
   },
   "file_extension": ".py",
   "mimetype": "text/x-python",
   "name": "python",
   "nbconvert_exporter": "python",
   "pygments_lexer": "ipython3",
   "version": "3.12.7"
  }
 },
 "nbformat": 4,
 "nbformat_minor": 5
}
