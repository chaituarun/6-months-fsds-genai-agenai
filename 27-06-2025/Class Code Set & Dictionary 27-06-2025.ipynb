{
 "cells": [
  {
   "cell_type": "code",
   "execution_count": 1,
   "id": "301e2e7a-8e51-4afc-a004-1eb0de99a288",
   "metadata": {},
   "outputs": [
    {
     "name": "stdout",
     "output_type": "stream",
     "text": [
      "{1, 2, 3, 4, 5}\n",
      "{4, 5, 6, 7, 8}\n",
      "{8, 9, 10}\n"
     ]
    }
   ],
   "source": [
    "a={1,2,3,4,5}\n",
    "b={4,5,6,7,8}\n",
    "c={8,9,10}\n",
    "print(a)\n",
    "print(b)\n",
    "print(c)"
   ]
  },
  {
   "cell_type": "code",
   "execution_count": 3,
   "id": "b3be3d22-c095-4af3-9a81-d1edb104334a",
   "metadata": {},
   "outputs": [
    {
     "data": {
      "text/plain": [
       "{8, 9, 10}"
      ]
     },
     "execution_count": 3,
     "metadata": {},
     "output_type": "execute_result"
    }
   ],
   "source": [
    "c-a"
   ]
  },
  {
   "cell_type": "code",
   "execution_count": 5,
   "id": "ef92ac8c-455b-4794-befe-efd9a1742a27",
   "metadata": {},
   "outputs": [
    {
     "name": "stdout",
     "output_type": "stream",
     "text": [
      "{1, 2, 3, 4, 5}\n",
      "{4, 5, 6, 7, 8}\n",
      "{8, 9, 10}\n"
     ]
    }
   ],
   "source": [
    "print(a)\n",
    "print(b)\n",
    "print(c)"
   ]
  },
  {
   "cell_type": "code",
   "execution_count": 7,
   "id": "0e38f105-85af-4a29-8f2f-d15a56ca125a",
   "metadata": {},
   "outputs": [
    {
     "data": {
      "text/plain": [
       "{1, 2, 3, 6, 7, 8}"
      ]
     },
     "execution_count": 7,
     "metadata": {},
     "output_type": "execute_result"
    }
   ],
   "source": [
    "a.symmetric_difference(b)"
   ]
  },
  {
   "cell_type": "code",
   "execution_count": 9,
   "id": "f736f289-ef1d-4b1d-90fd-b659a1e5af5c",
   "metadata": {},
   "outputs": [
    {
     "name": "stdout",
     "output_type": "stream",
     "text": [
      "{1, 2, 3, 4, 5}\n",
      "{4, 5, 6, 7, 8}\n",
      "{8, 9, 10}\n"
     ]
    }
   ],
   "source": [
    "print(a)\n",
    "print(b)\n",
    "print(c)"
   ]
  },
  {
   "cell_type": "code",
   "execution_count": 11,
   "id": "7d6e16ba-b957-4204-8f7b-dc8040da9130",
   "metadata": {},
   "outputs": [
    {
     "data": {
      "text/plain": [
       "{1, 2, 3, 4, 5, 8, 9, 10}"
      ]
     },
     "execution_count": 11,
     "metadata": {},
     "output_type": "execute_result"
    }
   ],
   "source": [
    "c^a"
   ]
  },
  {
   "cell_type": "code",
   "execution_count": 13,
   "id": "6c42489e-3c60-4cf3-a9ad-8573a43dc0c4",
   "metadata": {},
   "outputs": [
    {
     "data": {
      "text/plain": [
       "{1, 2, 3, 6, 7, 8}"
      ]
     },
     "execution_count": 13,
     "metadata": {},
     "output_type": "execute_result"
    }
   ],
   "source": [
    "b^a"
   ]
  },
  {
   "cell_type": "code",
   "execution_count": 15,
   "id": "68ca3964-1b20-4cb5-8930-128e0ce7de0b",
   "metadata": {},
   "outputs": [
    {
     "name": "stdout",
     "output_type": "stream",
     "text": [
      "{1, 2, 3, 4, 5}\n",
      "{4, 5, 6, 7, 8}\n",
      "{8, 9, 10}\n"
     ]
    }
   ],
   "source": [
    "print(a)\n",
    "print(b)\n",
    "print(c)"
   ]
  },
  {
   "cell_type": "code",
   "execution_count": 19,
   "id": "1050ef8a-e640-4cde-a9bb-f2b08b294a3f",
   "metadata": {},
   "outputs": [],
   "source": [
    "a.symmetric_difference_update(b)"
   ]
  },
  {
   "cell_type": "code",
   "execution_count": 21,
   "id": "b6fc8697-56ff-4557-8641-528c07038f6d",
   "metadata": {},
   "outputs": [
    {
     "name": "stdout",
     "output_type": "stream",
     "text": [
      "{1, 2, 3, 4, 5}\n",
      "{4, 5, 6, 7, 8}\n",
      "{8, 9, 10}\n"
     ]
    }
   ],
   "source": [
    "print(a)\n",
    "print(b)\n",
    "print(c)"
   ]
  },
  {
   "cell_type": "code",
   "execution_count": 23,
   "id": "aaedcdac-c155-46e8-9c97-7315a1c58ba0",
   "metadata": {},
   "outputs": [
    {
     "data": {
      "text/plain": [
       "{4, 5}"
      ]
     },
     "execution_count": 23,
     "metadata": {},
     "output_type": "execute_result"
    }
   ],
   "source": [
    "a.intersection(b)"
   ]
  },
  {
   "cell_type": "code",
   "execution_count": 25,
   "id": "1c0a4da4-da6c-44c3-b286-9f501649efd6",
   "metadata": {},
   "outputs": [
    {
     "data": {
      "text/plain": [
       "{8}"
      ]
     },
     "execution_count": 25,
     "metadata": {},
     "output_type": "execute_result"
    }
   ],
   "source": [
    "b&c"
   ]
  },
  {
   "cell_type": "code",
   "execution_count": 27,
   "id": "63ef85ed-1653-4aac-bcd2-ed4fb77a6754",
   "metadata": {},
   "outputs": [
    {
     "data": {
      "text/plain": [
       "set()"
      ]
     },
     "execution_count": 27,
     "metadata": {},
     "output_type": "execute_result"
    }
   ],
   "source": [
    "c&a"
   ]
  },
  {
   "cell_type": "code",
   "execution_count": 29,
   "id": "b40a852f-7e81-459b-8606-c90db9b23736",
   "metadata": {},
   "outputs": [
    {
     "data": {
      "text/plain": [
       "set()"
      ]
     },
     "execution_count": 29,
     "metadata": {},
     "output_type": "execute_result"
    }
   ],
   "source": [
    "a&b&c"
   ]
  },
  {
   "cell_type": "code",
   "execution_count": 31,
   "id": "46828e87-4b8f-4fe9-81dc-65c1293bdd91",
   "metadata": {},
   "outputs": [
    {
     "name": "stdout",
     "output_type": "stream",
     "text": [
      "{1, 2, 3, 4, 5}\n",
      "{4, 5, 6, 7, 8}\n",
      "{8, 9, 10}\n"
     ]
    }
   ],
   "source": [
    "print(a)\n",
    "print(b)\n",
    "print(c)"
   ]
  },
  {
   "cell_type": "code",
   "execution_count": 35,
   "id": "7e9f07c7-e3f0-489f-b25f-d76ae1b0eb38",
   "metadata": {},
   "outputs": [],
   "source": [
    "c.intersection_update(b)"
   ]
  },
  {
   "cell_type": "code",
   "execution_count": 37,
   "id": "cf4dcb94-4532-4b05-bacf-edb198ace88e",
   "metadata": {},
   "outputs": [
    {
     "name": "stdout",
     "output_type": "stream",
     "text": [
      "{1, 2, 3, 4, 5}\n",
      "{4, 5, 6, 7, 8}\n",
      "{8}\n"
     ]
    }
   ],
   "source": [
    "print(a)\n",
    "print(b)\n",
    "print(c)"
   ]
  },
  {
   "cell_type": "code",
   "execution_count": 49,
   "id": "bba55316-4ec2-40b8-be9b-edde66f3d1bf",
   "metadata": {},
   "outputs": [],
   "source": [
    "a1={1,2,3,4,5,6,7,8,9}\n",
    "b1={4,5,6,7,8}\n",
    "c1={10,20,30,40}"
   ]
  },
  {
   "cell_type": "code",
   "execution_count": 51,
   "id": "6e85706f-2350-49a7-8e23-516947a30def",
   "metadata": {},
   "outputs": [
    {
     "name": "stdout",
     "output_type": "stream",
     "text": [
      "{1, 2, 3, 4, 5, 6, 7, 8, 9}\n",
      "{4, 5, 6, 7, 8}\n",
      "{40, 10, 20, 30}\n"
     ]
    }
   ],
   "source": [
    "print(a1)\n",
    "print(b1)\n",
    "print(c1)"
   ]
  },
  {
   "cell_type": "code",
   "execution_count": 54,
   "id": "ef5d83b6-708c-4ad0-8994-b1a24ae04e4c",
   "metadata": {},
   "outputs": [
    {
     "data": {
      "text/plain": [
       "True"
      ]
     },
     "execution_count": 54,
     "metadata": {},
     "output_type": "execute_result"
    }
   ],
   "source": [
    "b1.issubset(a1)"
   ]
  },
  {
   "cell_type": "code",
   "execution_count": 56,
   "id": "31eaaaec-1878-4e78-a075-9ee55e1428bf",
   "metadata": {},
   "outputs": [
    {
     "data": {
      "text/plain": [
       "True"
      ]
     },
     "execution_count": 56,
     "metadata": {},
     "output_type": "execute_result"
    }
   ],
   "source": [
    "a1.issuperset(b1)"
   ]
  },
  {
   "cell_type": "code",
   "execution_count": 58,
   "id": "57f0f7e1-9085-40c8-8c3a-e48f2cb0a354",
   "metadata": {},
   "outputs": [
    {
     "data": {
      "text/plain": [
       "True"
      ]
     },
     "execution_count": 58,
     "metadata": {},
     "output_type": "execute_result"
    }
   ],
   "source": [
    "c1.isdisjoint(a1)"
   ]
  },
  {
   "cell_type": "code",
   "execution_count": 60,
   "id": "1e052c2b-3fa2-43f5-a261-a6ccc40151d7",
   "metadata": {},
   "outputs": [
    {
     "data": {
      "text/plain": [
       "True"
      ]
     },
     "execution_count": 60,
     "metadata": {},
     "output_type": "execute_result"
    }
   ],
   "source": [
    "c1.isdisjoint(b1)"
   ]
  },
  {
   "cell_type": "code",
   "execution_count": 62,
   "id": "1e72f731-61f7-411b-8129-1c831308b44d",
   "metadata": {},
   "outputs": [],
   "source": [
    "a2={15,25,35,45}\n",
    "b2={3,4,5,6,7,8}\n",
    "c2={10,20,30,40}"
   ]
  },
  {
   "cell_type": "code",
   "execution_count": 64,
   "id": "8dc7b4d7-4574-40a8-8e64-5b091190df2c",
   "metadata": {},
   "outputs": [
    {
     "name": "stdout",
     "output_type": "stream",
     "text": [
      "{25, 35, 45, 15}\n",
      "{3, 4, 5, 6, 7, 8}\n",
      "{40, 10, 20, 30}\n"
     ]
    }
   ],
   "source": [
    "print(a2)\n",
    "print(b2)\n",
    "print(c2)"
   ]
  },
  {
   "cell_type": "code",
   "execution_count": 66,
   "id": "0a5b034b-d109-4c06-88a5-b7f70e5fc1c4",
   "metadata": {},
   "outputs": [
    {
     "data": {
      "text/plain": [
       "False"
      ]
     },
     "execution_count": 66,
     "metadata": {},
     "output_type": "execute_result"
    }
   ],
   "source": [
    "b2.issubset(a2)"
   ]
  },
  {
   "cell_type": "code",
   "execution_count": 68,
   "id": "46a0f142-f0ae-4cad-ad96-743744f45191",
   "metadata": {},
   "outputs": [
    {
     "data": {
      "text/plain": [
       "False"
      ]
     },
     "execution_count": 68,
     "metadata": {},
     "output_type": "execute_result"
    }
   ],
   "source": [
    "a2.issuperset(b2)"
   ]
  },
  {
   "cell_type": "code",
   "execution_count": 70,
   "id": "5eadd087-1aa4-4520-9c0f-2f64c868558a",
   "metadata": {},
   "outputs": [
    {
     "data": {
      "text/plain": [
       "True"
      ]
     },
     "execution_count": 70,
     "metadata": {},
     "output_type": "execute_result"
    }
   ],
   "source": [
    "c2.isdisjoint(a2)"
   ]
  },
  {
   "cell_type": "code",
   "execution_count": 72,
   "id": "d964aef8-65b3-4eda-a278-dc87dfb37921",
   "metadata": {},
   "outputs": [
    {
     "data": {
      "text/plain": [
       "True"
      ]
     },
     "execution_count": 72,
     "metadata": {},
     "output_type": "execute_result"
    }
   ],
   "source": [
    "c2.isdisjoint(b2)"
   ]
  },
  {
   "cell_type": "markdown",
   "id": "ee2b1912-79d5-4d23-9415-004356f21012",
   "metadata": {},
   "source": [
    "Dictionary"
   ]
  },
  {
   "cell_type": "code",
   "execution_count": 75,
   "id": "10a2a5bf-a071-4f88-899a-ec87761f7bf8",
   "metadata": {},
   "outputs": [
    {
     "data": {
      "text/plain": [
       "{}"
      ]
     },
     "execution_count": 75,
     "metadata": {},
     "output_type": "execute_result"
    }
   ],
   "source": [
    "d={}\n",
    "d"
   ]
  },
  {
   "cell_type": "code",
   "execution_count": 79,
   "id": "1ad19d3c-5766-45e0-9283-c182ec442073",
   "metadata": {},
   "outputs": [
    {
     "data": {
      "text/plain": [
       "dict"
      ]
     },
     "execution_count": 79,
     "metadata": {},
     "output_type": "execute_result"
    }
   ],
   "source": [
    "type(d)"
   ]
  },
  {
   "cell_type": "code",
   "execution_count": 81,
   "id": "63d14056-37b4-4e48-a5cd-184fb1bd02cd",
   "metadata": {},
   "outputs": [
    {
     "data": {
      "text/plain": [
       "{1: 'one', 2: 'two', 3: 'three'}"
      ]
     },
     "execution_count": 81,
     "metadata": {},
     "output_type": "execute_result"
    }
   ],
   "source": [
    "d1={ 1: 'one', 2: 'two', 3: 'three'}\n",
    "d1"
   ]
  },
  {
   "cell_type": "code",
   "execution_count": 83,
   "id": "de17127e-10c5-456d-af4a-78621f0ad417",
   "metadata": {},
   "outputs": [
    {
     "data": {
      "text/plain": [
       "{'one': 1, 'two': 2, 'three': 3}"
      ]
     },
     "execution_count": 83,
     "metadata": {},
     "output_type": "execute_result"
    }
   ],
   "source": [
    "d2={ 'one': 1, 'two': 2, 'three': 3}\n",
    "d2"
   ]
  },
  {
   "cell_type": "code",
   "execution_count": 85,
   "id": "2131eb48-0458-4888-a811-6ef8bf60a867",
   "metadata": {},
   "outputs": [
    {
     "data": {
      "text/plain": [
       "dict_keys(['one', 'two', 'three'])"
      ]
     },
     "execution_count": 85,
     "metadata": {},
     "output_type": "execute_result"
    }
   ],
   "source": [
    "d2.keys()"
   ]
  },
  {
   "cell_type": "code",
   "execution_count": 87,
   "id": "094b1633-622b-4ce3-94d2-a48b5b9e4f6b",
   "metadata": {},
   "outputs": [
    {
     "data": {
      "text/plain": [
       "dict_values([1, 2, 3])"
      ]
     },
     "execution_count": 87,
     "metadata": {},
     "output_type": "execute_result"
    }
   ],
   "source": [
    "d2.values()"
   ]
  },
  {
   "cell_type": "code",
   "execution_count": 89,
   "id": "b6e9adce-1122-45c9-8517-2278c3ebfc4e",
   "metadata": {},
   "outputs": [
    {
     "data": {
      "text/plain": [
       "3"
      ]
     },
     "execution_count": 89,
     "metadata": {},
     "output_type": "execute_result"
    }
   ],
   "source": [
    "len(d2)"
   ]
  },
  {
   "cell_type": "code",
   "execution_count": null,
   "id": "b9e773ad-86fa-4ded-8462-9336fe561eeb",
   "metadata": {},
   "outputs": [],
   "source": []
  }
 ],
 "metadata": {
  "kernelspec": {
   "display_name": "Python 3 (ipykernel)",
   "language": "python",
   "name": "python3"
  },
  "language_info": {
   "codemirror_mode": {
    "name": "ipython",
    "version": 3
   },
   "file_extension": ".py",
   "mimetype": "text/x-python",
   "name": "python",
   "nbconvert_exporter": "python",
   "pygments_lexer": "ipython3",
   "version": "3.12.7"
  }
 },
 "nbformat": 4,
 "nbformat_minor": 5
}
