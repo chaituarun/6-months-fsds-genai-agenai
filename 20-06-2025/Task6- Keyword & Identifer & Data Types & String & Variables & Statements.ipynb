{
 "cells": [
  {
   "cell_type": "code",
   "execution_count": 3,
   "id": "e0894bc5-579c-4a3f-bbc9-8efcb6542607",
   "metadata": {},
   "outputs": [],
   "source": [
    "import sys \n",
    "import keyword \n",
    "import operator \n",
    "from datetime import datetime \n",
    "import os "
   ]
  },
  {
   "cell_type": "markdown",
   "id": "581cb388-32b6-4b19-9c26-e3459f1d97b3",
   "metadata": {},
   "source": [
    "keyword"
   ]
  },
  {
   "cell_type": "code",
   "execution_count": 5,
   "id": "c3a8c4ef-49d9-4a23-8771-a360a7329195",
   "metadata": {},
   "outputs": [
    {
     "name": "stdout",
     "output_type": "stream",
     "text": [
      "['False', 'None', 'True', 'and', 'as', 'assert', 'async', 'await', 'break', 'class', 'continue', 'def', 'del', 'elif', 'else', 'except', 'finally', 'for', 'from', 'global', 'if', 'import', 'in', 'is', 'lambda', 'nonlocal', 'not', 'or', 'pass', 'raise', 'return', 'try', 'while', 'with', 'yield']\n"
     ]
    }
   ],
   "source": [
    "print(keyword.kwlist)"
   ]
  },
  {
   "cell_type": "code",
   "execution_count": 7,
   "id": "8931c8bb-339a-45da-89d8-c7885b170220",
   "metadata": {},
   "outputs": [
    {
     "data": {
      "text/plain": [
       "35"
      ]
     },
     "execution_count": 7,
     "metadata": {},
     "output_type": "execute_result"
    }
   ],
   "source": [
    "len(keyword.kwlist)"
   ]
  },
  {
   "cell_type": "markdown",
   "id": "c748e4ad-6701-4672-b085-3bd22db5d2c7",
   "metadata": {},
   "source": [
    "Identifiers"
   ]
  },
  {
   "cell_type": "code",
   "execution_count": 9,
   "id": "ac5972c7-bddb-4050-b3f1-2381f506c1cb",
   "metadata": {},
   "outputs": [
    {
     "ename": "SyntaxError",
     "evalue": "invalid decimal literal (1521661254.py, line 1)",
     "output_type": "error",
     "traceback": [
      "\u001b[1;36m  Cell \u001b[1;32mIn[9], line 1\u001b[1;36m\u001b[0m\n\u001b[1;33m    1var=10\u001b[0m\n\u001b[1;37m    ^\u001b[0m\n\u001b[1;31mSyntaxError\u001b[0m\u001b[1;31m:\u001b[0m invalid decimal literal\n"
     ]
    }
   ],
   "source": [
    "1var=10"
   ]
  },
  {
   "cell_type": "code",
   "execution_count": 11,
   "id": "47c3301b-a8f8-4973-a7fd-3fa5b0a5fd3f",
   "metadata": {
    "scrolled": true
   },
   "outputs": [
    {
     "ename": "NameError",
     "evalue": "name 'val2' is not defined",
     "output_type": "error",
     "traceback": [
      "\u001b[1;31m---------------------------------------------------------------------------\u001b[0m",
      "\u001b[1;31mNameError\u001b[0m                                 Traceback (most recent call last)",
      "Cell \u001b[1;32mIn[11], line 1\u001b[0m\n\u001b[1;32m----> 1\u001b[0m val2\u001b[38;5;241m@\u001b[39m\u001b[38;5;241m=\u001b[39m\u001b[38;5;241m35\u001b[39m\n",
      "\u001b[1;31mNameError\u001b[0m: name 'val2' is not defined"
     ]
    }
   ],
   "source": [
    "val2@=35"
   ]
  },
  {
   "cell_type": "code",
   "execution_count": 13,
   "id": "d72190fa-d35a-45f6-b028-68f7ecc41119",
   "metadata": {},
   "outputs": [],
   "source": [
    "val2=10"
   ]
  },
  {
   "cell_type": "code",
   "execution_count": 15,
   "id": "4a8f7b49-858f-49de-ae5b-bf5f7bcd626a",
   "metadata": {},
   "outputs": [],
   "source": [
    "val_=99"
   ]
  },
  {
   "cell_type": "code",
   "execution_count": 17,
   "id": "0231e298-2f77-4e9d-8726-5f490b51dd16",
   "metadata": {},
   "outputs": [
    {
     "data": {
      "text/plain": [
       "10"
      ]
     },
     "execution_count": 17,
     "metadata": {},
     "output_type": "execute_result"
    }
   ],
   "source": [
    "val1=10\n",
    "val1"
   ]
  },
  {
   "cell_type": "markdown",
   "id": "d77eff14-f4a1-45c7-96d4-26c2264e4320",
   "metadata": {},
   "source": [
    "Statements"
   ]
  },
  {
   "cell_type": "code",
   "execution_count": 23,
   "id": "89dca555-82c3-4d98-bd98-89c7d1e5ed1c",
   "metadata": {},
   "outputs": [
    {
     "data": {
      "text/plain": [
       "(20, int, '0x7ff85baf2c18')"
      ]
     },
     "execution_count": 23,
     "metadata": {},
     "output_type": "execute_result"
    }
   ],
   "source": [
    "p=20\n",
    "q=20\n",
    "r=p\n",
    "p,type(p),hex(id(p))"
   ]
  },
  {
   "cell_type": "code",
   "execution_count": 25,
   "id": "040e3580-e3e8-4913-b0c1-b5490bab0973",
   "metadata": {},
   "outputs": [
    {
     "data": {
      "text/plain": [
       "(20, int, '0x7ff85baf2c18')"
      ]
     },
     "execution_count": 25,
     "metadata": {},
     "output_type": "execute_result"
    }
   ],
   "source": [
    "q,type(q),hex(id(q))"
   ]
  },
  {
   "cell_type": "code",
   "execution_count": 28,
   "id": "f0dc9cad-f76d-41f1-ac75-4335c714b50f",
   "metadata": {},
   "outputs": [
    {
     "data": {
      "text/plain": [
       "(20, int, '0x7ff85baf2c18')"
      ]
     },
     "execution_count": 28,
     "metadata": {},
     "output_type": "execute_result"
    }
   ],
   "source": [
    "r,type(r),hex(id(r))"
   ]
  },
  {
   "cell_type": "code",
   "execution_count": 32,
   "id": "2bfae854-f725-42c1-86df-3432ca8ee9ff",
   "metadata": {},
   "outputs": [
    {
     "data": {
      "text/plain": [
       "30"
      ]
     },
     "execution_count": 32,
     "metadata": {},
     "output_type": "execute_result"
    }
   ],
   "source": [
    "p=20\n",
    "p=p+10\n",
    "p"
   ]
  },
  {
   "cell_type": "markdown",
   "id": "20c92fff-7a27-4937-af3e-c5e244588dcd",
   "metadata": {},
   "source": [
    "Variables"
   ]
  },
  {
   "cell_type": "code",
   "execution_count": 38,
   "id": "886e9981-0768-41a0-9822-91e8282bddc3",
   "metadata": {},
   "outputs": [
    {
     "data": {
      "text/plain": [
       "10"
      ]
     },
     "execution_count": 38,
     "metadata": {},
     "output_type": "execute_result"
    }
   ],
   "source": [
    "intvar=10\n",
    "intvar"
   ]
  },
  {
   "cell_type": "code",
   "execution_count": 40,
   "id": "526c5b85-6445-496c-b98a-50063a3439b8",
   "metadata": {},
   "outputs": [
    {
     "data": {
      "text/plain": [
       "2.57"
      ]
     },
     "execution_count": 40,
     "metadata": {},
     "output_type": "execute_result"
    }
   ],
   "source": [
    "floatvar=2.57\n",
    "floatvar"
   ]
  },
  {
   "cell_type": "code",
   "execution_count": 42,
   "id": "b0fad56e-9619-4de4-acb2-5d014382d1ad",
   "metadata": {},
   "outputs": [
    {
     "data": {
      "text/plain": [
       "'Python Language'"
      ]
     },
     "execution_count": 42,
     "metadata": {},
     "output_type": "execute_result"
    }
   ],
   "source": [
    "strvar= \"Python Language\"\n",
    "strvar"
   ]
  },
  {
   "cell_type": "code",
   "execution_count": 48,
   "id": "7bb1cfa3-3ba9-437d-9157-c5327212b127",
   "metadata": {},
   "outputs": [
    {
     "name": "stdout",
     "output_type": "stream",
     "text": [
      "10\n",
      "2.57\n",
      "Python Language\n"
     ]
    }
   ],
   "source": [
    "print(intvar)\n",
    "print(floatvar)\n",
    "print(strvar)"
   ]
  },
  {
   "cell_type": "raw",
   "id": "a6b80b2c-87ac-4087-8220-8c24f44238e4",
   "metadata": {},
   "source": [
    "intvar, floatvar, strvar =10,2.57, \"Python Language\""
   ]
  },
  {
   "cell_type": "code",
   "execution_count": 50,
   "id": "ba8c30d3-9732-4ba7-a024-474c2c8c7f7c",
   "metadata": {},
   "outputs": [
    {
     "name": "stdout",
     "output_type": "stream",
     "text": [
      "10\n",
      "2.57\n",
      "Python Language\n"
     ]
    }
   ],
   "source": [
    "print(intvar)\n",
    "print(floatvar)\n",
    "print(strvar)"
   ]
  },
  {
   "cell_type": "code",
   "execution_count": 56,
   "id": "38bc40d2-f6ca-4d51-a647-b88c027e25f5",
   "metadata": {},
   "outputs": [
    {
     "name": "stdout",
     "output_type": "stream",
     "text": [
      "44 44 44 44\n"
     ]
    }
   ],
   "source": [
    "p1=p2=p3=p4=44\n",
    "print(p1,p2,p3,p4)"
   ]
  },
  {
   "cell_type": "markdown",
   "id": "2f41f04e-37bf-4db7-b3b2-3aaea097d9ce",
   "metadata": {},
   "source": [
    "Datatypes"
   ]
  },
  {
   "cell_type": "code",
   "execution_count": 85,
   "id": "c88bc00d-5843-47bb-a63b-0cb282d5126a",
   "metadata": {},
   "outputs": [
    {
     "name": "stdout",
     "output_type": "stream",
     "text": [
      "120\n",
      "<class 'int'>\n",
      "28\n",
      "120  is Integer? True\n"
     ]
    }
   ],
   "source": [
    "val1=120\n",
    "a=1+2j\n",
    "print(val1)\n",
    "print(type(val1))\n",
    "print(sys.getsizeof(val1))\n",
    "print(val1, \" is Integer?\", isinstance(val1, int))"
   ]
  },
  {
   "cell_type": "code",
   "execution_count": 99,
   "id": "ff3a7a5d-0a1f-422f-85a3-68d99b8fa449",
   "metadata": {},
   "outputs": [
    {
     "name": "stdout",
     "output_type": "stream",
     "text": [
      "9.75\n",
      "<class 'float'>\n",
      "24\n",
      "9.75  is Integer? False\n"
     ]
    }
   ],
   "source": [
    "val2=92.7l\n",
    "print(val2)\n",
    "print(type(val2))\n",
    "print(sys.getsizeof(val2))\n",
    "print(val2, \" is float?\", isinstance(val2,float))"
   ]
  },
  {
   "cell_type": "code",
   "execution_count": 105,
   "id": "fa12b3cd-9150-468d-9848-7484524c7d3f",
   "metadata": {},
   "outputs": [
    {
     "name": "stdout",
     "output_type": "stream",
     "text": [
      "(25+10j)\n",
      "<class 'complex'>\n",
      "32\n",
      "(25+10j)  is complex? True\n"
     ]
    }
   ],
   "source": [
    "val3=25+10j\n",
    "print(val3)\n",
    "print(type(val3))\n",
    "print(sys.getsizeof(val3))\n",
    "print(val3, \" is complex?\", isinstance(val3, complex))"
   ]
  },
  {
   "cell_type": "code",
   "execution_count": 107,
   "id": "17b51a59-a28e-46df-92ec-783f37ff1f92",
   "metadata": {},
   "outputs": [
    {
     "data": {
      "text/plain": [
       "28"
      ]
     },
     "execution_count": 107,
     "metadata": {},
     "output_type": "execute_result"
    }
   ],
   "source": [
    "sys.getsizeof(int())"
   ]
  },
  {
   "cell_type": "code",
   "execution_count": 109,
   "id": "20ccfce6-e926-4d38-b3bd-8dac5067c68c",
   "metadata": {},
   "outputs": [
    {
     "data": {
      "text/plain": [
       "24"
      ]
     },
     "execution_count": 109,
     "metadata": {},
     "output_type": "execute_result"
    }
   ],
   "source": [
    "sys.getsizeof(float())"
   ]
  },
  {
   "cell_type": "code",
   "execution_count": 111,
   "id": "8e3884ae-5450-49e6-a8ed-d17a604c28b9",
   "metadata": {},
   "outputs": [
    {
     "data": {
      "text/plain": [
       "32"
      ]
     },
     "execution_count": 111,
     "metadata": {},
     "output_type": "execute_result"
    }
   ],
   "source": [
    "sys.getsizeof(complex())"
   ]
  },
  {
   "cell_type": "code",
   "execution_count": 115,
   "id": "68520057-b3ee-4423-a25e-ee5206ab052e",
   "metadata": {},
   "outputs": [
    {
     "name": "stdout",
     "output_type": "stream",
     "text": [
      "<class 'bool'>\n"
     ]
    }
   ],
   "source": [
    "bool1=True\n",
    "bool2=False\n",
    "print(type(bool1))"
   ]
  },
  {
   "cell_type": "code",
   "execution_count": 117,
   "id": "5b9aee74-c66d-453a-9c2d-0b3a563a52d4",
   "metadata": {},
   "outputs": [
    {
     "name": "stdout",
     "output_type": "stream",
     "text": [
      "<class 'bool'>\n"
     ]
    }
   ],
   "source": [
    "print(type(bool2))"
   ]
  },
  {
   "cell_type": "code",
   "execution_count": 119,
   "id": "7df19ad9-8efd-4777-86d9-89a39d393744",
   "metadata": {},
   "outputs": [
    {
     "data": {
      "text/plain": [
       "True"
      ]
     },
     "execution_count": 119,
     "metadata": {},
     "output_type": "execute_result"
    }
   ],
   "source": [
    "isinstance(bool1,bool)"
   ]
  },
  {
   "cell_type": "code",
   "execution_count": 123,
   "id": "730bdba2-052a-42e3-8e99-2fe4b612c432",
   "metadata": {},
   "outputs": [
    {
     "data": {
      "text/plain": [
       "False"
      ]
     },
     "execution_count": 123,
     "metadata": {},
     "output_type": "execute_result"
    }
   ],
   "source": [
    "bool(0)"
   ]
  },
  {
   "cell_type": "code",
   "execution_count": 125,
   "id": "18e4fa92-9d08-41ac-9420-88eb045743c4",
   "metadata": {},
   "outputs": [
    {
     "data": {
      "text/plain": [
       "True"
      ]
     },
     "execution_count": 125,
     "metadata": {},
     "output_type": "execute_result"
    }
   ],
   "source": [
    "bool(1)"
   ]
  },
  {
   "cell_type": "code",
   "execution_count": 129,
   "id": "08d53207-321d-4a61-843d-d4ea7d2fe8a0",
   "metadata": {},
   "outputs": [
    {
     "data": {
      "text/plain": [
       "False"
      ]
     },
     "execution_count": 129,
     "metadata": {},
     "output_type": "execute_result"
    }
   ],
   "source": [
    "bool(None)"
   ]
  },
  {
   "cell_type": "code",
   "execution_count": 131,
   "id": "38186497-9ff9-4b30-b531-acecfb4efd99",
   "metadata": {},
   "outputs": [
    {
     "data": {
      "text/plain": [
       "True"
      ]
     },
     "execution_count": 131,
     "metadata": {},
     "output_type": "execute_result"
    }
   ],
   "source": [
    "bool(True)"
   ]
  },
  {
   "cell_type": "code",
   "execution_count": 133,
   "id": "92164097-91e1-4320-bf91-d5619a611869",
   "metadata": {},
   "outputs": [
    {
     "data": {
      "text/plain": [
       "False"
      ]
     },
     "execution_count": 133,
     "metadata": {},
     "output_type": "execute_result"
    }
   ],
   "source": [
    "bool(False)"
   ]
  },
  {
   "cell_type": "markdown",
   "id": "b27e3774-356f-4ff8-9e26-e087ac5ad4e6",
   "metadata": {},
   "source": [
    "Strings"
   ]
  },
  {
   "cell_type": "code",
   "execution_count": 135,
   "id": "6be710bc-0b9f-470f-a004-c3194ddd7963",
   "metadata": {
    "scrolled": true
   },
   "outputs": [
    {
     "name": "stdout",
     "output_type": "stream",
     "text": [
      "hello python\n"
     ]
    }
   ],
   "source": [
    "str1= \"hello python\"\n",
    "print(str1)"
   ]
  },
  {
   "cell_type": "code",
   "execution_count": 137,
   "id": "34c7a28b-14cf-43f0-af03-48cc5aafcff7",
   "metadata": {},
   "outputs": [
    {
     "name": "stdout",
     "output_type": "stream",
     "text": [
      "hello world\n"
     ]
    }
   ],
   "source": [
    "mystr=\"hello world\"\n",
    "print(mystr)"
   ]
  },
  {
   "cell_type": "code",
   "execution_count": 145,
   "id": "b7079ac3-0b10-417e-8a26-37003ae67827",
   "metadata": {},
   "outputs": [
    {
     "name": "stdout",
     "output_type": "stream",
     "text": [
      "hello world\n"
     ]
    }
   ],
   "source": [
    "mystr='''hello \n",
    "          world'''\n",
    "print(mystr)"
   ]
  },
  {
   "cell_type": "code",
   "execution_count": 149,
   "id": "4b3a7503-ad23-4199-9fa1-051545f16bc8",
   "metadata": {},
   "outputs": [
    {
     "name": "stdout",
     "output_type": "stream",
     "text": [
      "hello \n",
      "          world\n"
     ]
    }
   ],
   "source": [
    "mystr=\"\"\"hello \n",
    "          world\"\"\"\n",
    "print(mystr)"
   ]
  },
  {
   "cell_type": "code",
   "execution_count": 158,
   "id": "4f50b4cd-4398-4a23-bee5-a3d2d1e0d2cb",
   "metadata": {},
   "outputs": [
    {
     "name": "stdout",
     "output_type": "stream",
     "text": [
      " happy monday everyone\n"
     ]
    }
   ],
   "source": [
    "mystr=( ' happy'\n",
    "          ' monday'\n",
    "         ' everyone')\n",
    "print(mystr)"
   ]
  },
  {
   "cell_type": "code",
   "execution_count": 164,
   "id": "fe0ceb2c-6ad3-482b-a2f6-c5e283e8dc57",
   "metadata": {},
   "outputs": [
    {
     "name": "stdout",
     "output_type": "stream",
     "text": [
      " woohoo woohoo woohoo woohoo woohoo\n"
     ]
    }
   ],
   "source": [
    "mystr2=' woohoo'\n",
    "mystr2=mystr2 * 5\n",
    "print(mystr2)"
   ]
  },
  {
   "cell_type": "code",
   "execution_count": 166,
   "id": "29cd4236-2a82-4209-8756-5a55ffe2449d",
   "metadata": {},
   "outputs": [
    {
     "data": {
      "text/plain": [
       "35"
      ]
     },
     "execution_count": 166,
     "metadata": {},
     "output_type": "execute_result"
    }
   ],
   "source": [
    "len(mystr2)"
   ]
  },
  {
   "cell_type": "markdown",
   "id": "83ca31e7-3132-4f71-8b57-5799d55d5e0d",
   "metadata": {},
   "source": [
    "string indexing"
   ]
  },
  {
   "cell_type": "code",
   "execution_count": 168,
   "id": "0464df83-0a37-4e69-ad7c-b3f7ba0be876",
   "metadata": {},
   "outputs": [
    {
     "data": {
      "text/plain": [
       "'hello python'"
      ]
     },
     "execution_count": 168,
     "metadata": {},
     "output_type": "execute_result"
    }
   ],
   "source": [
    "str1='hello python'\n",
    "str1"
   ]
  },
  {
   "cell_type": "code",
   "execution_count": 170,
   "id": "8a1aaa36-d4d5-4aa8-8541-dda6104cf6c2",
   "metadata": {},
   "outputs": [
    {
     "data": {
      "text/plain": [
       "'h'"
      ]
     },
     "execution_count": 170,
     "metadata": {},
     "output_type": "execute_result"
    }
   ],
   "source": [
    "str1[0]"
   ]
  },
  {
   "cell_type": "code",
   "execution_count": 174,
   "id": "da3636a8-ef5f-45d8-9b2a-cc8753b03b52",
   "metadata": {},
   "outputs": [
    {
     "data": {
      "text/plain": [
       "'n'"
      ]
     },
     "execution_count": 174,
     "metadata": {},
     "output_type": "execute_result"
    }
   ],
   "source": [
    "str1[len(str1)-1]"
   ]
  },
  {
   "cell_type": "code",
   "execution_count": 176,
   "id": "f3e4699a-04b1-40e7-b7c4-8e83f14a09cd",
   "metadata": {},
   "outputs": [
    {
     "data": {
      "text/plain": [
       "'n'"
      ]
     },
     "execution_count": 176,
     "metadata": {},
     "output_type": "execute_result"
    }
   ],
   "source": [
    "str1[-1]"
   ]
  },
  {
   "cell_type": "code",
   "execution_count": 178,
   "id": "6144a8e9-3b7c-4c73-81dc-72f1a93d1d9a",
   "metadata": {},
   "outputs": [
    {
     "data": {
      "text/plain": [
       "' '"
      ]
     },
     "execution_count": 178,
     "metadata": {},
     "output_type": "execute_result"
    }
   ],
   "source": [
    "str1[5]"
   ]
  },
  {
   "cell_type": "code",
   "execution_count": 180,
   "id": "968e1b45-7e64-43f8-a2a1-e4a9dc7baf5a",
   "metadata": {},
   "outputs": [
    {
     "data": {
      "text/plain": [
       "'p'"
      ]
     },
     "execution_count": 180,
     "metadata": {},
     "output_type": "execute_result"
    }
   ],
   "source": [
    "str1[6]"
   ]
  },
  {
   "cell_type": "markdown",
   "id": "139beeb0-a56b-4234-8a09-d169ea8d21a7",
   "metadata": {},
   "source": [
    "string slicing"
   ]
  },
  {
   "cell_type": "code",
   "execution_count": 182,
   "id": "d2b29014-90e5-4b90-b96d-78336c98d411",
   "metadata": {},
   "outputs": [
    {
     "data": {
      "text/plain": [
       "'hello'"
      ]
     },
     "execution_count": 182,
     "metadata": {},
     "output_type": "execute_result"
    }
   ],
   "source": [
    "str1[0:5]"
   ]
  },
  {
   "cell_type": "code",
   "execution_count": 184,
   "id": "4514595a-0b6d-467d-84ce-7e321e804cbd",
   "metadata": {},
   "outputs": [
    {
     "data": {
      "text/plain": [
       "'python'"
      ]
     },
     "execution_count": 184,
     "metadata": {},
     "output_type": "execute_result"
    }
   ],
   "source": [
    "str1[6:12]"
   ]
  },
  {
   "cell_type": "code",
   "execution_count": 188,
   "id": "b38de876-19ae-40a2-b532-2c21665b163b",
   "metadata": {},
   "outputs": [
    {
     "data": {
      "text/plain": [
       "'thon'"
      ]
     },
     "execution_count": 188,
     "metadata": {},
     "output_type": "execute_result"
    }
   ],
   "source": [
    "str1[-4:]"
   ]
  },
  {
   "cell_type": "code",
   "execution_count": 190,
   "id": "7e22880d-4816-4804-bd52-0c1e9e32e404",
   "metadata": {},
   "outputs": [
    {
     "data": {
      "text/plain": [
       "'python'"
      ]
     },
     "execution_count": 190,
     "metadata": {},
     "output_type": "execute_result"
    }
   ],
   "source": [
    "str1[-6:]"
   ]
  },
  {
   "cell_type": "code",
   "execution_count": 193,
   "id": "20d22eea-c85d-452f-8e28-d0bb474a3238",
   "metadata": {},
   "outputs": [
    {
     "data": {
      "text/plain": [
       "'hell'"
      ]
     },
     "execution_count": 193,
     "metadata": {},
     "output_type": "execute_result"
    }
   ],
   "source": [
    "str1[:4]"
   ]
  },
  {
   "cell_type": "code",
   "execution_count": 195,
   "id": "a0313ec4-af16-4b83-ac1d-35b7cb56a9d6",
   "metadata": {},
   "outputs": [
    {
     "data": {
      "text/plain": [
       "'hello '"
      ]
     },
     "execution_count": 195,
     "metadata": {},
     "output_type": "execute_result"
    }
   ],
   "source": [
    "str1[:-6]"
   ]
  },
  {
   "cell_type": "markdown",
   "id": "a9ed643d-e425-4db4-b1b9-84adb79f11e0",
   "metadata": {},
   "source": [
    "string ConCatenation"
   ]
  },
  {
   "cell_type": "code",
   "execution_count": 199,
   "id": "4d8ca859-a2a3-47e5-9a43-aef60ca9d55c",
   "metadata": {},
   "outputs": [
    {
     "name": "stdout",
     "output_type": "stream",
     "text": [
      "HELLO ASIF\n"
     ]
    }
   ],
   "source": [
    "s1=\"HELLO\"\n",
    "s2=\" ASIF\"\n",
    "s3=s1+s2\n",
    "print(s3)"
   ]
  },
  {
   "cell_type": "code",
   "execution_count": null,
   "id": "fd34777a-6c7b-4d91-9054-e51c50432017",
   "metadata": {},
   "outputs": [],
   "source": []
  }
 ],
 "metadata": {
  "kernelspec": {
   "display_name": "Python 3 (ipykernel)",
   "language": "python",
   "name": "python3"
  },
  "language_info": {
   "codemirror_mode": {
    "name": "ipython",
    "version": 3
   },
   "file_extension": ".py",
   "mimetype": "text/x-python",
   "name": "python",
   "nbconvert_exporter": "python",
   "pygments_lexer": "ipython3",
   "version": "3.12.7"
  }
 },
 "nbformat": 4,
 "nbformat_minor": 5
}
