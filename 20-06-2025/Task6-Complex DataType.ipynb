{
 "cells": [
  {
   "cell_type": "code",
   "execution_count": 3,
   "id": "493dfc33-c207-43ee-a9e0-529690dd30d1",
   "metadata": {},
   "outputs": [
    {
     "name": "stdout",
     "output_type": "stream",
     "text": [
      "3.0\n",
      "4.0\n"
     ]
    }
   ],
   "source": [
    "z=3+4j\n",
    "print(z.real)\n",
    "print(z.imag)"
   ]
  },
  {
   "cell_type": "markdown",
   "id": "84898b40-7c2f-40b3-8dfd-55cec14f8589",
   "metadata": {},
   "source": [
    "a=3+4j\n",
    "b=1+2j\n"
   ]
  },
  {
   "cell_type": "code",
   "execution_count": 13,
   "id": "9878b833-6d5a-4974-83df-76127a12d799",
   "metadata": {},
   "outputs": [
    {
     "name": "stdout",
     "output_type": "stream",
     "text": [
      "(4+6j)\n",
      "(2+2j)\n",
      "(-5+10j)\n",
      "(2.2-0.4j)\n"
     ]
    }
   ],
   "source": [
    "print(a+b)\n",
    "print(a-b)\n",
    "print(a*b)\n",
    "print(a/b)"
   ]
  },
  {
   "cell_type": "code",
   "execution_count": 69,
   "id": "21f4cffb-6792-451f-b92a-03e48ef467bb",
   "metadata": {},
   "outputs": [
    {
     "name": "stdout",
     "output_type": "stream",
     "text": [
      "5.0\n",
      "(3-4j)\n"
     ]
    }
   ],
   "source": [
    "z=3+4j\n",
    "print(abs(z))\n",
    "z_conj=z.conjugate()\n",
    "print(z_conj)"
   ]
  },
  {
   "cell_type": "code",
   "execution_count": 41,
   "id": "878e0290-9996-4887-b38d-eee85b1de15c",
   "metadata": {},
   "outputs": [
    {
     "data": {
      "text/plain": [
       "(1+1j)"
      ]
     },
     "execution_count": 41,
     "metadata": {},
     "output_type": "execute_result"
    }
   ],
   "source": [
    "import cmath\n",
    "z=1+1j\n",
    "z"
   ]
  },
  {
   "cell_type": "code",
   "execution_count": 43,
   "id": "a0849abf-95b7-4dd3-88b7-3fbd552908e4",
   "metadata": {},
   "outputs": [
    {
     "name": "stdout",
     "output_type": "stream",
     "text": [
      "0.7853981633974483\n"
     ]
    }
   ],
   "source": [
    "print(cmath.phase(z))"
   ]
  },
  {
   "cell_type": "code",
   "execution_count": 45,
   "id": "1a0cddd0-fd8b-43af-873a-e1912cecdd7c",
   "metadata": {},
   "outputs": [
    {
     "name": "stdout",
     "output_type": "stream",
     "text": [
      "(1.4142135623730951, 0.7853981633974483)\n"
     ]
    }
   ],
   "source": [
    "print(cmath.polar(z))"
   ]
  },
  {
   "cell_type": "code",
   "execution_count": 47,
   "id": "03ae3f84-dfe2-4c15-8f22-8b32c2d18089",
   "metadata": {},
   "outputs": [
    {
     "name": "stdout",
     "output_type": "stream",
     "text": [
      "(1.09868411346781+0.45508986056222733j)\n"
     ]
    }
   ],
   "source": [
    "print(cmath.sqrt(z))"
   ]
  },
  {
   "cell_type": "code",
   "execution_count": null,
   "id": "a2d80df8-d928-46a5-9968-74af06959872",
   "metadata": {},
   "outputs": [],
   "source": []
  }
 ],
 "metadata": {
  "kernelspec": {
   "display_name": "Python 3 (ipykernel)",
   "language": "python",
   "name": "python3"
  },
  "language_info": {
   "codemirror_mode": {
    "name": "ipython",
    "version": 3
   },
   "file_extension": ".py",
   "mimetype": "text/x-python",
   "name": "python",
   "nbconvert_exporter": "python",
   "pygments_lexer": "ipython3",
   "version": "3.12.7"
  }
 },
 "nbformat": 4,
 "nbformat_minor": 5
}
