{
 "cells": [
  {
   "cell_type": "code",
   "execution_count": 1,
   "id": "84a5920e-9fb6-40d7-abac-982b90c2f113",
   "metadata": {},
   "outputs": [
    {
     "name": "stdout",
     "output_type": "stream",
     "text": [
      "5\n",
      "1\n",
      "6\n",
      "1.5\n",
      "9\n",
      "1\n",
      "1\n"
     ]
    }
   ],
   "source": [
    "print(3 + 2)\n",
    "print(3 - 2)\n",
    "print(3 * 2)\n",
    "print(3 / 2)\n",
    "print(3 ** 2)\n",
    "print(3 % 2)   \n",
    "print(3 // 2)"
   ]
  },
  {
   "cell_type": "code",
   "execution_count": 3,
   "id": "02d87bfe-d02f-4d31-8caa-a12c1f462e36",
   "metadata": {},
   "outputs": [
    {
     "name": "stdout",
     "output_type": "stream",
     "text": [
      "<class 'int'>\n",
      "<class 'float'>\n",
      "<class 'complex'>\n",
      "<class 'str'>\n",
      "<class 'list'>\n",
      "<class 'dict'>\n",
      "<class 'set'>\n",
      "<class 'tuple'>\n",
      "<class 'bool'>\n",
      "<class 'bool'>\n"
     ]
    }
   ],
   "source": [
    "print(type(10))\n",
    "print(type(3.14))\n",
    "print(type(1 + 3j))\n",
    "print(type('Asabeneh'))\n",
    "print(type([1, 2, 3]))  \n",
    "print(type({'name':'Asabeneh'}))\n",
    "print(type({9.8, 3.14, 2.7}))\n",
    "print(type((9.8, 3.14, 2.7)))\n",
    "print(type(3 == 3))\n",
    "print(type(3 >= 3))"
   ]
  },
  {
   "cell_type": "code",
   "execution_count": null,
   "id": "cca221d9-f2ca-4587-bb81-28fd0282076c",
   "metadata": {},
   "outputs": [],
   "source": []
  }
 ],
 "metadata": {
  "kernelspec": {
   "display_name": "Python 3 (ipykernel)",
   "language": "python",
   "name": "python3"
  },
  "language_info": {
   "codemirror_mode": {
    "name": "ipython",
    "version": 3
   },
   "file_extension": ".py",
   "mimetype": "text/x-python",
   "name": "python",
   "nbconvert_exporter": "python",
   "pygments_lexer": "ipython3",
   "version": "3.12.7"
  }
 },
 "nbformat": 4,
 "nbformat_minor": 5
}
